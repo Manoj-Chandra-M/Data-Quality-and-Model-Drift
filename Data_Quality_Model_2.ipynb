{
 "cells": [
  {
   "cell_type": "markdown",
   "id": "c1465c75-2f75-43a8-8b30-b24037e5858a",
   "metadata": {},
   "source": [
    "## 1) Data Quality"
   ]
  },
  {
   "cell_type": "markdown",
   "id": "1c4d146a-0f43-44f3-ba11-ef195306d8b9",
   "metadata": {},
   "source": [
    "### Model 2: campaign response from transaction data (Annual features)"
   ]
  },
  {
   "cell_type": "code",
   "execution_count": 1,
   "id": "7875a1d7-9d42-49cd-a0cd-5f4d58deff8b",
   "metadata": {},
   "outputs": [],
   "source": [
    "import pandas as pd\n",
    "import numpy as np\n",
    "import matplotlib.pyplot as plt\n",
    "import seaborn as sns\n",
    "from sklearn.model_selection import train_test_split\n",
    "from sklearn.ensemble import RandomForestClassifier"
   ]
  },
  {
   "cell_type": "code",
   "execution_count": 2,
   "id": "739bb5cd-e02b-437e-b422-c2f6c2e92aa0",
   "metadata": {},
   "outputs": [],
   "source": [
    "annual_feature_outputs = pd.read_excel('annual_feature_outputs.xlsx')"
   ]
  },
  {
   "cell_type": "code",
   "execution_count": 3,
   "id": "880f8396-8549-407c-9e0b-93d15acfad6f",
   "metadata": {},
   "outputs": [
    {
     "data": {
      "text/plain": [
       "(6884, 78)"
      ]
     },
     "execution_count": 3,
     "metadata": {},
     "output_type": "execute_result"
    }
   ],
   "source": [
    "annual_feature_outputs.shape"
   ]
  },
  {
   "cell_type": "code",
   "execution_count": 4,
   "id": "c8433a9d-e39c-43f3-94d7-b9e196da5bb8",
   "metadata": {},
   "outputs": [],
   "source": [
    "X2 = annual_feature_outputs.drop(['response','customer_id'],axis=1)\n",
    "y2 = annual_feature_outputs['response']"
   ]
  },
  {
   "cell_type": "code",
   "execution_count": 5,
   "id": "87a6544a-db4b-43d4-b19f-b6070ec03c05",
   "metadata": {},
   "outputs": [
    {
     "data": {
      "text/plain": [
       "0    6237\n",
       "1     647\n",
       "Name: response, dtype: int64"
      ]
     },
     "execution_count": 5,
     "metadata": {},
     "output_type": "execute_result"
    }
   ],
   "source": [
    "y2.value_counts()"
   ]
  },
  {
   "cell_type": "code",
   "execution_count": 6,
   "id": "b1dc21f0-93f0-4890-9ca8-65ccf51ecfa2",
   "metadata": {},
   "outputs": [
    {
     "data": {
      "text/plain": [
       "(4590, 76)"
      ]
     },
     "execution_count": 6,
     "metadata": {},
     "output_type": "execute_result"
    }
   ],
   "source": [
    "X_train_annual, X_test_annual, y_train_annual, y_test_annual = train_test_split(X2, y2, test_size=2/3, random_state=1147)\n",
    "X_test_annual.shape"
   ]
  },
  {
   "cell_type": "code",
   "execution_count": 7,
   "id": "de145ffc-d731-46c2-b2f7-eb1e35e9f6ea",
   "metadata": {},
   "outputs": [],
   "source": [
    "best_RF = RandomForestClassifier(n_estimators=25, max_depth=8, random_state=1148)"
   ]
  },
  {
   "cell_type": "code",
   "execution_count": 8,
   "id": "0c1b0872-8599-4725-a19d-d54f60159186",
   "metadata": {},
   "outputs": [
    {
     "data": {
      "text/plain": [
       "RandomForestClassifier(max_depth=8, n_estimators=25, random_state=1148)"
      ]
     },
     "execution_count": 8,
     "metadata": {},
     "output_type": "execute_result"
    }
   ],
   "source": [
    "best_RF.fit(X_train_annual, y_train_annual)"
   ]
  },
  {
   "cell_type": "code",
   "execution_count": 9,
   "id": "e665798e-23d4-4c0e-bef7-013eebc7f7d8",
   "metadata": {},
   "outputs": [
    {
     "name": "stdout",
     "output_type": "stream",
     "text": [
      "Train Mean Accuracy: 0.94\n"
     ]
    }
   ],
   "source": [
    "Train_Error_RF = best_RF.score(X_train_annual, y_train_annual)\n",
    "print('Train Mean Accuracy:', round(Train_Error_RF,2))"
   ]
  },
  {
   "cell_type": "code",
   "execution_count": 10,
   "id": "81dacb99-f466-485c-8d14-f6890cd8e3b7",
   "metadata": {},
   "outputs": [
    {
     "name": "stdout",
     "output_type": "stream",
     "text": [
      "Test Mean Accuracy: 0.9\n"
     ]
    }
   ],
   "source": [
    "Test_Error_RF = best_RF.score(X_test_annual, y_test_annual)\n",
    "print('Test Mean Accuracy:', round(Test_Error_RF,2))"
   ]
  },
  {
   "cell_type": "markdown",
   "id": "c1b1f292-2dd9-4b3f-bf27-cb02fb18ad35",
   "metadata": {},
   "source": [
    "The model does not overfit since training and test accuracy does not differ much"
   ]
  },
  {
   "cell_type": "code",
   "execution_count": 11,
   "id": "a61d465f-8821-4387-8e15-6c88ef875509",
   "metadata": {},
   "outputs": [
    {
     "data": {
      "text/plain": [
       "array([0.02111522, 0.0154174 , 0.01368346, 0.0142308 , 0.01759092,\n",
       "       0.02198845, 0.02165   , 0.01260755, 0.02524932, 0.03310669,\n",
       "       0.00920063, 0.02184858, 0.01381356, 0.01972818, 0.01725891,\n",
       "       0.01582353, 0.01424398, 0.0182593 , 0.01862307, 0.02273788,\n",
       "       0.00653178, 0.01883112, 0.01885751, 0.01459524, 0.01456663,\n",
       "       0.00865782, 0.02156197, 0.01829602, 0.05108929, 0.05646418,\n",
       "       0.01441379, 0.02090799, 0.02496033, 0.01821182, 0.01797394,\n",
       "       0.00514876, 0.00681979, 0.01195574, 0.02461415, 0.05999276,\n",
       "       0.01016457, 0.00872918, 0.01011808, 0.00490141, 0.00462566,\n",
       "       0.00287734, 0.00387401, 0.00584411, 0.00444234, 0.00296273,\n",
       "       0.00266987, 0.00312217, 0.00242134, 0.00667844, 0.0055601 ,\n",
       "       0.00555402, 0.00407201, 0.00633605, 0.00868315, 0.00773558,\n",
       "       0.00490117, 0.00788543, 0.00958262, 0.00802824, 0.00620725,\n",
       "       0.0090858 , 0.00635283, 0.00437949, 0.01666041, 0.0017262 ,\n",
       "       0.00166314, 0.00034865, 0.00151382, 0.00394977, 0.00202296,\n",
       "       0.00169197])"
      ]
     },
     "execution_count": 11,
     "metadata": {},
     "output_type": "execute_result"
    }
   ],
   "source": [
    "m = best_RF.feature_importances_\n",
    "m"
   ]
  },
  {
   "cell_type": "code",
   "execution_count": 12,
   "id": "57b4a8b2-9e4b-4547-b7df-2bb92b9783b3",
   "metadata": {},
   "outputs": [
    {
     "data": {
      "text/plain": [
       "76"
      ]
     },
     "execution_count": 12,
     "metadata": {},
     "output_type": "execute_result"
    }
   ],
   "source": [
    "m.size"
   ]
  },
  {
   "cell_type": "code",
   "execution_count": 13,
   "id": "84c2dd49-2670-4fe9-adb9-6ad3519ebd28",
   "metadata": {},
   "outputs": [],
   "source": [
    "cnt = []\n",
    "for column_name in X_train_annual.columns:\n",
    "    column = X_train_annual[column_name]\n",
    "    cnt.append(np.count_nonzero(column) / column.size * 100)  "
   ]
  },
  {
   "cell_type": "code",
   "execution_count": 14,
   "id": "eed1e1f4-50e5-4a6a-9178-a5dc2d7cd59b",
   "metadata": {},
   "outputs": [
    {
     "data": {
      "text/plain": [
       "array([99.95640802, 94.02789887, 99.1717524 , 98.38709677, 98.73583261,\n",
       "       61.76983435, 94.02789887, 99.1717524 , 98.38709677, 98.73583261,\n",
       "       61.76983435, 94.02789887, 99.1717524 , 98.38709677, 98.73583261,\n",
       "       61.76983435, 77.24498692, 93.72275501, 93.24324324, 95.2048823 ,\n",
       "       25.4141238 , 77.24498692, 93.72275501, 93.24324324, 95.2048823 ,\n",
       "       25.4141238 , 94.02789887, 99.1717524 , 98.38709677, 98.73583261,\n",
       "       61.76983435, 77.24498692, 93.72275501, 93.24324324, 95.2048823 ,\n",
       "       25.4141238 , 94.02789887, 99.1717524 , 98.38709677, 98.73583261,\n",
       "       61.76983435, 35.57105493, 33.60941587, 33.9581517 , 33.39145597,\n",
       "       35.26591107, 34.35047951, 35.91979076, 46.29468178, 48.82301656,\n",
       "       48.38709677, 47.77680907, 47.60244115, 49.25893636, 49.34612031,\n",
       "       50.26155187, 48.16913688, 50.87183958, 47.21011334, 49.04097646,\n",
       "       50.17436792, 48.16913688, 46.73060157, 49.21534438, 46.90496949,\n",
       "       49.56408021, 49.91281604, 50.        , 51.96163906, 13.81865737,\n",
       "       13.90584133, 12.03138622, 12.85963383, 12.94681779, 13.60069747,\n",
       "       12.94681779])"
      ]
     },
     "execution_count": 14,
     "metadata": {},
     "output_type": "execute_result"
    }
   ],
   "source": [
    "cnt = np.array(cnt)\n",
    "cnt"
   ]
  },
  {
   "cell_type": "code",
   "execution_count": 15,
   "id": "fba89ff9-9039-48f5-9e55-adaeca3bcd11",
   "metadata": {},
   "outputs": [
    {
     "data": {
      "text/plain": [
       "76"
      ]
     },
     "execution_count": 15,
     "metadata": {},
     "output_type": "execute_result"
    }
   ],
   "source": [
    "cnt.size"
   ]
  },
  {
   "cell_type": "markdown",
   "id": "4358cc65-3e9d-45c5-932d-ef3f20b45587",
   "metadata": {},
   "source": [
    "Plot Feature importance vs Completeness"
   ]
  },
  {
   "cell_type": "code",
   "execution_count": 16,
   "id": "4e96ed9d-a00d-4078-97a5-0bf1e6d74bd0",
   "metadata": {},
   "outputs": [
    {
     "data": {
      "text/plain": [
       "Text(0.5, 1.0, 'Semi-log plot')"
      ]
     },
     "execution_count": 16,
     "metadata": {},
     "output_type": "execute_result"
    },
    {
     "data": {
      "image/png": "[encoded data removed]",
      "text/plain": [
       "<Figure size 432x288 with 1 Axes>"
      ]
     },
     "metadata": {
      "needs_background": "light"
     },
     "output_type": "display_data"
    }
   ],
   "source": [
    "plt.plot(cnt, m, '.', color='black')\n",
    "plt.xscale(\"log\")\n",
    "plt.xlabel(\"Completeness (%) - Log scale\")\n",
    "plt.ylabel(\"Feature Importance\")\n",
    "plt.title(\"Semi-log plot\")"
   ]
  },
  {
   "cell_type": "markdown",
   "id": "eca06273-b2c0-43a9-bd05-9469888a3d47",
   "metadata": {},
   "source": [
    "In Random Forests, every feature importance is a positive value which indicates that all the features are essential for the model to make the right decision.<br>\n",
    "From the above graph we can infer that there is a strong correlation between feature importance and completeness.<br>\n",
    "Features with completeness greater than 50% contribute at higher value of feature importance.<br>\n",
    "Features with completeness less than 15% has zero or very low feature importance."
   ]
  },
  {
   "cell_type": "code",
   "execution_count": null,
   "id": "b836879c-0fc6-426d-bd51-646490b20054",
   "metadata": {},
   "outputs": [],
   "source": []
  }
 ],
 "metadata": {
  "kernelspec": {
   "display_name": "Python 3",
   "language": "python",
   "name": "python3"
  },
  "language_info": {
   "codemirror_mode": {
    "name": "ipython",
    "version": 3
   },
   "file_extension": ".py",
   "mimetype": "text/x-python",
   "name": "python",
   "nbconvert_exporter": "python",
   "pygments_lexer": "ipython3",
   "version": "3.8.8"
  }
 },
 "nbformat": 4,
 "nbformat_minor": 5
}
