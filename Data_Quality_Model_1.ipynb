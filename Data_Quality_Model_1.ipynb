{
 "cells": [
  {
   "cell_type": "markdown",
   "id": "884bdd77-0e39-40df-b15e-e6a88b6abdfe",
   "metadata": {},
   "source": [
    "## 1) Data Quality "
   ]
  },
  {
   "cell_type": "markdown",
   "id": "4e877a3a-71a6-485e-8dcd-b82d422f36f7",
   "metadata": {},
   "source": [
    "### Model 1: DFT error estimation"
   ]
  },
  {
   "cell_type": "code",
   "execution_count": 1,
   "id": "adb8018a-c389-4db9-9131-99f370517deb",
   "metadata": {},
   "outputs": [],
   "source": [
    "import pandas as pd\n",
    "import numpy as np\n",
    "import matplotlib.pyplot as plt\n",
    "import seaborn as sns\n",
    "from sklearn.model_selection import train_test_split\n",
    "from sklearn import linear_model"
   ]
  },
  {
   "cell_type": "markdown",
   "id": "ed3c6b6d-6fc3-4649-ae0a-d9ed247b1a1d",
   "metadata": {},
   "source": [
    "Import the data from data.xlsx"
   ]
  },
  {
   "cell_type": "code",
   "execution_count": 2,
   "id": "babb24f3-c98e-4062-8cbe-e4ca5d1524dd",
   "metadata": {},
   "outputs": [],
   "source": [
    "X_y = pd.read_excel('data.xlsx', index_col=None, header=None)"
   ]
  },
  {
   "cell_type": "code",
   "execution_count": 3,
   "id": "7cea6831-6953-4fc0-9ff7-7fb4bb7018cc",
   "metadata": {},
   "outputs": [
    {
     "data": {
      "text/plain": [
       "(1676, 714)"
      ]
     },
     "execution_count": 3,
     "metadata": {},
     "output_type": "execute_result"
    }
   ],
   "source": [
    "X_y.shape"
   ]
  },
  {
   "cell_type": "code",
   "execution_count": 4,
   "id": "10484f1d-855b-4a2e-95fe-0854dbbd5ae1",
   "metadata": {},
   "outputs": [
    {
     "data": {
      "text/plain": [
       "(1676, 713)"
      ]
     },
     "execution_count": 4,
     "metadata": {},
     "output_type": "execute_result"
    }
   ],
   "source": [
    "X = X_y.drop([713], axis = 1)\n",
    "y = X_y[713]\n",
    "X.shape"
   ]
  },
  {
   "cell_type": "markdown",
   "id": "5fe7b354-d64b-452e-a809-04ffa22916a4",
   "metadata": {},
   "source": [
    "Split X and Y in training and test sets"
   ]
  },
  {
   "cell_type": "code",
   "execution_count": 5,
   "id": "3da43982-74a4-4d5c-b9f1-a7da24cd6df3",
   "metadata": {},
   "outputs": [],
   "source": [
    "X_train, X_test, y_train, y_test = train_test_split(X, y, test_size=0.5, random_state=1148)"
   ]
  },
  {
   "cell_type": "markdown",
   "id": "c211d617-a81b-481c-85f8-625bad314673",
   "metadata": {},
   "source": [
    "### Create a Ridge regression model (L2 regularization)"
   ]
  },
  {
   "cell_type": "code",
   "execution_count": 6,
   "id": "6cee5cd2-6032-4618-9c03-7baffaaf2f4e",
   "metadata": {},
   "outputs": [
    {
     "data": {
      "text/plain": [
       "array([ -4.89839265,   7.60554428, -10.15527688,  -6.30229992,\n",
       "        -5.25901231,  -7.73696505,  -0.17632795,  -1.95882537,\n",
       "         0.68631834,  -2.47273955,   6.18924871,   3.2626179 ,\n",
       "        -1.0883714 ,   1.48669591,  -1.18940209,  -0.40543531,\n",
       "         0.27851357,  -0.07514877,  -2.57349829,   5.42227885,\n",
       "         2.39089493,   7.24409956,   1.41135857,   4.20499975,\n",
       "        -3.13622693,   0.19714236,  -0.35262795,  -0.40580891,\n",
       "         0.16231566,   1.10849   ,  -3.00562971,  -1.82426671,\n",
       "         1.06734488,   1.0201865 ,   1.28319069,  -0.0619229 ,\n",
       "         0.35973855,   1.23908722,   0.50182311,   2.42045022,\n",
       "        -1.68463135,  -1.68463135,  -2.14624028,   0.24443674,\n",
       "         2.03076256,   0.66004746,  -3.4422431 ,   6.19566353,\n",
       "        -3.24811689,  -1.87605917,   0.23437413,  -0.88288532,\n",
       "         2.68019315,   2.37368825,   0.53529399,   0.03783596,\n",
       "        -0.55047274,  -1.6384824 ,  -1.91731011,  -1.35124042,\n",
       "        -5.82305473,  -3.98440977,   6.38295148,   1.10004125,\n",
       "         3.44118614,   7.37987643,   6.04043152,  -6.19179856,\n",
       "        -3.85742504,   1.9549387 ,  -1.78974654,  -0.24142739,\n",
       "        -3.44373349,  -0.72605192,   0.46985607,  -4.13454922,\n",
       "        -2.53430852,  -0.36237612,  -3.30179125,   1.32215393,\n",
       "         3.80621081,  -0.44156508,  -0.54287085,  -0.29817152,\n",
       "         2.99979256,  -1.6974424 ,  -4.80910888,  -1.21515359,\n",
       "         1.97903267,  -0.04931648,   2.60783419,   0.76012054,\n",
       "        -0.52364098,   1.41261708,  -0.14398846,   1.90810269,\n",
       "        -1.17921446,  -0.8622445 ,  -0.12108456,   0.95624624])"
      ]
     },
     "execution_count": 6,
     "metadata": {},
     "output_type": "execute_result"
    }
   ],
   "source": [
    "model_L2 = linear_model.Ridge(alpha=2)\n",
    "model_L2.fit(X_train, y_train)\n",
    "m = model_L2.coef_\n",
    "m[:100]"
   ]
  },
  {
   "cell_type": "code",
   "execution_count": 7,
   "id": "5899e507-6cf6-4fb0-9cac-1e67bb3fcc19",
   "metadata": {},
   "outputs": [
    {
     "data": {
      "text/plain": [
       "713"
      ]
     },
     "execution_count": 7,
     "metadata": {},
     "output_type": "execute_result"
    }
   ],
   "source": [
    "m.size"
   ]
  },
  {
   "cell_type": "code",
   "execution_count": 8,
   "id": "316926c7-471f-44bf-8eb4-e4ab62b07a07",
   "metadata": {},
   "outputs": [],
   "source": [
    "cnt = []\n",
    "for column_name in X_train.columns:\n",
    "    column = X_train[column_name]\n",
    "    cnt.append(np.count_nonzero(column) / column.size * 100)    "
   ]
  },
  {
   "cell_type": "code",
   "execution_count": 9,
   "id": "1488bf3c-1fdb-44c1-b64b-717614f396c4",
   "metadata": {},
   "outputs": [
    {
     "data": {
      "text/plain": [
       "array([51.67064439, 95.34606205,  6.32458234, 50.95465394, 82.33890215,\n",
       "        6.08591885, 39.85680191, 36.1575179 , 45.70405728,  1.43198091,\n",
       "       32.10023866,  4.65393795,  0.59665871, 27.32696897, 36.27684964,\n",
       "       35.08353222,  1.07398568, 29.71360382,  0.71599045,  5.84725537,\n",
       "        3.69928401, 19.57040573,  3.93794749,  3.1026253 ,  2.38663484,\n",
       "       16.34844869,  9.66587112,  3.34128878,  2.50596659,  2.14797136,\n",
       "        2.14797136,  1.90930788,  8.59188544,  7.99522673,  9.30787589,\n",
       "        2.2673031 ,  2.14797136,  1.90930788,  2.50596659,  1.67064439,\n",
       "        1.78997613,  1.78997613,  1.90930788,  8.35322196,  7.15990453,\n",
       "        7.99522673,  9.06921241, 33.77088305,  9.66587112, 32.10023866,\n",
       "        8.71121718,  8.94988067, 12.64916468,  7.39856802,  8.35322196,\n",
       "        7.6372315 , 11.81384248, 18.01909308, 64.6778043 , 21.24105012,\n",
       "       17.18377088,  8.71121718, 34.12887828, 12.76849642, 11.69451074,\n",
       "       10.14319809,  4.05727924,  3.46062053, 24.34367542, 11.69451074,\n",
       "       21.83770883, 10.85918854, 18.61575179,  8.83054893,  3.22195704,\n",
       "        5.3699284 ,  6.08591885,  9.06921241,  4.29594272,  6.68257757,\n",
       "        6.56324582,  8.11455847,  2.86396181,  4.41527446,  2.62529833,\n",
       "        6.80190931,  5.84725537,  2.50596659,  3.57995227,  2.2673031 ,\n",
       "        2.98329356,  1.90930788,  2.14797136,  1.19331742,  2.74463007,\n",
       "        0.11933174,  8.23389021,  4.41527446, 42.95942721, 10.97852029])"
      ]
     },
     "execution_count": 9,
     "metadata": {},
     "output_type": "execute_result"
    }
   ],
   "source": [
    "cnt = np.array(cnt)\n",
    "cnt[:100]"
   ]
  },
  {
   "cell_type": "code",
   "execution_count": 10,
   "id": "ee8a03d3-9e68-40fc-92a9-97500f24c8d4",
   "metadata": {},
   "outputs": [
    {
     "data": {
      "text/plain": [
       "713"
      ]
     },
     "execution_count": 10,
     "metadata": {},
     "output_type": "execute_result"
    }
   ],
   "source": [
    "cnt.size"
   ]
  },
  {
   "cell_type": "markdown",
   "id": "fcbc28f0-cf7c-41c9-a2e7-99fe91168242",
   "metadata": {},
   "source": [
    "Plot Feature importance vs Completeness "
   ]
  },
  {
   "cell_type": "code",
   "execution_count": 11,
   "id": "cef7ed76-7e5c-4935-90fd-460685168813",
   "metadata": {},
   "outputs": [
    {
     "data": {
      "text/plain": [
       "[<matplotlib.patches.Polygon at 0x1dfaac2fa90>]"
      ]
     },
     "execution_count": 11,
     "metadata": {},
     "output_type": "execute_result"
    },
    {
     "data": {
      "image/png": "[encoded data removed]",
      "text/plain": [
       "<Figure size 432x288 with 1 Axes>"
      ]
     },
     "metadata": {
      "needs_background": "light"
     },
     "output_type": "display_data"
    }
   ],
   "source": [
    "plt.plot(cnt, m, '.', color='black')\n",
    "plt.xscale(\"log\")\n",
    "plt.xlabel(\"Completeness (%) - Log scale\")\n",
    "plt.ylabel(\"Feature Importance\")\n",
    "plt.title(\"Semi-log plot\")\n",
    "plt.axvline(x=1)\n",
    "plt.axhline(y=0)\n",
    "x=[1,100,100,1]\n",
    "y=[0,0,25,25]\n",
    "plt.fill(x, y, alpha=0.5)"
   ]
  },
  {
   "cell_type": "markdown",
   "id": "24aaa594-d1f1-40db-82b9-d09271c05546",
   "metadata": {},
   "source": [
    "**The area shaded in blue is our area of interest**"
   ]
  },
  {
   "cell_type": "markdown",
   "id": "8c68d19c-1d82-495a-8b31-b5e06b75bed2",
   "metadata": {},
   "source": [
    "From the above graph we can infer that there is a strong correlation between feature importance and completeness.<br>\n",
    "Almost every feature with completeness less than 1% has very low feature importance value.<br>\n",
    "Features with completeness greater than 1% contribute at higher value of feature importance.<br>\n",
    "Negative feature importance value means that feature makes the loss go up. We can neglect the features having negative values, since the model is not getting good use of these features.<br>\n",
    "Similarly, features having a completness of less than 1% can be neglected and this helps in reducing the computing power of the model."
   ]
  },
  {
   "cell_type": "markdown",
   "id": "e3b56d06-bd6c-4420-87bf-d8985bbd64c1",
   "metadata": {},
   "source": [
    "**What can be done to improve the correlation?**"
   ]
  },
  {
   "cell_type": "markdown",
   "id": "7a429455-4585-473b-98b5-ae40e6ef8165",
   "metadata": {},
   "source": [
    "Fine tuning the hyper parameters using a grid search technique further brings down the coefficients values to zero.<br>\n",
    "This also reduces the non zero coefficients and a better plot or correlation could be established<br>"
   ]
  }
 ],
 "metadata": {
  "kernelspec": {
   "display_name": "Python 3",
   "language": "python",
   "name": "python3"
  },
  "language_info": {
   "codemirror_mode": {
    "name": "ipython",
    "version": 3
   },
   "file_extension": ".py",
   "mimetype": "text/x-python",
   "name": "python",
   "nbconvert_exporter": "python",
   "pygments_lexer": "ipython3",
   "version": "3.8.8"
  }
 },
 "nbformat": 4,
 "nbformat_minor": 5
}
