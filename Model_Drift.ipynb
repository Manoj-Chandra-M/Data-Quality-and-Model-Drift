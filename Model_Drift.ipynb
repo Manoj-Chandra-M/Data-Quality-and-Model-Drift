{
 "cells": [
  {
   "cell_type": "markdown",
   "id": "7ff2f34d-171f-4648-b5cf-56c0b7b4e43a",
   "metadata": {},
   "source": [
    "## 2) Data and Model Drift"
   ]
  },
  {
   "cell_type": "markdown",
   "id": "999c212a-ba7c-483a-8196-94af14170fac",
   "metadata": {},
   "source": [
    "### Monthly features is taken for modelling"
   ]
  },
  {
   "cell_type": "code",
   "execution_count": 1,
   "id": "d06a3e84-a1f5-4f31-9d0b-8aa1278fc192",
   "metadata": {},
   "outputs": [],
   "source": [
    "import pandas as pd\n",
    "import numpy as np\n",
    "import matplotlib.pyplot as plt\n",
    "import seaborn as sns\n",
    "from sklearn.model_selection import train_test_split\n",
    "from sklearn.ensemble import RandomForestClassifier\n",
    "import pandas as pd\n",
    "pd.options.mode.chained_assignment = None "
   ]
  },
  {
   "cell_type": "code",
   "execution_count": 2,
   "id": "178498e1-57b7-4ff1-89a7-09a286ca99b3",
   "metadata": {},
   "outputs": [],
   "source": [
    "monthly_features_outputs = pd.read_excel('monthly_features_outputs.xlsx')"
   ]
  },
  {
   "cell_type": "code",
   "execution_count": 3,
   "id": "94b85a17-4d13-40e9-a46e-bdf58f29f180",
   "metadata": {},
   "outputs": [
    {
     "data": {
      "text/html": [
       "<div>\n",
       "<style scoped>\n",
       "    .dataframe tbody tr th:only-of-type {\n",
       "        vertical-align: middle;\n",
       "    }\n",
       "\n",
       "    .dataframe tbody tr th {\n",
       "        vertical-align: top;\n",
       "    }\n",
       "\n",
       "    .dataframe thead th {\n",
       "        text-align: right;\n",
       "    }\n",
       "</style>\n",
       "<table border=\"1\" class=\"dataframe\">\n",
       "  <thead>\n",
       "    <tr style=\"text-align: right;\">\n",
       "      <th></th>\n",
       "      <th>Unnamed: 0</th>\n",
       "      <th>CLNT_NO</th>\n",
       "      <th>ME_DT</th>\n",
       "      <th>mth_txn_amt_sum</th>\n",
       "      <th>mth_txn_cnt</th>\n",
       "      <th>amt_sum_3M</th>\n",
       "      <th>amt_mean_3M</th>\n",
       "      <th>amt_max_3M</th>\n",
       "      <th>txn_cnt_sum_3M</th>\n",
       "      <th>txn_cnt_mean_3M</th>\n",
       "      <th>...</th>\n",
       "      <th>txn_cnt_max_12M</th>\n",
       "      <th>cnt_Friday</th>\n",
       "      <th>cnt_Monday</th>\n",
       "      <th>cnt_Saturday</th>\n",
       "      <th>cnt_Sunday</th>\n",
       "      <th>cnt_Thursday</th>\n",
       "      <th>cnt_Tuesday</th>\n",
       "      <th>cnt_Wednesday</th>\n",
       "      <th>days_since_last_txn</th>\n",
       "      <th>response</th>\n",
       "    </tr>\n",
       "  </thead>\n",
       "  <tbody>\n",
       "    <tr>\n",
       "      <th>0</th>\n",
       "      <td>0</td>\n",
       "      <td>CS1112</td>\n",
       "      <td>2011-05-31</td>\n",
       "      <td>0</td>\n",
       "      <td>0</td>\n",
       "      <td>NaN</td>\n",
       "      <td>NaN</td>\n",
       "      <td>NaN</td>\n",
       "      <td>NaN</td>\n",
       "      <td>NaN</td>\n",
       "      <td>...</td>\n",
       "      <td>NaN</td>\n",
       "      <td>0</td>\n",
       "      <td>0</td>\n",
       "      <td>0</td>\n",
       "      <td>0</td>\n",
       "      <td>0</td>\n",
       "      <td>0</td>\n",
       "      <td>0</td>\n",
       "      <td>51</td>\n",
       "      <td>0</td>\n",
       "    </tr>\n",
       "    <tr>\n",
       "      <th>1</th>\n",
       "      <td>1</td>\n",
       "      <td>CS1112</td>\n",
       "      <td>2011-06-30</td>\n",
       "      <td>56</td>\n",
       "      <td>1</td>\n",
       "      <td>NaN</td>\n",
       "      <td>NaN</td>\n",
       "      <td>NaN</td>\n",
       "      <td>NaN</td>\n",
       "      <td>NaN</td>\n",
       "      <td>...</td>\n",
       "      <td>NaN</td>\n",
       "      <td>0</td>\n",
       "      <td>0</td>\n",
       "      <td>0</td>\n",
       "      <td>0</td>\n",
       "      <td>0</td>\n",
       "      <td>0</td>\n",
       "      <td>1</td>\n",
       "      <td>15</td>\n",
       "      <td>0</td>\n",
       "    </tr>\n",
       "    <tr>\n",
       "      <th>2</th>\n",
       "      <td>2</td>\n",
       "      <td>CS1112</td>\n",
       "      <td>2011-07-31</td>\n",
       "      <td>0</td>\n",
       "      <td>0</td>\n",
       "      <td>56.0</td>\n",
       "      <td>18.666667</td>\n",
       "      <td>56.0</td>\n",
       "      <td>1.0</td>\n",
       "      <td>0.333333</td>\n",
       "      <td>...</td>\n",
       "      <td>NaN</td>\n",
       "      <td>0</td>\n",
       "      <td>0</td>\n",
       "      <td>0</td>\n",
       "      <td>0</td>\n",
       "      <td>0</td>\n",
       "      <td>0</td>\n",
       "      <td>0</td>\n",
       "      <td>46</td>\n",
       "      <td>0</td>\n",
       "    </tr>\n",
       "    <tr>\n",
       "      <th>3</th>\n",
       "      <td>3</td>\n",
       "      <td>CS1112</td>\n",
       "      <td>2011-08-31</td>\n",
       "      <td>96</td>\n",
       "      <td>1</td>\n",
       "      <td>152.0</td>\n",
       "      <td>50.666667</td>\n",
       "      <td>96.0</td>\n",
       "      <td>2.0</td>\n",
       "      <td>0.666667</td>\n",
       "      <td>...</td>\n",
       "      <td>NaN</td>\n",
       "      <td>1</td>\n",
       "      <td>0</td>\n",
       "      <td>0</td>\n",
       "      <td>0</td>\n",
       "      <td>0</td>\n",
       "      <td>0</td>\n",
       "      <td>0</td>\n",
       "      <td>12</td>\n",
       "      <td>0</td>\n",
       "    </tr>\n",
       "    <tr>\n",
       "      <th>4</th>\n",
       "      <td>4</td>\n",
       "      <td>CS1112</td>\n",
       "      <td>2011-09-30</td>\n",
       "      <td>0</td>\n",
       "      <td>0</td>\n",
       "      <td>96.0</td>\n",
       "      <td>32.000000</td>\n",
       "      <td>96.0</td>\n",
       "      <td>1.0</td>\n",
       "      <td>0.333333</td>\n",
       "      <td>...</td>\n",
       "      <td>NaN</td>\n",
       "      <td>0</td>\n",
       "      <td>0</td>\n",
       "      <td>0</td>\n",
       "      <td>0</td>\n",
       "      <td>0</td>\n",
       "      <td>0</td>\n",
       "      <td>0</td>\n",
       "      <td>42</td>\n",
       "      <td>0</td>\n",
       "    </tr>\n",
       "    <tr>\n",
       "      <th>...</th>\n",
       "      <td>...</td>\n",
       "      <td>...</td>\n",
       "      <td>...</td>\n",
       "      <td>...</td>\n",
       "      <td>...</td>\n",
       "      <td>...</td>\n",
       "      <td>...</td>\n",
       "      <td>...</td>\n",
       "      <td>...</td>\n",
       "      <td>...</td>\n",
       "      <td>...</td>\n",
       "      <td>...</td>\n",
       "      <td>...</td>\n",
       "      <td>...</td>\n",
       "      <td>...</td>\n",
       "      <td>...</td>\n",
       "      <td>...</td>\n",
       "      <td>...</td>\n",
       "      <td>...</td>\n",
       "      <td>...</td>\n",
       "      <td>...</td>\n",
       "    </tr>\n",
       "    <tr>\n",
       "      <th>323543</th>\n",
       "      <td>323543</td>\n",
       "      <td>CS9000</td>\n",
       "      <td>2014-11-30</td>\n",
       "      <td>0</td>\n",
       "      <td>0</td>\n",
       "      <td>0.0</td>\n",
       "      <td>0.000000</td>\n",
       "      <td>0.0</td>\n",
       "      <td>0.0</td>\n",
       "      <td>0.000000</td>\n",
       "      <td>...</td>\n",
       "      <td>1.0</td>\n",
       "      <td>0</td>\n",
       "      <td>0</td>\n",
       "      <td>0</td>\n",
       "      <td>0</td>\n",
       "      <td>0</td>\n",
       "      <td>0</td>\n",
       "      <td>0</td>\n",
       "      <td>98</td>\n",
       "      <td>0</td>\n",
       "    </tr>\n",
       "    <tr>\n",
       "      <th>323544</th>\n",
       "      <td>323544</td>\n",
       "      <td>CS9000</td>\n",
       "      <td>2014-12-31</td>\n",
       "      <td>0</td>\n",
       "      <td>0</td>\n",
       "      <td>0.0</td>\n",
       "      <td>0.000000</td>\n",
       "      <td>0.0</td>\n",
       "      <td>0.0</td>\n",
       "      <td>0.000000</td>\n",
       "      <td>...</td>\n",
       "      <td>1.0</td>\n",
       "      <td>0</td>\n",
       "      <td>0</td>\n",
       "      <td>0</td>\n",
       "      <td>0</td>\n",
       "      <td>0</td>\n",
       "      <td>0</td>\n",
       "      <td>0</td>\n",
       "      <td>129</td>\n",
       "      <td>0</td>\n",
       "    </tr>\n",
       "    <tr>\n",
       "      <th>323545</th>\n",
       "      <td>323545</td>\n",
       "      <td>CS9000</td>\n",
       "      <td>2015-01-31</td>\n",
       "      <td>0</td>\n",
       "      <td>0</td>\n",
       "      <td>0.0</td>\n",
       "      <td>0.000000</td>\n",
       "      <td>0.0</td>\n",
       "      <td>0.0</td>\n",
       "      <td>0.000000</td>\n",
       "      <td>...</td>\n",
       "      <td>1.0</td>\n",
       "      <td>0</td>\n",
       "      <td>0</td>\n",
       "      <td>0</td>\n",
       "      <td>0</td>\n",
       "      <td>0</td>\n",
       "      <td>0</td>\n",
       "      <td>0</td>\n",
       "      <td>160</td>\n",
       "      <td>0</td>\n",
       "    </tr>\n",
       "    <tr>\n",
       "      <th>323546</th>\n",
       "      <td>323546</td>\n",
       "      <td>CS9000</td>\n",
       "      <td>2015-02-28</td>\n",
       "      <td>34</td>\n",
       "      <td>1</td>\n",
       "      <td>34.0</td>\n",
       "      <td>11.333333</td>\n",
       "      <td>34.0</td>\n",
       "      <td>1.0</td>\n",
       "      <td>0.333333</td>\n",
       "      <td>...</td>\n",
       "      <td>1.0</td>\n",
       "      <td>0</td>\n",
       "      <td>0</td>\n",
       "      <td>1</td>\n",
       "      <td>0</td>\n",
       "      <td>0</td>\n",
       "      <td>0</td>\n",
       "      <td>0</td>\n",
       "      <td>0</td>\n",
       "      <td>0</td>\n",
       "    </tr>\n",
       "    <tr>\n",
       "      <th>323547</th>\n",
       "      <td>323547</td>\n",
       "      <td>CS9000</td>\n",
       "      <td>2015-03-31</td>\n",
       "      <td>0</td>\n",
       "      <td>0</td>\n",
       "      <td>34.0</td>\n",
       "      <td>11.333333</td>\n",
       "      <td>34.0</td>\n",
       "      <td>1.0</td>\n",
       "      <td>0.333333</td>\n",
       "      <td>...</td>\n",
       "      <td>1.0</td>\n",
       "      <td>0</td>\n",
       "      <td>0</td>\n",
       "      <td>0</td>\n",
       "      <td>0</td>\n",
       "      <td>0</td>\n",
       "      <td>0</td>\n",
       "      <td>0</td>\n",
       "      <td>31</td>\n",
       "      <td>0</td>\n",
       "    </tr>\n",
       "  </tbody>\n",
       "</table>\n",
       "<p>323548 rows × 32 columns</p>\n",
       "</div>"
      ],
      "text/plain": [
       "        Unnamed: 0 CLNT_NO      ME_DT  mth_txn_amt_sum  mth_txn_cnt  \\\n",
       "0                0  CS1112 2011-05-31                0            0   \n",
       "1                1  CS1112 2011-06-30               56            1   \n",
       "2                2  CS1112 2011-07-31                0            0   \n",
       "3                3  CS1112 2011-08-31               96            1   \n",
       "4                4  CS1112 2011-09-30                0            0   \n",
       "...            ...     ...        ...              ...          ...   \n",
       "323543      323543  CS9000 2014-11-30                0            0   \n",
       "323544      323544  CS9000 2014-12-31                0            0   \n",
       "323545      323545  CS9000 2015-01-31                0            0   \n",
       "323546      323546  CS9000 2015-02-28               34            1   \n",
       "323547      323547  CS9000 2015-03-31                0            0   \n",
       "\n",
       "        amt_sum_3M  amt_mean_3M  amt_max_3M  txn_cnt_sum_3M  txn_cnt_mean_3M  \\\n",
       "0              NaN          NaN         NaN             NaN              NaN   \n",
       "1              NaN          NaN         NaN             NaN              NaN   \n",
       "2             56.0    18.666667        56.0             1.0         0.333333   \n",
       "3            152.0    50.666667        96.0             2.0         0.666667   \n",
       "4             96.0    32.000000        96.0             1.0         0.333333   \n",
       "...            ...          ...         ...             ...              ...   \n",
       "323543         0.0     0.000000         0.0             0.0         0.000000   \n",
       "323544         0.0     0.000000         0.0             0.0         0.000000   \n",
       "323545         0.0     0.000000         0.0             0.0         0.000000   \n",
       "323546        34.0    11.333333        34.0             1.0         0.333333   \n",
       "323547        34.0    11.333333        34.0             1.0         0.333333   \n",
       "\n",
       "        ...  txn_cnt_max_12M  cnt_Friday  cnt_Monday  cnt_Saturday  \\\n",
       "0       ...              NaN           0           0             0   \n",
       "1       ...              NaN           0           0             0   \n",
       "2       ...              NaN           0           0             0   \n",
       "3       ...              NaN           1           0             0   \n",
       "4       ...              NaN           0           0             0   \n",
       "...     ...              ...         ...         ...           ...   \n",
       "323543  ...              1.0           0           0             0   \n",
       "323544  ...              1.0           0           0             0   \n",
       "323545  ...              1.0           0           0             0   \n",
       "323546  ...              1.0           0           0             1   \n",
       "323547  ...              1.0           0           0             0   \n",
       "\n",
       "        cnt_Sunday  cnt_Thursday  cnt_Tuesday  cnt_Wednesday  \\\n",
       "0                0             0            0              0   \n",
       "1                0             0            0              1   \n",
       "2                0             0            0              0   \n",
       "3                0             0            0              0   \n",
       "4                0             0            0              0   \n",
       "...            ...           ...          ...            ...   \n",
       "323543           0             0            0              0   \n",
       "323544           0             0            0              0   \n",
       "323545           0             0            0              0   \n",
       "323546           0             0            0              0   \n",
       "323547           0             0            0              0   \n",
       "\n",
       "        days_since_last_txn  response  \n",
       "0                        51         0  \n",
       "1                        15         0  \n",
       "2                        46         0  \n",
       "3                        12         0  \n",
       "4                        42         0  \n",
       "...                     ...       ...  \n",
       "323543                   98         0  \n",
       "323544                  129         0  \n",
       "323545                  160         0  \n",
       "323546                    0         0  \n",
       "323547                   31         0  \n",
       "\n",
       "[323548 rows x 32 columns]"
      ]
     },
     "execution_count": 3,
     "metadata": {},
     "output_type": "execute_result"
    }
   ],
   "source": [
    "monthly_features_outputs"
   ]
  },
  {
   "cell_type": "code",
   "execution_count": 4,
   "id": "a33beacc-8eda-414d-8ef3-9a9b630ff6b4",
   "metadata": {},
   "outputs": [],
   "source": [
    "monthly_features_outputs = monthly_features_outputs.apply(lambda x: x.fillna(0),axis=0)"
   ]
  },
  {
   "cell_type": "code",
   "execution_count": 5,
   "id": "ee94a623-1aa1-4744-8e3f-331ac29c0c3a",
   "metadata": {},
   "outputs": [
    {
     "data": {
      "text/plain": [
       "Timestamp('2011-05-31 00:00:00')"
      ]
     },
     "execution_count": 5,
     "metadata": {},
     "output_type": "execute_result"
    }
   ],
   "source": [
    "monthly_features_outputs['ME_DT'].min()"
   ]
  },
  {
   "cell_type": "code",
   "execution_count": 6,
   "id": "78a5aaa4-998b-4ed5-95fb-3e2fa2719785",
   "metadata": {},
   "outputs": [
    {
     "data": {
      "text/plain": [
       "Timestamp('2015-03-31 00:00:00')"
      ]
     },
     "execution_count": 6,
     "metadata": {},
     "output_type": "execute_result"
    }
   ],
   "source": [
    "monthly_features_outputs['ME_DT'].max()"
   ]
  },
  {
   "cell_type": "markdown",
   "id": "7ee045f7-ccbf-44e7-b2ae-877832caa31d",
   "metadata": {},
   "source": [
    "### Preparing Data prior to December 2013 to train the model"
   ]
  },
  {
   "cell_type": "code",
   "execution_count": 7,
   "id": "09fbe1c9-894a-4100-83b5-54e473f1053e",
   "metadata": {},
   "outputs": [],
   "source": [
    "X2 = monthly_features_outputs[(monthly_features_outputs['ME_DT'] <= '2013-12-31')]"
   ]
  },
  {
   "cell_type": "code",
   "execution_count": 8,
   "id": "6c258503-06af-48cf-b5cd-565cbe863076",
   "metadata": {},
   "outputs": [
    {
     "data": {
      "text/html": [
       "<div>\n",
       "<style scoped>\n",
       "    .dataframe tbody tr th:only-of-type {\n",
       "        vertical-align: middle;\n",
       "    }\n",
       "\n",
       "    .dataframe tbody tr th {\n",
       "        vertical-align: top;\n",
       "    }\n",
       "\n",
       "    .dataframe thead th {\n",
       "        text-align: right;\n",
       "    }\n",
       "</style>\n",
       "<table border=\"1\" class=\"dataframe\">\n",
       "  <thead>\n",
       "    <tr style=\"text-align: right;\">\n",
       "      <th></th>\n",
       "      <th>ME_DT</th>\n",
       "      <th>mth_txn_amt_sum</th>\n",
       "      <th>mth_txn_cnt</th>\n",
       "      <th>amt_sum_3M</th>\n",
       "      <th>amt_mean_3M</th>\n",
       "      <th>amt_max_3M</th>\n",
       "      <th>txn_cnt_sum_3M</th>\n",
       "      <th>txn_cnt_mean_3M</th>\n",
       "      <th>txn_cnt_max_3M</th>\n",
       "      <th>amt_sum_6M</th>\n",
       "      <th>...</th>\n",
       "      <th>txn_cnt_max_12M</th>\n",
       "      <th>cnt_Friday</th>\n",
       "      <th>cnt_Monday</th>\n",
       "      <th>cnt_Saturday</th>\n",
       "      <th>cnt_Sunday</th>\n",
       "      <th>cnt_Thursday</th>\n",
       "      <th>cnt_Tuesday</th>\n",
       "      <th>cnt_Wednesday</th>\n",
       "      <th>days_since_last_txn</th>\n",
       "      <th>response</th>\n",
       "    </tr>\n",
       "  </thead>\n",
       "  <tbody>\n",
       "    <tr>\n",
       "      <th>0</th>\n",
       "      <td>2011-05-31</td>\n",
       "      <td>0</td>\n",
       "      <td>0</td>\n",
       "      <td>0.0</td>\n",
       "      <td>0.000000</td>\n",
       "      <td>0.0</td>\n",
       "      <td>0.0</td>\n",
       "      <td>0.000000</td>\n",
       "      <td>0.0</td>\n",
       "      <td>0.0</td>\n",
       "      <td>...</td>\n",
       "      <td>0.0</td>\n",
       "      <td>0</td>\n",
       "      <td>0</td>\n",
       "      <td>0</td>\n",
       "      <td>0</td>\n",
       "      <td>0</td>\n",
       "      <td>0</td>\n",
       "      <td>0</td>\n",
       "      <td>51</td>\n",
       "      <td>0</td>\n",
       "    </tr>\n",
       "    <tr>\n",
       "      <th>1</th>\n",
       "      <td>2011-06-30</td>\n",
       "      <td>56</td>\n",
       "      <td>1</td>\n",
       "      <td>0.0</td>\n",
       "      <td>0.000000</td>\n",
       "      <td>0.0</td>\n",
       "      <td>0.0</td>\n",
       "      <td>0.000000</td>\n",
       "      <td>0.0</td>\n",
       "      <td>0.0</td>\n",
       "      <td>...</td>\n",
       "      <td>0.0</td>\n",
       "      <td>0</td>\n",
       "      <td>0</td>\n",
       "      <td>0</td>\n",
       "      <td>0</td>\n",
       "      <td>0</td>\n",
       "      <td>0</td>\n",
       "      <td>1</td>\n",
       "      <td>15</td>\n",
       "      <td>0</td>\n",
       "    </tr>\n",
       "    <tr>\n",
       "      <th>2</th>\n",
       "      <td>2011-07-31</td>\n",
       "      <td>0</td>\n",
       "      <td>0</td>\n",
       "      <td>56.0</td>\n",
       "      <td>18.666667</td>\n",
       "      <td>56.0</td>\n",
       "      <td>1.0</td>\n",
       "      <td>0.333333</td>\n",
       "      <td>1.0</td>\n",
       "      <td>0.0</td>\n",
       "      <td>...</td>\n",
       "      <td>0.0</td>\n",
       "      <td>0</td>\n",
       "      <td>0</td>\n",
       "      <td>0</td>\n",
       "      <td>0</td>\n",
       "      <td>0</td>\n",
       "      <td>0</td>\n",
       "      <td>0</td>\n",
       "      <td>46</td>\n",
       "      <td>0</td>\n",
       "    </tr>\n",
       "    <tr>\n",
       "      <th>3</th>\n",
       "      <td>2011-08-31</td>\n",
       "      <td>96</td>\n",
       "      <td>1</td>\n",
       "      <td>152.0</td>\n",
       "      <td>50.666667</td>\n",
       "      <td>96.0</td>\n",
       "      <td>2.0</td>\n",
       "      <td>0.666667</td>\n",
       "      <td>1.0</td>\n",
       "      <td>0.0</td>\n",
       "      <td>...</td>\n",
       "      <td>0.0</td>\n",
       "      <td>1</td>\n",
       "      <td>0</td>\n",
       "      <td>0</td>\n",
       "      <td>0</td>\n",
       "      <td>0</td>\n",
       "      <td>0</td>\n",
       "      <td>0</td>\n",
       "      <td>12</td>\n",
       "      <td>0</td>\n",
       "    </tr>\n",
       "    <tr>\n",
       "      <th>4</th>\n",
       "      <td>2011-09-30</td>\n",
       "      <td>0</td>\n",
       "      <td>0</td>\n",
       "      <td>96.0</td>\n",
       "      <td>32.000000</td>\n",
       "      <td>96.0</td>\n",
       "      <td>1.0</td>\n",
       "      <td>0.333333</td>\n",
       "      <td>1.0</td>\n",
       "      <td>0.0</td>\n",
       "      <td>...</td>\n",
       "      <td>0.0</td>\n",
       "      <td>0</td>\n",
       "      <td>0</td>\n",
       "      <td>0</td>\n",
       "      <td>0</td>\n",
       "      <td>0</td>\n",
       "      <td>0</td>\n",
       "      <td>0</td>\n",
       "      <td>42</td>\n",
       "      <td>0</td>\n",
       "    </tr>\n",
       "    <tr>\n",
       "      <th>...</th>\n",
       "      <td>...</td>\n",
       "      <td>...</td>\n",
       "      <td>...</td>\n",
       "      <td>...</td>\n",
       "      <td>...</td>\n",
       "      <td>...</td>\n",
       "      <td>...</td>\n",
       "      <td>...</td>\n",
       "      <td>...</td>\n",
       "      <td>...</td>\n",
       "      <td>...</td>\n",
       "      <td>...</td>\n",
       "      <td>...</td>\n",
       "      <td>...</td>\n",
       "      <td>...</td>\n",
       "      <td>...</td>\n",
       "      <td>...</td>\n",
       "      <td>...</td>\n",
       "      <td>...</td>\n",
       "      <td>...</td>\n",
       "      <td>...</td>\n",
       "    </tr>\n",
       "    <tr>\n",
       "      <th>323528</th>\n",
       "      <td>2013-08-31</td>\n",
       "      <td>0</td>\n",
       "      <td>0</td>\n",
       "      <td>76.0</td>\n",
       "      <td>25.333333</td>\n",
       "      <td>76.0</td>\n",
       "      <td>1.0</td>\n",
       "      <td>0.333333</td>\n",
       "      <td>1.0</td>\n",
       "      <td>76.0</td>\n",
       "      <td>...</td>\n",
       "      <td>1.0</td>\n",
       "      <td>0</td>\n",
       "      <td>0</td>\n",
       "      <td>0</td>\n",
       "      <td>0</td>\n",
       "      <td>0</td>\n",
       "      <td>0</td>\n",
       "      <td>0</td>\n",
       "      <td>47</td>\n",
       "      <td>0</td>\n",
       "    </tr>\n",
       "    <tr>\n",
       "      <th>323529</th>\n",
       "      <td>2013-09-30</td>\n",
       "      <td>0</td>\n",
       "      <td>0</td>\n",
       "      <td>76.0</td>\n",
       "      <td>25.333333</td>\n",
       "      <td>76.0</td>\n",
       "      <td>1.0</td>\n",
       "      <td>0.333333</td>\n",
       "      <td>1.0</td>\n",
       "      <td>76.0</td>\n",
       "      <td>...</td>\n",
       "      <td>1.0</td>\n",
       "      <td>0</td>\n",
       "      <td>0</td>\n",
       "      <td>0</td>\n",
       "      <td>0</td>\n",
       "      <td>0</td>\n",
       "      <td>0</td>\n",
       "      <td>0</td>\n",
       "      <td>77</td>\n",
       "      <td>0</td>\n",
       "    </tr>\n",
       "    <tr>\n",
       "      <th>323530</th>\n",
       "      <td>2013-10-31</td>\n",
       "      <td>71</td>\n",
       "      <td>1</td>\n",
       "      <td>71.0</td>\n",
       "      <td>23.666667</td>\n",
       "      <td>71.0</td>\n",
       "      <td>1.0</td>\n",
       "      <td>0.333333</td>\n",
       "      <td>1.0</td>\n",
       "      <td>147.0</td>\n",
       "      <td>...</td>\n",
       "      <td>1.0</td>\n",
       "      <td>0</td>\n",
       "      <td>0</td>\n",
       "      <td>0</td>\n",
       "      <td>0</td>\n",
       "      <td>0</td>\n",
       "      <td>1</td>\n",
       "      <td>0</td>\n",
       "      <td>30</td>\n",
       "      <td>0</td>\n",
       "    </tr>\n",
       "    <tr>\n",
       "      <th>323531</th>\n",
       "      <td>2013-11-30</td>\n",
       "      <td>0</td>\n",
       "      <td>0</td>\n",
       "      <td>71.0</td>\n",
       "      <td>23.666667</td>\n",
       "      <td>71.0</td>\n",
       "      <td>1.0</td>\n",
       "      <td>0.333333</td>\n",
       "      <td>1.0</td>\n",
       "      <td>147.0</td>\n",
       "      <td>...</td>\n",
       "      <td>1.0</td>\n",
       "      <td>0</td>\n",
       "      <td>0</td>\n",
       "      <td>0</td>\n",
       "      <td>0</td>\n",
       "      <td>0</td>\n",
       "      <td>0</td>\n",
       "      <td>0</td>\n",
       "      <td>60</td>\n",
       "      <td>0</td>\n",
       "    </tr>\n",
       "    <tr>\n",
       "      <th>323532</th>\n",
       "      <td>2013-12-31</td>\n",
       "      <td>0</td>\n",
       "      <td>0</td>\n",
       "      <td>71.0</td>\n",
       "      <td>23.666667</td>\n",
       "      <td>71.0</td>\n",
       "      <td>1.0</td>\n",
       "      <td>0.333333</td>\n",
       "      <td>1.0</td>\n",
       "      <td>147.0</td>\n",
       "      <td>...</td>\n",
       "      <td>1.0</td>\n",
       "      <td>0</td>\n",
       "      <td>0</td>\n",
       "      <td>0</td>\n",
       "      <td>0</td>\n",
       "      <td>0</td>\n",
       "      <td>0</td>\n",
       "      <td>0</td>\n",
       "      <td>91</td>\n",
       "      <td>0</td>\n",
       "    </tr>\n",
       "  </tbody>\n",
       "</table>\n",
       "<p>220288 rows × 30 columns</p>\n",
       "</div>"
      ],
      "text/plain": [
       "            ME_DT  mth_txn_amt_sum  mth_txn_cnt  amt_sum_3M  amt_mean_3M  \\\n",
       "0      2011-05-31                0            0         0.0     0.000000   \n",
       "1      2011-06-30               56            1         0.0     0.000000   \n",
       "2      2011-07-31                0            0        56.0    18.666667   \n",
       "3      2011-08-31               96            1       152.0    50.666667   \n",
       "4      2011-09-30                0            0        96.0    32.000000   \n",
       "...           ...              ...          ...         ...          ...   \n",
       "323528 2013-08-31                0            0        76.0    25.333333   \n",
       "323529 2013-09-30                0            0        76.0    25.333333   \n",
       "323530 2013-10-31               71            1        71.0    23.666667   \n",
       "323531 2013-11-30                0            0        71.0    23.666667   \n",
       "323532 2013-12-31                0            0        71.0    23.666667   \n",
       "\n",
       "        amt_max_3M  txn_cnt_sum_3M  txn_cnt_mean_3M  txn_cnt_max_3M  \\\n",
       "0              0.0             0.0         0.000000             0.0   \n",
       "1              0.0             0.0         0.000000             0.0   \n",
       "2             56.0             1.0         0.333333             1.0   \n",
       "3             96.0             2.0         0.666667             1.0   \n",
       "4             96.0             1.0         0.333333             1.0   \n",
       "...            ...             ...              ...             ...   \n",
       "323528        76.0             1.0         0.333333             1.0   \n",
       "323529        76.0             1.0         0.333333             1.0   \n",
       "323530        71.0             1.0         0.333333             1.0   \n",
       "323531        71.0             1.0         0.333333             1.0   \n",
       "323532        71.0             1.0         0.333333             1.0   \n",
       "\n",
       "        amt_sum_6M  ...  txn_cnt_max_12M  cnt_Friday  cnt_Monday  \\\n",
       "0              0.0  ...              0.0           0           0   \n",
       "1              0.0  ...              0.0           0           0   \n",
       "2              0.0  ...              0.0           0           0   \n",
       "3              0.0  ...              0.0           1           0   \n",
       "4              0.0  ...              0.0           0           0   \n",
       "...            ...  ...              ...         ...         ...   \n",
       "323528        76.0  ...              1.0           0           0   \n",
       "323529        76.0  ...              1.0           0           0   \n",
       "323530       147.0  ...              1.0           0           0   \n",
       "323531       147.0  ...              1.0           0           0   \n",
       "323532       147.0  ...              1.0           0           0   \n",
       "\n",
       "        cnt_Saturday  cnt_Sunday  cnt_Thursday  cnt_Tuesday  cnt_Wednesday  \\\n",
       "0                  0           0             0            0              0   \n",
       "1                  0           0             0            0              1   \n",
       "2                  0           0             0            0              0   \n",
       "3                  0           0             0            0              0   \n",
       "4                  0           0             0            0              0   \n",
       "...              ...         ...           ...          ...            ...   \n",
       "323528             0           0             0            0              0   \n",
       "323529             0           0             0            0              0   \n",
       "323530             0           0             0            1              0   \n",
       "323531             0           0             0            0              0   \n",
       "323532             0           0             0            0              0   \n",
       "\n",
       "        days_since_last_txn  response  \n",
       "0                        51         0  \n",
       "1                        15         0  \n",
       "2                        46         0  \n",
       "3                        12         0  \n",
       "4                        42         0  \n",
       "...                     ...       ...  \n",
       "323528                   47         0  \n",
       "323529                   77         0  \n",
       "323530                   30         0  \n",
       "323531                   60         0  \n",
       "323532                   91         0  \n",
       "\n",
       "[220288 rows x 30 columns]"
      ]
     },
     "execution_count": 8,
     "metadata": {},
     "output_type": "execute_result"
    }
   ],
   "source": [
    "X2 = X2.drop(['Unnamed: 0','CLNT_NO'],axis=1)\n",
    "X2"
   ]
  },
  {
   "cell_type": "code",
   "execution_count": 9,
   "id": "d38de541-47e5-455c-8ae8-eabea2fb1448",
   "metadata": {},
   "outputs": [],
   "source": [
    "df = X2"
   ]
  },
  {
   "cell_type": "code",
   "execution_count": 10,
   "id": "9a315553-be9f-4fdb-8189-be6cb8cd6df3",
   "metadata": {},
   "outputs": [],
   "source": [
    "y2 = X2['response']"
   ]
  },
  {
   "cell_type": "code",
   "execution_count": 11,
   "id": "686d1a85-1fc7-4252-8afe-a4ed03a111be",
   "metadata": {},
   "outputs": [],
   "source": [
    "X2 = X2.drop(['response','ME_DT'],axis=1)"
   ]
  },
  {
   "cell_type": "code",
   "execution_count": 12,
   "id": "b86c21ed-af8b-44c9-9bcd-b1bacad2ab2b",
   "metadata": {},
   "outputs": [
    {
     "data": {
      "text/plain": [
       "0    199584\n",
       "1     20704\n",
       "Name: response, dtype: int64"
      ]
     },
     "execution_count": 12,
     "metadata": {},
     "output_type": "execute_result"
    }
   ],
   "source": [
    "y2.value_counts()"
   ]
  },
  {
   "cell_type": "code",
   "execution_count": 13,
   "id": "a29380e5-9d3a-4d7c-ac36-5392c2542eb4",
   "metadata": {},
   "outputs": [],
   "source": [
    "X_train = X2\n",
    "y_train = y2"
   ]
  },
  {
   "cell_type": "markdown",
   "id": "8c50d570-9e69-4c44-bb43-67ddea0e3d36",
   "metadata": {},
   "source": [
    "### Preparing Data after December 2013 to test the model"
   ]
  },
  {
   "cell_type": "code",
   "execution_count": 14,
   "id": "ec983ce4-7cd8-4860-82c8-434ad584d6eb",
   "metadata": {},
   "outputs": [],
   "source": [
    "X3 = monthly_features_outputs[(monthly_features_outputs['ME_DT'] > '2013-12-31')]"
   ]
  },
  {
   "cell_type": "code",
   "execution_count": 15,
   "id": "ff6663cd-bb77-4107-bf2c-502b6e6d770b",
   "metadata": {},
   "outputs": [
    {
     "data": {
      "text/html": [
       "<div>\n",
       "<style scoped>\n",
       "    .dataframe tbody tr th:only-of-type {\n",
       "        vertical-align: middle;\n",
       "    }\n",
       "\n",
       "    .dataframe tbody tr th {\n",
       "        vertical-align: top;\n",
       "    }\n",
       "\n",
       "    .dataframe thead th {\n",
       "        text-align: right;\n",
       "    }\n",
       "</style>\n",
       "<table border=\"1\" class=\"dataframe\">\n",
       "  <thead>\n",
       "    <tr style=\"text-align: right;\">\n",
       "      <th></th>\n",
       "      <th>ME_DT</th>\n",
       "      <th>mth_txn_amt_sum</th>\n",
       "      <th>mth_txn_cnt</th>\n",
       "      <th>amt_sum_3M</th>\n",
       "      <th>amt_mean_3M</th>\n",
       "      <th>amt_max_3M</th>\n",
       "      <th>txn_cnt_sum_3M</th>\n",
       "      <th>txn_cnt_mean_3M</th>\n",
       "      <th>txn_cnt_max_3M</th>\n",
       "      <th>amt_sum_6M</th>\n",
       "      <th>...</th>\n",
       "      <th>txn_cnt_max_12M</th>\n",
       "      <th>cnt_Friday</th>\n",
       "      <th>cnt_Monday</th>\n",
       "      <th>cnt_Saturday</th>\n",
       "      <th>cnt_Sunday</th>\n",
       "      <th>cnt_Thursday</th>\n",
       "      <th>cnt_Tuesday</th>\n",
       "      <th>cnt_Wednesday</th>\n",
       "      <th>days_since_last_txn</th>\n",
       "      <th>response</th>\n",
       "    </tr>\n",
       "  </thead>\n",
       "  <tbody>\n",
       "    <tr>\n",
       "      <th>32</th>\n",
       "      <td>2014-01-31</td>\n",
       "      <td>0</td>\n",
       "      <td>0</td>\n",
       "      <td>71.0</td>\n",
       "      <td>23.666667</td>\n",
       "      <td>71.0</td>\n",
       "      <td>1.0</td>\n",
       "      <td>0.333333</td>\n",
       "      <td>1.0</td>\n",
       "      <td>71.0</td>\n",
       "      <td>...</td>\n",
       "      <td>1.0</td>\n",
       "      <td>0</td>\n",
       "      <td>0</td>\n",
       "      <td>0</td>\n",
       "      <td>0</td>\n",
       "      <td>0</td>\n",
       "      <td>0</td>\n",
       "      <td>0</td>\n",
       "      <td>79</td>\n",
       "      <td>0</td>\n",
       "    </tr>\n",
       "    <tr>\n",
       "      <th>33</th>\n",
       "      <td>2014-02-28</td>\n",
       "      <td>0</td>\n",
       "      <td>0</td>\n",
       "      <td>0.0</td>\n",
       "      <td>0.000000</td>\n",
       "      <td>0.0</td>\n",
       "      <td>0.0</td>\n",
       "      <td>0.000000</td>\n",
       "      <td>0.0</td>\n",
       "      <td>71.0</td>\n",
       "      <td>...</td>\n",
       "      <td>1.0</td>\n",
       "      <td>0</td>\n",
       "      <td>0</td>\n",
       "      <td>0</td>\n",
       "      <td>0</td>\n",
       "      <td>0</td>\n",
       "      <td>0</td>\n",
       "      <td>0</td>\n",
       "      <td>107</td>\n",
       "      <td>0</td>\n",
       "    </tr>\n",
       "    <tr>\n",
       "      <th>34</th>\n",
       "      <td>2014-03-31</td>\n",
       "      <td>0</td>\n",
       "      <td>0</td>\n",
       "      <td>0.0</td>\n",
       "      <td>0.000000</td>\n",
       "      <td>0.0</td>\n",
       "      <td>0.0</td>\n",
       "      <td>0.000000</td>\n",
       "      <td>0.0</td>\n",
       "      <td>71.0</td>\n",
       "      <td>...</td>\n",
       "      <td>1.0</td>\n",
       "      <td>0</td>\n",
       "      <td>0</td>\n",
       "      <td>0</td>\n",
       "      <td>0</td>\n",
       "      <td>0</td>\n",
       "      <td>0</td>\n",
       "      <td>0</td>\n",
       "      <td>138</td>\n",
       "      <td>0</td>\n",
       "    </tr>\n",
       "    <tr>\n",
       "      <th>35</th>\n",
       "      <td>2014-04-30</td>\n",
       "      <td>63</td>\n",
       "      <td>1</td>\n",
       "      <td>63.0</td>\n",
       "      <td>21.000000</td>\n",
       "      <td>63.0</td>\n",
       "      <td>1.0</td>\n",
       "      <td>0.333333</td>\n",
       "      <td>1.0</td>\n",
       "      <td>134.0</td>\n",
       "      <td>...</td>\n",
       "      <td>1.0</td>\n",
       "      <td>0</td>\n",
       "      <td>0</td>\n",
       "      <td>0</td>\n",
       "      <td>0</td>\n",
       "      <td>0</td>\n",
       "      <td>1</td>\n",
       "      <td>0</td>\n",
       "      <td>1</td>\n",
       "      <td>0</td>\n",
       "    </tr>\n",
       "    <tr>\n",
       "      <th>36</th>\n",
       "      <td>2014-05-31</td>\n",
       "      <td>0</td>\n",
       "      <td>0</td>\n",
       "      <td>63.0</td>\n",
       "      <td>21.000000</td>\n",
       "      <td>63.0</td>\n",
       "      <td>1.0</td>\n",
       "      <td>0.333333</td>\n",
       "      <td>1.0</td>\n",
       "      <td>63.0</td>\n",
       "      <td>...</td>\n",
       "      <td>1.0</td>\n",
       "      <td>0</td>\n",
       "      <td>0</td>\n",
       "      <td>0</td>\n",
       "      <td>0</td>\n",
       "      <td>0</td>\n",
       "      <td>0</td>\n",
       "      <td>0</td>\n",
       "      <td>32</td>\n",
       "      <td>0</td>\n",
       "    </tr>\n",
       "    <tr>\n",
       "      <th>...</th>\n",
       "      <td>...</td>\n",
       "      <td>...</td>\n",
       "      <td>...</td>\n",
       "      <td>...</td>\n",
       "      <td>...</td>\n",
       "      <td>...</td>\n",
       "      <td>...</td>\n",
       "      <td>...</td>\n",
       "      <td>...</td>\n",
       "      <td>...</td>\n",
       "      <td>...</td>\n",
       "      <td>...</td>\n",
       "      <td>...</td>\n",
       "      <td>...</td>\n",
       "      <td>...</td>\n",
       "      <td>...</td>\n",
       "      <td>...</td>\n",
       "      <td>...</td>\n",
       "      <td>...</td>\n",
       "      <td>...</td>\n",
       "      <td>...</td>\n",
       "    </tr>\n",
       "    <tr>\n",
       "      <th>323543</th>\n",
       "      <td>2014-11-30</td>\n",
       "      <td>0</td>\n",
       "      <td>0</td>\n",
       "      <td>0.0</td>\n",
       "      <td>0.000000</td>\n",
       "      <td>0.0</td>\n",
       "      <td>0.0</td>\n",
       "      <td>0.000000</td>\n",
       "      <td>0.0</td>\n",
       "      <td>61.0</td>\n",
       "      <td>...</td>\n",
       "      <td>1.0</td>\n",
       "      <td>0</td>\n",
       "      <td>0</td>\n",
       "      <td>0</td>\n",
       "      <td>0</td>\n",
       "      <td>0</td>\n",
       "      <td>0</td>\n",
       "      <td>0</td>\n",
       "      <td>98</td>\n",
       "      <td>0</td>\n",
       "    </tr>\n",
       "    <tr>\n",
       "      <th>323544</th>\n",
       "      <td>2014-12-31</td>\n",
       "      <td>0</td>\n",
       "      <td>0</td>\n",
       "      <td>0.0</td>\n",
       "      <td>0.000000</td>\n",
       "      <td>0.0</td>\n",
       "      <td>0.0</td>\n",
       "      <td>0.000000</td>\n",
       "      <td>0.0</td>\n",
       "      <td>61.0</td>\n",
       "      <td>...</td>\n",
       "      <td>1.0</td>\n",
       "      <td>0</td>\n",
       "      <td>0</td>\n",
       "      <td>0</td>\n",
       "      <td>0</td>\n",
       "      <td>0</td>\n",
       "      <td>0</td>\n",
       "      <td>0</td>\n",
       "      <td>129</td>\n",
       "      <td>0</td>\n",
       "    </tr>\n",
       "    <tr>\n",
       "      <th>323545</th>\n",
       "      <td>2015-01-31</td>\n",
       "      <td>0</td>\n",
       "      <td>0</td>\n",
       "      <td>0.0</td>\n",
       "      <td>0.000000</td>\n",
       "      <td>0.0</td>\n",
       "      <td>0.0</td>\n",
       "      <td>0.000000</td>\n",
       "      <td>0.0</td>\n",
       "      <td>35.0</td>\n",
       "      <td>...</td>\n",
       "      <td>1.0</td>\n",
       "      <td>0</td>\n",
       "      <td>0</td>\n",
       "      <td>0</td>\n",
       "      <td>0</td>\n",
       "      <td>0</td>\n",
       "      <td>0</td>\n",
       "      <td>0</td>\n",
       "      <td>160</td>\n",
       "      <td>0</td>\n",
       "    </tr>\n",
       "    <tr>\n",
       "      <th>323546</th>\n",
       "      <td>2015-02-28</td>\n",
       "      <td>34</td>\n",
       "      <td>1</td>\n",
       "      <td>34.0</td>\n",
       "      <td>11.333333</td>\n",
       "      <td>34.0</td>\n",
       "      <td>1.0</td>\n",
       "      <td>0.333333</td>\n",
       "      <td>1.0</td>\n",
       "      <td>34.0</td>\n",
       "      <td>...</td>\n",
       "      <td>1.0</td>\n",
       "      <td>0</td>\n",
       "      <td>0</td>\n",
       "      <td>1</td>\n",
       "      <td>0</td>\n",
       "      <td>0</td>\n",
       "      <td>0</td>\n",
       "      <td>0</td>\n",
       "      <td>0</td>\n",
       "      <td>0</td>\n",
       "    </tr>\n",
       "    <tr>\n",
       "      <th>323547</th>\n",
       "      <td>2015-03-31</td>\n",
       "      <td>0</td>\n",
       "      <td>0</td>\n",
       "      <td>34.0</td>\n",
       "      <td>11.333333</td>\n",
       "      <td>34.0</td>\n",
       "      <td>1.0</td>\n",
       "      <td>0.333333</td>\n",
       "      <td>1.0</td>\n",
       "      <td>34.0</td>\n",
       "      <td>...</td>\n",
       "      <td>1.0</td>\n",
       "      <td>0</td>\n",
       "      <td>0</td>\n",
       "      <td>0</td>\n",
       "      <td>0</td>\n",
       "      <td>0</td>\n",
       "      <td>0</td>\n",
       "      <td>0</td>\n",
       "      <td>31</td>\n",
       "      <td>0</td>\n",
       "    </tr>\n",
       "  </tbody>\n",
       "</table>\n",
       "<p>103260 rows × 30 columns</p>\n",
       "</div>"
      ],
      "text/plain": [
       "            ME_DT  mth_txn_amt_sum  mth_txn_cnt  amt_sum_3M  amt_mean_3M  \\\n",
       "32     2014-01-31                0            0        71.0    23.666667   \n",
       "33     2014-02-28                0            0         0.0     0.000000   \n",
       "34     2014-03-31                0            0         0.0     0.000000   \n",
       "35     2014-04-30               63            1        63.0    21.000000   \n",
       "36     2014-05-31                0            0        63.0    21.000000   \n",
       "...           ...              ...          ...         ...          ...   \n",
       "323543 2014-11-30                0            0         0.0     0.000000   \n",
       "323544 2014-12-31                0            0         0.0     0.000000   \n",
       "323545 2015-01-31                0            0         0.0     0.000000   \n",
       "323546 2015-02-28               34            1        34.0    11.333333   \n",
       "323547 2015-03-31                0            0        34.0    11.333333   \n",
       "\n",
       "        amt_max_3M  txn_cnt_sum_3M  txn_cnt_mean_3M  txn_cnt_max_3M  \\\n",
       "32            71.0             1.0         0.333333             1.0   \n",
       "33             0.0             0.0         0.000000             0.0   \n",
       "34             0.0             0.0         0.000000             0.0   \n",
       "35            63.0             1.0         0.333333             1.0   \n",
       "36            63.0             1.0         0.333333             1.0   \n",
       "...            ...             ...              ...             ...   \n",
       "323543         0.0             0.0         0.000000             0.0   \n",
       "323544         0.0             0.0         0.000000             0.0   \n",
       "323545         0.0             0.0         0.000000             0.0   \n",
       "323546        34.0             1.0         0.333333             1.0   \n",
       "323547        34.0             1.0         0.333333             1.0   \n",
       "\n",
       "        amt_sum_6M  ...  txn_cnt_max_12M  cnt_Friday  cnt_Monday  \\\n",
       "32            71.0  ...              1.0           0           0   \n",
       "33            71.0  ...              1.0           0           0   \n",
       "34            71.0  ...              1.0           0           0   \n",
       "35           134.0  ...              1.0           0           0   \n",
       "36            63.0  ...              1.0           0           0   \n",
       "...            ...  ...              ...         ...         ...   \n",
       "323543        61.0  ...              1.0           0           0   \n",
       "323544        61.0  ...              1.0           0           0   \n",
       "323545        35.0  ...              1.0           0           0   \n",
       "323546        34.0  ...              1.0           0           0   \n",
       "323547        34.0  ...              1.0           0           0   \n",
       "\n",
       "        cnt_Saturday  cnt_Sunday  cnt_Thursday  cnt_Tuesday  cnt_Wednesday  \\\n",
       "32                 0           0             0            0              0   \n",
       "33                 0           0             0            0              0   \n",
       "34                 0           0             0            0              0   \n",
       "35                 0           0             0            1              0   \n",
       "36                 0           0             0            0              0   \n",
       "...              ...         ...           ...          ...            ...   \n",
       "323543             0           0             0            0              0   \n",
       "323544             0           0             0            0              0   \n",
       "323545             0           0             0            0              0   \n",
       "323546             1           0             0            0              0   \n",
       "323547             0           0             0            0              0   \n",
       "\n",
       "        days_since_last_txn  response  \n",
       "32                       79         0  \n",
       "33                      107         0  \n",
       "34                      138         0  \n",
       "35                        1         0  \n",
       "36                       32         0  \n",
       "...                     ...       ...  \n",
       "323543                   98         0  \n",
       "323544                  129         0  \n",
       "323545                  160         0  \n",
       "323546                    0         0  \n",
       "323547                   31         0  \n",
       "\n",
       "[103260 rows x 30 columns]"
      ]
     },
     "execution_count": 15,
     "metadata": {},
     "output_type": "execute_result"
    }
   ],
   "source": [
    "X3 = X3.drop(['Unnamed: 0','CLNT_NO'],axis=1)\n",
    "X3"
   ]
  },
  {
   "cell_type": "code",
   "execution_count": 16,
   "id": "110d286d-d913-4d72-b8d3-b03564874ae1",
   "metadata": {},
   "outputs": [],
   "source": [
    "df1 = X3"
   ]
  },
  {
   "cell_type": "code",
   "execution_count": 17,
   "id": "1af3779e-5cf8-4e36-934a-9b274699c99e",
   "metadata": {},
   "outputs": [],
   "source": [
    "y3 = X3['response']"
   ]
  },
  {
   "cell_type": "code",
   "execution_count": 18,
   "id": "1f5e754e-e5d4-47b5-a80b-b2e40d5c0b1d",
   "metadata": {},
   "outputs": [],
   "source": [
    "X3 = X3.drop(['response','ME_DT'],axis=1)"
   ]
  },
  {
   "cell_type": "code",
   "execution_count": 19,
   "id": "4e8f7681-4eab-4a6e-813a-105d6934a3fe",
   "metadata": {},
   "outputs": [
    {
     "data": {
      "text/plain": [
       "0    93555\n",
       "1     9705\n",
       "Name: response, dtype: int64"
      ]
     },
     "execution_count": 19,
     "metadata": {},
     "output_type": "execute_result"
    }
   ],
   "source": [
    "y3.value_counts()"
   ]
  },
  {
   "cell_type": "code",
   "execution_count": 20,
   "id": "7a33f49f-af25-416b-97fa-17294e20304c",
   "metadata": {},
   "outputs": [],
   "source": [
    "X_test = X3\n",
    "y_test = y3"
   ]
  },
  {
   "cell_type": "markdown",
   "id": "c55a1b72-9144-4686-a47e-08454090b828",
   "metadata": {},
   "source": [
    "### The optimum/best random forest model for tuning of data prior to 2013 December"
   ]
  },
  {
   "cell_type": "code",
   "execution_count": 21,
   "id": "445ce03c-ae32-4993-afb8-de397a8ba49b",
   "metadata": {},
   "outputs": [],
   "source": [
    "best_RF = RandomForestClassifier(n_estimators=20, max_depth=6, random_state=1148)"
   ]
  },
  {
   "cell_type": "code",
   "execution_count": 22,
   "id": "ee5a7cb3-b662-4547-89cc-ee1c7e57b8e6",
   "metadata": {},
   "outputs": [
    {
     "name": "stdout",
     "output_type": "stream",
     "text": [
      "Train Mean Accuracy: 0.91\n",
      "Test Mean Accuracy: 0.91\n"
     ]
    }
   ],
   "source": [
    "best_RF.fit(X_train, y_train)\n",
    "Train_Error_RF = best_RF.score(X_train, y_train)\n",
    "Test_Error_RF = best_RF.score(X_test, y_test)\n",
    "\n",
    "print('Train Mean Accuracy:', round(Train_Error_RF,2))\n",
    "print('Test Mean Accuracy:', round(Test_Error_RF,2))"
   ]
  },
  {
   "cell_type": "code",
   "execution_count": 23,
   "id": "0acfae2d-7654-4c79-9250-62fa4a325032",
   "metadata": {},
   "outputs": [],
   "source": [
    "scores_train = best_RF.predict_proba(X_train)[:,1]"
   ]
  },
  {
   "cell_type": "code",
   "execution_count": 24,
   "id": "d3943b6e-8959-42e4-994e-98600b6655ca",
   "metadata": {},
   "outputs": [
    {
     "data": {
      "text/plain": [
       "array([0.08460479, 0.08740668, 0.08308544, ..., 0.06773854, 0.06619145,\n",
       "       0.0679414 ])"
      ]
     },
     "execution_count": 24,
     "metadata": {},
     "output_type": "execute_result"
    }
   ],
   "source": [
    "scores_train"
   ]
  },
  {
   "cell_type": "code",
   "execution_count": 25,
   "id": "9f42a55d-3a7c-4c6b-b4c9-d6e0423b5526",
   "metadata": {},
   "outputs": [
    {
     "data": {
      "text/plain": [
       "array([0.08774477, 0.0836272 , 0.05073328, ..., 0.03674511, 0.03277038,\n",
       "       0.03277038])"
      ]
     },
     "execution_count": 25,
     "metadata": {},
     "output_type": "execute_result"
    }
   ],
   "source": [
    "scores_test  = best_RF.predict_proba(X_test)[:,1]  \n",
    "scores_test"
   ]
  },
  {
   "cell_type": "markdown",
   "id": "8276ad4c-f158-4332-b0c2-4581ae725112",
   "metadata": {},
   "source": [
    "**Overall/total drift for the model**"
   ]
  },
  {
   "cell_type": "code",
   "execution_count": 26,
   "id": "58195b53-56bd-448a-b060-efdf96c9924d",
   "metadata": {},
   "outputs": [
    {
     "data": {
      "text/plain": [
       "[Text(0.5, 0, 'Baseline Score'), Text(0, 0.5, 'Frequency')]"
      ]
     },
     "execution_count": 26,
     "metadata": {},
     "output_type": "execute_result"
    },
    {
     "data": {
      "image/png": "[encoded data removed]",
      "text/plain": [
       "<Figure size 432x288 with 1 Axes>"
      ]
     },
     "metadata": {
      "needs_background": "light"
     },
     "output_type": "display_data"
    }
   ],
   "source": [
    "ax = sns.histplot(scores_train,                \n",
    "                  color='red',\n",
    "                  bins=100)\n",
    "ax.set(xlabel='Baseline Score', ylabel='Frequency')"
   ]
  },
  {
   "cell_type": "code",
   "execution_count": 27,
   "id": "eb7d76f4-e0b4-43e6-ab82-fbc45ad719b3",
   "metadata": {},
   "outputs": [
    {
     "data": {
      "text/plain": [
       "(array([ 56109, 140194,  23805,    122,     35,      6,      9,      2,\n",
       "             4,      2], dtype=int64),\n",
       " array([0.02803711, 0.07978114, 0.13152517, 0.1832692 , 0.23501323,\n",
       "        0.28675726, 0.33850129, 0.39024532, 0.44198935, 0.49373338,\n",
       "        0.54547741]))"
      ]
     },
     "execution_count": 27,
     "metadata": {},
     "output_type": "execute_result"
    }
   ],
   "source": [
    "np.histogram(scores_train)"
   ]
  },
  {
   "cell_type": "code",
   "execution_count": 28,
   "id": "dfda0467-e1ed-4166-8b0b-513b378df16a",
   "metadata": {},
   "outputs": [
    {
     "data": {
      "text/plain": [
       "array([0.        , 0.0510112 , 0.07055336, 0.08308544, 0.08460479,\n",
       "       0.0950964 , 0.10449161, 0.11042962, 0.11760168, 0.1333565 ,\n",
       "       0.54547741])"
      ]
     },
     "execution_count": 28,
     "metadata": {},
     "output_type": "execute_result"
    }
   ],
   "source": [
    "bin_edges = np.quantile(scores_train, np.arange(0, 1.1, 0.1))\n",
    "bin_edges[0]=0 # We replace the first element with zero since it's the lower cap\n",
    "bin_edges"
   ]
  },
  {
   "cell_type": "code",
   "execution_count": 29,
   "id": "fd6a6ad6-fc93-4c22-b4f7-b5ec772ba86b",
   "metadata": {},
   "outputs": [
    {
     "data": {
      "text/plain": [
       "(array([21830, 21996, 21098,  4647, 40568, 22016, 21965, 22110, 22026,\n",
       "        22032], dtype=int64),\n",
       " array([0.        , 0.0510112 , 0.07055336, 0.08308544, 0.08460479,\n",
       "        0.0950964 , 0.10449161, 0.11042962, 0.11760168, 0.1333565 ,\n",
       "        0.54547741]))"
      ]
     },
     "execution_count": 29,
     "metadata": {},
     "output_type": "execute_result"
    }
   ],
   "source": [
    "p = np.histogram(scores_train, bin_edges)\n",
    "p"
   ]
  },
  {
   "cell_type": "code",
   "execution_count": 30,
   "id": "7d350665-47b3-4fa6-b5dc-850632fd2971",
   "metadata": {},
   "outputs": [
    {
     "data": {
      "text/plain": [
       "[Text(0.5, 0, 'Target Score'), Text(0, 0.5, 'Frequency')]"
      ]
     },
     "execution_count": 30,
     "metadata": {},
     "output_type": "execute_result"
    },
    {
     "data": {
      "image/png": "[encoded data removed]",
      "text/plain": [
       "<Figure size 432x288 with 1 Axes>"
      ]
     },
     "metadata": {
      "needs_background": "light"
     },
     "output_type": "display_data"
    }
   ],
   "source": [
    "ax = sns.histplot(scores_test,                \n",
    "                  color='blue',\n",
    "                  bins=100)\n",
    "ax.set(xlabel='Target Score', ylabel='Frequency')"
   ]
  },
  {
   "cell_type": "code",
   "execution_count": 31,
   "id": "fe330172-6594-4d0d-a7d9-e7fe7fa132d8",
   "metadata": {},
   "outputs": [
    {
     "data": {
      "text/plain": [
       "(array([15123, 14905,  7006,   799,  7047, 11807,  7478,  9240, 14811,\n",
       "        15044], dtype=int64),\n",
       " array([0.        , 0.0510112 , 0.07055336, 0.08308544, 0.08460479,\n",
       "        0.0950964 , 0.10449161, 0.11042962, 0.11760168, 0.1333565 ,\n",
       "        0.54547741]))"
      ]
     },
     "execution_count": 31,
     "metadata": {},
     "output_type": "execute_result"
    }
   ],
   "source": [
    "q = np.histogram(scores_test, bin_edges)\n",
    "q"
   ]
  },
  {
   "cell_type": "code",
   "execution_count": 32,
   "id": "f6298b30-9633-438d-b6d5-18c379308c9a",
   "metadata": {},
   "outputs": [
    {
     "data": {
      "text/plain": [
       "array([15123, 14905,  7006,   799,  7047, 11807,  7478,  9240, 14811,\n",
       "       15044], dtype=int64)"
      ]
     },
     "execution_count": 32,
     "metadata": {},
     "output_type": "execute_result"
    }
   ],
   "source": [
    "q[0]"
   ]
  },
  {
   "cell_type": "code",
   "execution_count": 33,
   "id": "db570635-917e-48ad-a121-8280c7372bf1",
   "metadata": {},
   "outputs": [
    {
     "data": {
      "text/plain": [
       "0.1956400362680422"
      ]
     },
     "execution_count": 33,
     "metadata": {},
     "output_type": "execute_result"
    }
   ],
   "source": [
    "from scipy.spatial import distance\n",
    "distance.jensenshannon(p[0], q[0], 2.0)"
   ]
  },
  {
   "cell_type": "markdown",
   "id": "d6f7dc40-768d-4296-a005-5b815daca6dd",
   "metadata": {},
   "source": [
    "From the above jensonshannon value, it is evident that there is a drift in the production scores compared to the Baseline distribution."
   ]
  },
  {
   "cell_type": "code",
   "execution_count": 34,
   "id": "9a33d6cc-1524-43a3-9585-4f701edd36fe",
   "metadata": {},
   "outputs": [
    {
     "data": {
      "text/plain": [
       "(220288,)"
      ]
     },
     "execution_count": 34,
     "metadata": {},
     "output_type": "execute_result"
    }
   ],
   "source": [
    "scores_train.shape"
   ]
  },
  {
   "cell_type": "markdown",
   "id": "5014657e-f974-43f2-b17a-5e8de4c396d3",
   "metadata": {},
   "source": [
    "### To calculate the drift value of the scores month over month"
   ]
  },
  {
   "cell_type": "code",
   "execution_count": 35,
   "id": "6b11e102-49c3-4c99-9532-eae7665d206b",
   "metadata": {},
   "outputs": [],
   "source": [
    "scores_train_df = pd.DataFrame(scores_train)\n",
    "scores_train_df = scores_train_df.set_axis(['scores_train'], axis=1)"
   ]
  },
  {
   "cell_type": "code",
   "execution_count": 36,
   "id": "42d804a3-afa7-4878-82ce-f176a5a5521d",
   "metadata": {},
   "outputs": [],
   "source": [
    "#scores_train_df"
   ]
  },
  {
   "cell_type": "code",
   "execution_count": 37,
   "id": "91ec40e6-38cb-426a-be05-64800539c1d7",
   "metadata": {},
   "outputs": [],
   "source": [
    "scores_test_df = pd.DataFrame(scores_test)\n",
    "scores_test_df = scores_test_df.set_axis(['scores_test'], axis=1)"
   ]
  },
  {
   "cell_type": "code",
   "execution_count": 38,
   "id": "891abb8b-8a0b-4b62-a78e-84d2178ccba5",
   "metadata": {},
   "outputs": [],
   "source": [
    "#scores_test_df"
   ]
  },
  {
   "cell_type": "code",
   "execution_count": 39,
   "id": "ae30e768-ea04-4dab-b5c7-edbd869419c7",
   "metadata": {},
   "outputs": [],
   "source": [
    "X4 = monthly_features_outputs[(monthly_features_outputs['ME_DT'] > '2013-12-31')]"
   ]
  },
  {
   "cell_type": "code",
   "execution_count": 40,
   "id": "248a6ad1-c749-4d76-9a72-c6336e353a1e",
   "metadata": {},
   "outputs": [],
   "source": [
    "X4 = X4.drop(columns=['Unnamed: 0'],axis=1)"
   ]
  },
  {
   "cell_type": "code",
   "execution_count": 41,
   "id": "e1d7ca57-6be6-4bf1-94bd-78b65c1c90f4",
   "metadata": {},
   "outputs": [
    {
     "data": {
      "text/html": [
       "<div>\n",
       "<style scoped>\n",
       "    .dataframe tbody tr th:only-of-type {\n",
       "        vertical-align: middle;\n",
       "    }\n",
       "\n",
       "    .dataframe tbody tr th {\n",
       "        vertical-align: top;\n",
       "    }\n",
       "\n",
       "    .dataframe thead th {\n",
       "        text-align: right;\n",
       "    }\n",
       "</style>\n",
       "<table border=\"1\" class=\"dataframe\">\n",
       "  <thead>\n",
       "    <tr style=\"text-align: right;\">\n",
       "      <th></th>\n",
       "      <th>CLNT_NO</th>\n",
       "      <th>ME_DT</th>\n",
       "      <th>mth_txn_amt_sum</th>\n",
       "      <th>mth_txn_cnt</th>\n",
       "      <th>amt_sum_3M</th>\n",
       "      <th>amt_mean_3M</th>\n",
       "      <th>amt_max_3M</th>\n",
       "      <th>txn_cnt_sum_3M</th>\n",
       "      <th>txn_cnt_mean_3M</th>\n",
       "      <th>txn_cnt_max_3M</th>\n",
       "      <th>...</th>\n",
       "      <th>txn_cnt_max_12M</th>\n",
       "      <th>cnt_Friday</th>\n",
       "      <th>cnt_Monday</th>\n",
       "      <th>cnt_Saturday</th>\n",
       "      <th>cnt_Sunday</th>\n",
       "      <th>cnt_Thursday</th>\n",
       "      <th>cnt_Tuesday</th>\n",
       "      <th>cnt_Wednesday</th>\n",
       "      <th>days_since_last_txn</th>\n",
       "      <th>response</th>\n",
       "    </tr>\n",
       "  </thead>\n",
       "  <tbody>\n",
       "    <tr>\n",
       "      <th>32</th>\n",
       "      <td>CS1112</td>\n",
       "      <td>2014-01-31</td>\n",
       "      <td>0</td>\n",
       "      <td>0</td>\n",
       "      <td>71.0</td>\n",
       "      <td>23.666667</td>\n",
       "      <td>71.0</td>\n",
       "      <td>1.0</td>\n",
       "      <td>0.333333</td>\n",
       "      <td>1.0</td>\n",
       "      <td>...</td>\n",
       "      <td>1.0</td>\n",
       "      <td>0</td>\n",
       "      <td>0</td>\n",
       "      <td>0</td>\n",
       "      <td>0</td>\n",
       "      <td>0</td>\n",
       "      <td>0</td>\n",
       "      <td>0</td>\n",
       "      <td>79</td>\n",
       "      <td>0</td>\n",
       "    </tr>\n",
       "    <tr>\n",
       "      <th>33</th>\n",
       "      <td>CS1112</td>\n",
       "      <td>2014-02-28</td>\n",
       "      <td>0</td>\n",
       "      <td>0</td>\n",
       "      <td>0.0</td>\n",
       "      <td>0.000000</td>\n",
       "      <td>0.0</td>\n",
       "      <td>0.0</td>\n",
       "      <td>0.000000</td>\n",
       "      <td>0.0</td>\n",
       "      <td>...</td>\n",
       "      <td>1.0</td>\n",
       "      <td>0</td>\n",
       "      <td>0</td>\n",
       "      <td>0</td>\n",
       "      <td>0</td>\n",
       "      <td>0</td>\n",
       "      <td>0</td>\n",
       "      <td>0</td>\n",
       "      <td>107</td>\n",
       "      <td>0</td>\n",
       "    </tr>\n",
       "    <tr>\n",
       "      <th>34</th>\n",
       "      <td>CS1112</td>\n",
       "      <td>2014-03-31</td>\n",
       "      <td>0</td>\n",
       "      <td>0</td>\n",
       "      <td>0.0</td>\n",
       "      <td>0.000000</td>\n",
       "      <td>0.0</td>\n",
       "      <td>0.0</td>\n",
       "      <td>0.000000</td>\n",
       "      <td>0.0</td>\n",
       "      <td>...</td>\n",
       "      <td>1.0</td>\n",
       "      <td>0</td>\n",
       "      <td>0</td>\n",
       "      <td>0</td>\n",
       "      <td>0</td>\n",
       "      <td>0</td>\n",
       "      <td>0</td>\n",
       "      <td>0</td>\n",
       "      <td>138</td>\n",
       "      <td>0</td>\n",
       "    </tr>\n",
       "    <tr>\n",
       "      <th>35</th>\n",
       "      <td>CS1112</td>\n",
       "      <td>2014-04-30</td>\n",
       "      <td>63</td>\n",
       "      <td>1</td>\n",
       "      <td>63.0</td>\n",
       "      <td>21.000000</td>\n",
       "      <td>63.0</td>\n",
       "      <td>1.0</td>\n",
       "      <td>0.333333</td>\n",
       "      <td>1.0</td>\n",
       "      <td>...</td>\n",
       "      <td>1.0</td>\n",
       "      <td>0</td>\n",
       "      <td>0</td>\n",
       "      <td>0</td>\n",
       "      <td>0</td>\n",
       "      <td>0</td>\n",
       "      <td>1</td>\n",
       "      <td>0</td>\n",
       "      <td>1</td>\n",
       "      <td>0</td>\n",
       "    </tr>\n",
       "    <tr>\n",
       "      <th>36</th>\n",
       "      <td>CS1112</td>\n",
       "      <td>2014-05-31</td>\n",
       "      <td>0</td>\n",
       "      <td>0</td>\n",
       "      <td>63.0</td>\n",
       "      <td>21.000000</td>\n",
       "      <td>63.0</td>\n",
       "      <td>1.0</td>\n",
       "      <td>0.333333</td>\n",
       "      <td>1.0</td>\n",
       "      <td>...</td>\n",
       "      <td>1.0</td>\n",
       "      <td>0</td>\n",
       "      <td>0</td>\n",
       "      <td>0</td>\n",
       "      <td>0</td>\n",
       "      <td>0</td>\n",
       "      <td>0</td>\n",
       "      <td>0</td>\n",
       "      <td>32</td>\n",
       "      <td>0</td>\n",
       "    </tr>\n",
       "    <tr>\n",
       "      <th>...</th>\n",
       "      <td>...</td>\n",
       "      <td>...</td>\n",
       "      <td>...</td>\n",
       "      <td>...</td>\n",
       "      <td>...</td>\n",
       "      <td>...</td>\n",
       "      <td>...</td>\n",
       "      <td>...</td>\n",
       "      <td>...</td>\n",
       "      <td>...</td>\n",
       "      <td>...</td>\n",
       "      <td>...</td>\n",
       "      <td>...</td>\n",
       "      <td>...</td>\n",
       "      <td>...</td>\n",
       "      <td>...</td>\n",
       "      <td>...</td>\n",
       "      <td>...</td>\n",
       "      <td>...</td>\n",
       "      <td>...</td>\n",
       "      <td>...</td>\n",
       "    </tr>\n",
       "    <tr>\n",
       "      <th>323543</th>\n",
       "      <td>CS9000</td>\n",
       "      <td>2014-11-30</td>\n",
       "      <td>0</td>\n",
       "      <td>0</td>\n",
       "      <td>0.0</td>\n",
       "      <td>0.000000</td>\n",
       "      <td>0.0</td>\n",
       "      <td>0.0</td>\n",
       "      <td>0.000000</td>\n",
       "      <td>0.0</td>\n",
       "      <td>...</td>\n",
       "      <td>1.0</td>\n",
       "      <td>0</td>\n",
       "      <td>0</td>\n",
       "      <td>0</td>\n",
       "      <td>0</td>\n",
       "      <td>0</td>\n",
       "      <td>0</td>\n",
       "      <td>0</td>\n",
       "      <td>98</td>\n",
       "      <td>0</td>\n",
       "    </tr>\n",
       "    <tr>\n",
       "      <th>323544</th>\n",
       "      <td>CS9000</td>\n",
       "      <td>2014-12-31</td>\n",
       "      <td>0</td>\n",
       "      <td>0</td>\n",
       "      <td>0.0</td>\n",
       "      <td>0.000000</td>\n",
       "      <td>0.0</td>\n",
       "      <td>0.0</td>\n",
       "      <td>0.000000</td>\n",
       "      <td>0.0</td>\n",
       "      <td>...</td>\n",
       "      <td>1.0</td>\n",
       "      <td>0</td>\n",
       "      <td>0</td>\n",
       "      <td>0</td>\n",
       "      <td>0</td>\n",
       "      <td>0</td>\n",
       "      <td>0</td>\n",
       "      <td>0</td>\n",
       "      <td>129</td>\n",
       "      <td>0</td>\n",
       "    </tr>\n",
       "    <tr>\n",
       "      <th>323545</th>\n",
       "      <td>CS9000</td>\n",
       "      <td>2015-01-31</td>\n",
       "      <td>0</td>\n",
       "      <td>0</td>\n",
       "      <td>0.0</td>\n",
       "      <td>0.000000</td>\n",
       "      <td>0.0</td>\n",
       "      <td>0.0</td>\n",
       "      <td>0.000000</td>\n",
       "      <td>0.0</td>\n",
       "      <td>...</td>\n",
       "      <td>1.0</td>\n",
       "      <td>0</td>\n",
       "      <td>0</td>\n",
       "      <td>0</td>\n",
       "      <td>0</td>\n",
       "      <td>0</td>\n",
       "      <td>0</td>\n",
       "      <td>0</td>\n",
       "      <td>160</td>\n",
       "      <td>0</td>\n",
       "    </tr>\n",
       "    <tr>\n",
       "      <th>323546</th>\n",
       "      <td>CS9000</td>\n",
       "      <td>2015-02-28</td>\n",
       "      <td>34</td>\n",
       "      <td>1</td>\n",
       "      <td>34.0</td>\n",
       "      <td>11.333333</td>\n",
       "      <td>34.0</td>\n",
       "      <td>1.0</td>\n",
       "      <td>0.333333</td>\n",
       "      <td>1.0</td>\n",
       "      <td>...</td>\n",
       "      <td>1.0</td>\n",
       "      <td>0</td>\n",
       "      <td>0</td>\n",
       "      <td>1</td>\n",
       "      <td>0</td>\n",
       "      <td>0</td>\n",
       "      <td>0</td>\n",
       "      <td>0</td>\n",
       "      <td>0</td>\n",
       "      <td>0</td>\n",
       "    </tr>\n",
       "    <tr>\n",
       "      <th>323547</th>\n",
       "      <td>CS9000</td>\n",
       "      <td>2015-03-31</td>\n",
       "      <td>0</td>\n",
       "      <td>0</td>\n",
       "      <td>34.0</td>\n",
       "      <td>11.333333</td>\n",
       "      <td>34.0</td>\n",
       "      <td>1.0</td>\n",
       "      <td>0.333333</td>\n",
       "      <td>1.0</td>\n",
       "      <td>...</td>\n",
       "      <td>1.0</td>\n",
       "      <td>0</td>\n",
       "      <td>0</td>\n",
       "      <td>0</td>\n",
       "      <td>0</td>\n",
       "      <td>0</td>\n",
       "      <td>0</td>\n",
       "      <td>0</td>\n",
       "      <td>31</td>\n",
       "      <td>0</td>\n",
       "    </tr>\n",
       "  </tbody>\n",
       "</table>\n",
       "<p>103260 rows × 31 columns</p>\n",
       "</div>"
      ],
      "text/plain": [
       "       CLNT_NO      ME_DT  mth_txn_amt_sum  mth_txn_cnt  amt_sum_3M  \\\n",
       "32      CS1112 2014-01-31                0            0        71.0   \n",
       "33      CS1112 2014-02-28                0            0         0.0   \n",
       "34      CS1112 2014-03-31                0            0         0.0   \n",
       "35      CS1112 2014-04-30               63            1        63.0   \n",
       "36      CS1112 2014-05-31                0            0        63.0   \n",
       "...        ...        ...              ...          ...         ...   \n",
       "323543  CS9000 2014-11-30                0            0         0.0   \n",
       "323544  CS9000 2014-12-31                0            0         0.0   \n",
       "323545  CS9000 2015-01-31                0            0         0.0   \n",
       "323546  CS9000 2015-02-28               34            1        34.0   \n",
       "323547  CS9000 2015-03-31                0            0        34.0   \n",
       "\n",
       "        amt_mean_3M  amt_max_3M  txn_cnt_sum_3M  txn_cnt_mean_3M  \\\n",
       "32        23.666667        71.0             1.0         0.333333   \n",
       "33         0.000000         0.0             0.0         0.000000   \n",
       "34         0.000000         0.0             0.0         0.000000   \n",
       "35        21.000000        63.0             1.0         0.333333   \n",
       "36        21.000000        63.0             1.0         0.333333   \n",
       "...             ...         ...             ...              ...   \n",
       "323543     0.000000         0.0             0.0         0.000000   \n",
       "323544     0.000000         0.0             0.0         0.000000   \n",
       "323545     0.000000         0.0             0.0         0.000000   \n",
       "323546    11.333333        34.0             1.0         0.333333   \n",
       "323547    11.333333        34.0             1.0         0.333333   \n",
       "\n",
       "        txn_cnt_max_3M  ...  txn_cnt_max_12M  cnt_Friday  cnt_Monday  \\\n",
       "32                 1.0  ...              1.0           0           0   \n",
       "33                 0.0  ...              1.0           0           0   \n",
       "34                 0.0  ...              1.0           0           0   \n",
       "35                 1.0  ...              1.0           0           0   \n",
       "36                 1.0  ...              1.0           0           0   \n",
       "...                ...  ...              ...         ...         ...   \n",
       "323543             0.0  ...              1.0           0           0   \n",
       "323544             0.0  ...              1.0           0           0   \n",
       "323545             0.0  ...              1.0           0           0   \n",
       "323546             1.0  ...              1.0           0           0   \n",
       "323547             1.0  ...              1.0           0           0   \n",
       "\n",
       "        cnt_Saturday  cnt_Sunday  cnt_Thursday  cnt_Tuesday  cnt_Wednesday  \\\n",
       "32                 0           0             0            0              0   \n",
       "33                 0           0             0            0              0   \n",
       "34                 0           0             0            0              0   \n",
       "35                 0           0             0            1              0   \n",
       "36                 0           0             0            0              0   \n",
       "...              ...         ...           ...          ...            ...   \n",
       "323543             0           0             0            0              0   \n",
       "323544             0           0             0            0              0   \n",
       "323545             0           0             0            0              0   \n",
       "323546             1           0             0            0              0   \n",
       "323547             0           0             0            0              0   \n",
       "\n",
       "        days_since_last_txn  response  \n",
       "32                       79         0  \n",
       "33                      107         0  \n",
       "34                      138         0  \n",
       "35                        1         0  \n",
       "36                       32         0  \n",
       "...                     ...       ...  \n",
       "323543                   98         0  \n",
       "323544                  129         0  \n",
       "323545                  160         0  \n",
       "323546                    0         0  \n",
       "323547                   31         0  \n",
       "\n",
       "[103260 rows x 31 columns]"
      ]
     },
     "execution_count": 41,
     "metadata": {},
     "output_type": "execute_result"
    }
   ],
   "source": [
    "X4"
   ]
  },
  {
   "cell_type": "code",
   "execution_count": 42,
   "id": "0f68c6f8-6508-4db3-8a58-80838baba88b",
   "metadata": {},
   "outputs": [],
   "source": [
    "X4 = X4.reset_index()\n",
    "X4 = X4.drop(columns=['index'],axis=1)"
   ]
  },
  {
   "cell_type": "code",
   "execution_count": 43,
   "id": "3549d7d8-efb5-479b-bbd8-b3c684ae6e8c",
   "metadata": {},
   "outputs": [],
   "source": [
    "merge_df = X4.join(scores_train_df)"
   ]
  },
  {
   "cell_type": "code",
   "execution_count": 44,
   "id": "4fec8ecb-dfaa-42cd-883c-8df5d0635519",
   "metadata": {},
   "outputs": [],
   "source": [
    "merge_df = merge_df.join(scores_test_df)"
   ]
  },
  {
   "cell_type": "code",
   "execution_count": 45,
   "id": "30579c1b-65c9-44bd-ba77-78f3112c357b",
   "metadata": {},
   "outputs": [],
   "source": [
    "from datetime import datetime as dt\n",
    "merge_df['date'] = pd.to_datetime(merge_df['ME_DT'])\n",
    "merge_df['date'] = merge_df['date'].dt.strftime('%Y-%m')"
   ]
  },
  {
   "cell_type": "code",
   "execution_count": 46,
   "id": "7a5a4d2c-357e-4996-8874-257b0cb17558",
   "metadata": {},
   "outputs": [],
   "source": [
    "merge_df = merge_df.apply(lambda x: x.fillna(0),axis=0)"
   ]
  },
  {
   "cell_type": "code",
   "execution_count": 47,
   "id": "283c7140-1c0e-43f9-ae7a-f211e10ada81",
   "metadata": {},
   "outputs": [],
   "source": [
    "merge_df = merge_df.drop(columns=['ME_DT'],axis=1)"
   ]
  },
  {
   "cell_type": "code",
   "execution_count": 48,
   "id": "25ba6773-4788-48b4-a836-ffd2324c41b6",
   "metadata": {},
   "outputs": [
    {
     "data": {
      "text/html": [
       "<div>\n",
       "<style scoped>\n",
       "    .dataframe tbody tr th:only-of-type {\n",
       "        vertical-align: middle;\n",
       "    }\n",
       "\n",
       "    .dataframe tbody tr th {\n",
       "        vertical-align: top;\n",
       "    }\n",
       "\n",
       "    .dataframe thead th {\n",
       "        text-align: right;\n",
       "    }\n",
       "</style>\n",
       "<table border=\"1\" class=\"dataframe\">\n",
       "  <thead>\n",
       "    <tr style=\"text-align: right;\">\n",
       "      <th></th>\n",
       "      <th>CLNT_NO</th>\n",
       "      <th>date</th>\n",
       "      <th>scores_train</th>\n",
       "      <th>scores_test</th>\n",
       "    </tr>\n",
       "  </thead>\n",
       "  <tbody>\n",
       "    <tr>\n",
       "      <th>0</th>\n",
       "      <td>CS1112</td>\n",
       "      <td>2014-01</td>\n",
       "      <td>0.084605</td>\n",
       "      <td>0.087745</td>\n",
       "    </tr>\n",
       "    <tr>\n",
       "      <th>1</th>\n",
       "      <td>CS1112</td>\n",
       "      <td>2014-02</td>\n",
       "      <td>0.087407</td>\n",
       "      <td>0.083627</td>\n",
       "    </tr>\n",
       "    <tr>\n",
       "      <th>2</th>\n",
       "      <td>CS1112</td>\n",
       "      <td>2014-03</td>\n",
       "      <td>0.083085</td>\n",
       "      <td>0.050733</td>\n",
       "    </tr>\n",
       "    <tr>\n",
       "      <th>3</th>\n",
       "      <td>CS1112</td>\n",
       "      <td>2014-04</td>\n",
       "      <td>0.110266</td>\n",
       "      <td>0.057199</td>\n",
       "    </tr>\n",
       "    <tr>\n",
       "      <th>4</th>\n",
       "      <td>CS1112</td>\n",
       "      <td>2014-05</td>\n",
       "      <td>0.110280</td>\n",
       "      <td>0.056076</td>\n",
       "    </tr>\n",
       "    <tr>\n",
       "      <th>...</th>\n",
       "      <td>...</td>\n",
       "      <td>...</td>\n",
       "      <td>...</td>\n",
       "      <td>...</td>\n",
       "    </tr>\n",
       "    <tr>\n",
       "      <th>103255</th>\n",
       "      <td>CS9000</td>\n",
       "      <td>2014-11</td>\n",
       "      <td>0.115842</td>\n",
       "      <td>0.042209</td>\n",
       "    </tr>\n",
       "    <tr>\n",
       "      <th>103256</th>\n",
       "      <td>CS9000</td>\n",
       "      <td>2014-12</td>\n",
       "      <td>0.109000</td>\n",
       "      <td>0.042209</td>\n",
       "    </tr>\n",
       "    <tr>\n",
       "      <th>103257</th>\n",
       "      <td>CS9000</td>\n",
       "      <td>2015-01</td>\n",
       "      <td>0.109000</td>\n",
       "      <td>0.036745</td>\n",
       "    </tr>\n",
       "    <tr>\n",
       "      <th>103258</th>\n",
       "      <td>CS9000</td>\n",
       "      <td>2015-02</td>\n",
       "      <td>0.120738</td>\n",
       "      <td>0.032770</td>\n",
       "    </tr>\n",
       "    <tr>\n",
       "      <th>103259</th>\n",
       "      <td>CS9000</td>\n",
       "      <td>2015-03</td>\n",
       "      <td>0.098134</td>\n",
       "      <td>0.032770</td>\n",
       "    </tr>\n",
       "  </tbody>\n",
       "</table>\n",
       "<p>103260 rows × 4 columns</p>\n",
       "</div>"
      ],
      "text/plain": [
       "       CLNT_NO     date  scores_train  scores_test\n",
       "0       CS1112  2014-01      0.084605     0.087745\n",
       "1       CS1112  2014-02      0.087407     0.083627\n",
       "2       CS1112  2014-03      0.083085     0.050733\n",
       "3       CS1112  2014-04      0.110266     0.057199\n",
       "4       CS1112  2014-05      0.110280     0.056076\n",
       "...        ...      ...           ...          ...\n",
       "103255  CS9000  2014-11      0.115842     0.042209\n",
       "103256  CS9000  2014-12      0.109000     0.042209\n",
       "103257  CS9000  2015-01      0.109000     0.036745\n",
       "103258  CS9000  2015-02      0.120738     0.032770\n",
       "103259  CS9000  2015-03      0.098134     0.032770\n",
       "\n",
       "[103260 rows x 4 columns]"
      ]
     },
     "execution_count": 48,
     "metadata": {},
     "output_type": "execute_result"
    }
   ],
   "source": [
    "merge_df = merge_df[['CLNT_NO','date', 'scores_train','scores_test']]\n",
    "merge_df"
   ]
  },
  {
   "cell_type": "code",
   "execution_count": 49,
   "id": "541232cd-cd45-4d12-9af3-2b1e659f1c6f",
   "metadata": {},
   "outputs": [],
   "source": [
    "merge_df_train_test = merge_df.groupby(['date','CLNT_NO']).mean()"
   ]
  },
  {
   "cell_type": "code",
   "execution_count": 50,
   "id": "04900c1e-5d58-4887-afc9-d6e18ca56660",
   "metadata": {},
   "outputs": [
    {
     "data": {
      "text/html": [
       "<div>\n",
       "<style scoped>\n",
       "    .dataframe tbody tr th:only-of-type {\n",
       "        vertical-align: middle;\n",
       "    }\n",
       "\n",
       "    .dataframe tbody tr th {\n",
       "        vertical-align: top;\n",
       "    }\n",
       "\n",
       "    .dataframe thead th {\n",
       "        text-align: right;\n",
       "    }\n",
       "</style>\n",
       "<table border=\"1\" class=\"dataframe\">\n",
       "  <thead>\n",
       "    <tr style=\"text-align: right;\">\n",
       "      <th></th>\n",
       "      <th></th>\n",
       "      <th>scores_train</th>\n",
       "      <th>scores_test</th>\n",
       "    </tr>\n",
       "    <tr>\n",
       "      <th>date</th>\n",
       "      <th>CLNT_NO</th>\n",
       "      <th></th>\n",
       "      <th></th>\n",
       "    </tr>\n",
       "  </thead>\n",
       "  <tbody>\n",
       "    <tr>\n",
       "      <th rowspan=\"5\" valign=\"top\">2014-01</th>\n",
       "      <th>CS1112</th>\n",
       "      <td>0.084605</td>\n",
       "      <td>0.087745</td>\n",
       "    </tr>\n",
       "    <tr>\n",
       "      <th>CS1113</th>\n",
       "      <td>0.091638</td>\n",
       "      <td>0.097331</td>\n",
       "    </tr>\n",
       "    <tr>\n",
       "      <th>CS1114</th>\n",
       "      <td>0.114490</td>\n",
       "      <td>0.141003</td>\n",
       "    </tr>\n",
       "    <tr>\n",
       "      <th>CS1115</th>\n",
       "      <td>0.103670</td>\n",
       "      <td>0.133940</td>\n",
       "    </tr>\n",
       "    <tr>\n",
       "      <th>CS1116</th>\n",
       "      <td>0.133827</td>\n",
       "      <td>0.065781</td>\n",
       "    </tr>\n",
       "    <tr>\n",
       "      <th>...</th>\n",
       "      <th>...</th>\n",
       "      <td>...</td>\n",
       "      <td>...</td>\n",
       "    </tr>\n",
       "    <tr>\n",
       "      <th rowspan=\"5\" valign=\"top\">2015-03</th>\n",
       "      <th>CS8996</th>\n",
       "      <td>0.132738</td>\n",
       "      <td>0.118021</td>\n",
       "    </tr>\n",
       "    <tr>\n",
       "      <th>CS8997</th>\n",
       "      <td>0.140248</td>\n",
       "      <td>0.043859</td>\n",
       "    </tr>\n",
       "    <tr>\n",
       "      <th>CS8998</th>\n",
       "      <td>0.125820</td>\n",
       "      <td>0.050104</td>\n",
       "    </tr>\n",
       "    <tr>\n",
       "      <th>CS8999</th>\n",
       "      <td>0.118050</td>\n",
       "      <td>0.034869</td>\n",
       "    </tr>\n",
       "    <tr>\n",
       "      <th>CS9000</th>\n",
       "      <td>0.098134</td>\n",
       "      <td>0.032770</td>\n",
       "    </tr>\n",
       "  </tbody>\n",
       "</table>\n",
       "<p>103260 rows × 2 columns</p>\n",
       "</div>"
      ],
      "text/plain": [
       "                 scores_train  scores_test\n",
       "date    CLNT_NO                           \n",
       "2014-01 CS1112       0.084605     0.087745\n",
       "        CS1113       0.091638     0.097331\n",
       "        CS1114       0.114490     0.141003\n",
       "        CS1115       0.103670     0.133940\n",
       "        CS1116       0.133827     0.065781\n",
       "...                       ...          ...\n",
       "2015-03 CS8996       0.132738     0.118021\n",
       "        CS8997       0.140248     0.043859\n",
       "        CS8998       0.125820     0.050104\n",
       "        CS8999       0.118050     0.034869\n",
       "        CS9000       0.098134     0.032770\n",
       "\n",
       "[103260 rows x 2 columns]"
      ]
     },
     "execution_count": 50,
     "metadata": {},
     "output_type": "execute_result"
    }
   ],
   "source": [
    "merge_df_train_test"
   ]
  },
  {
   "cell_type": "code",
   "execution_count": 51,
   "id": "fa190afc-2023-4082-ac72-8f4d521ec7cd",
   "metadata": {},
   "outputs": [],
   "source": [
    "monthly_scores_train = merge_df_train_test['scores_train'].groupby(level=0).aggregate(np.histogram)\n",
    "#monthly_scores_train"
   ]
  },
  {
   "cell_type": "code",
   "execution_count": 52,
   "id": "7fc95bbd-24e2-4e60-9745-354b126ac09e",
   "metadata": {},
   "outputs": [
    {
     "data": {
      "text/html": [
       "<div>\n",
       "<style scoped>\n",
       "    .dataframe tbody tr th:only-of-type {\n",
       "        vertical-align: middle;\n",
       "    }\n",
       "\n",
       "    .dataframe tbody tr th {\n",
       "        vertical-align: top;\n",
       "    }\n",
       "\n",
       "    .dataframe thead th {\n",
       "        text-align: right;\n",
       "    }\n",
       "</style>\n",
       "<table border=\"1\" class=\"dataframe\">\n",
       "  <thead>\n",
       "    <tr style=\"text-align: right;\">\n",
       "      <th></th>\n",
       "      <th>scores_train</th>\n",
       "    </tr>\n",
       "    <tr>\n",
       "      <th>date</th>\n",
       "      <th></th>\n",
       "    </tr>\n",
       "  </thead>\n",
       "  <tbody>\n",
       "    <tr>\n",
       "      <th>2014-01</th>\n",
       "      <td>([329, 714, 2325, 2396, 1080, 33, 2, 1, 1, 3],...</td>\n",
       "    </tr>\n",
       "    <tr>\n",
       "      <th>2014-02</th>\n",
       "      <td>([254, 345, 1966, 2591, 1509, 196, 17, 3, 2, 1...</td>\n",
       "    </tr>\n",
       "    <tr>\n",
       "      <th>2014-03</th>\n",
       "      <td>([1815, 4391, 672, 4, 1, 0, 0, 0, 0, 1], [0.03...</td>\n",
       "    </tr>\n",
       "    <tr>\n",
       "      <th>2014-04</th>\n",
       "      <td>([426, 2680, 3355, 412, 7, 0, 3, 0, 0, 1], [0....</td>\n",
       "    </tr>\n",
       "    <tr>\n",
       "      <th>2014-05</th>\n",
       "      <td>([590, 4448, 1815, 27, 0, 2, 0, 1, 0, 1], [0.0...</td>\n",
       "    </tr>\n",
       "    <tr>\n",
       "      <th>2014-06</th>\n",
       "      <td>([430, 2225, 3221, 989, 15, 3, 0, 0, 0, 1], [0...</td>\n",
       "    </tr>\n",
       "    <tr>\n",
       "      <th>2014-07</th>\n",
       "      <td>([569, 4040, 2213, 58, 2, 1, 0, 0, 0, 1], [0.0...</td>\n",
       "    </tr>\n",
       "    <tr>\n",
       "      <th>2014-08</th>\n",
       "      <td>([375, 1639, 2859, 1873, 124, 13, 0, 0, 0, 1],...</td>\n",
       "    </tr>\n",
       "    <tr>\n",
       "      <th>2014-09</th>\n",
       "      <td>([502, 2958, 3236, 172, 10, 3, 0, 1, 1, 1], [0...</td>\n",
       "    </tr>\n",
       "    <tr>\n",
       "      <th>2014-10</th>\n",
       "      <td>([441, 2276, 3193, 957, 12, 2, 1, 1, 0, 1], [0...</td>\n",
       "    </tr>\n",
       "    <tr>\n",
       "      <th>2014-11</th>\n",
       "      <td>([516, 3824, 2494, 45, 0, 3, 0, 0, 1, 1], [0.0...</td>\n",
       "    </tr>\n",
       "    <tr>\n",
       "      <th>2014-12</th>\n",
       "      <td>([378, 1663, 2898, 1831, 103, 6, 1, 1, 2, 1], ...</td>\n",
       "    </tr>\n",
       "    <tr>\n",
       "      <th>2015-01</th>\n",
       "      <td>([313, 468, 2143, 2594, 1295, 52, 14, 3, 0, 2]...</td>\n",
       "    </tr>\n",
       "    <tr>\n",
       "      <th>2015-02</th>\n",
       "      <td>([214, 251, 1428, 1346, 2107, 1285, 216, 24, 9...</td>\n",
       "    </tr>\n",
       "    <tr>\n",
       "      <th>2015-03</th>\n",
       "      <td>([323, 418, 2008, 2554, 1456, 104, 14, 2, 2, 3...</td>\n",
       "    </tr>\n",
       "  </tbody>\n",
       "</table>\n",
       "</div>"
      ],
      "text/plain": [
       "                                              scores_train\n",
       "date                                                      \n",
       "2014-01  ([329, 714, 2325, 2396, 1080, 33, 2, 1, 1, 3],...\n",
       "2014-02  ([254, 345, 1966, 2591, 1509, 196, 17, 3, 2, 1...\n",
       "2014-03  ([1815, 4391, 672, 4, 1, 0, 0, 0, 0, 1], [0.03...\n",
       "2014-04  ([426, 2680, 3355, 412, 7, 0, 3, 0, 0, 1], [0....\n",
       "2014-05  ([590, 4448, 1815, 27, 0, 2, 0, 1, 0, 1], [0.0...\n",
       "2014-06  ([430, 2225, 3221, 989, 15, 3, 0, 0, 0, 1], [0...\n",
       "2014-07  ([569, 4040, 2213, 58, 2, 1, 0, 0, 0, 1], [0.0...\n",
       "2014-08  ([375, 1639, 2859, 1873, 124, 13, 0, 0, 0, 1],...\n",
       "2014-09  ([502, 2958, 3236, 172, 10, 3, 0, 1, 1, 1], [0...\n",
       "2014-10  ([441, 2276, 3193, 957, 12, 2, 1, 1, 0, 1], [0...\n",
       "2014-11  ([516, 3824, 2494, 45, 0, 3, 0, 0, 1, 1], [0.0...\n",
       "2014-12  ([378, 1663, 2898, 1831, 103, 6, 1, 1, 2, 1], ...\n",
       "2015-01  ([313, 468, 2143, 2594, 1295, 52, 14, 3, 0, 2]...\n",
       "2015-02  ([214, 251, 1428, 1346, 2107, 1285, 216, 24, 9...\n",
       "2015-03  ([323, 418, 2008, 2554, 1456, 104, 14, 2, 2, 3..."
      ]
     },
     "execution_count": 52,
     "metadata": {},
     "output_type": "execute_result"
    }
   ],
   "source": [
    "monthly_scores_train = pd.DataFrame(monthly_scores_train)\n",
    "monthly_scores_train"
   ]
  },
  {
   "cell_type": "code",
   "execution_count": 53,
   "id": "e63ff79c-1632-47c8-957e-dabdf1cdee67",
   "metadata": {},
   "outputs": [],
   "source": [
    "monthly_scores_test = merge_df_train_test['scores_test'].groupby(level=0).aggregate(np.histogram)\n",
    "monthly_scores_test = pd.DataFrame(monthly_scores_test)\n",
    "#monthly_scores_test"
   ]
  },
  {
   "cell_type": "code",
   "execution_count": 54,
   "id": "77f06b51-9895-4a03-be88-6436db23b951",
   "metadata": {},
   "outputs": [],
   "source": [
    "join_df = monthly_scores_train.join(monthly_scores_test)\n",
    "#join_df"
   ]
  },
  {
   "cell_type": "code",
   "execution_count": 55,
   "id": "4f4c5ac1-5208-48a9-9b6f-be730223db12",
   "metadata": {},
   "outputs": [
    {
     "data": {
      "text/html": [
       "<div>\n",
       "<style scoped>\n",
       "    .dataframe tbody tr th:only-of-type {\n",
       "        vertical-align: middle;\n",
       "    }\n",
       "\n",
       "    .dataframe tbody tr th {\n",
       "        vertical-align: top;\n",
       "    }\n",
       "\n",
       "    .dataframe thead th {\n",
       "        text-align: right;\n",
       "    }\n",
       "</style>\n",
       "<table border=\"1\" class=\"dataframe\">\n",
       "  <thead>\n",
       "    <tr style=\"text-align: right;\">\n",
       "      <th></th>\n",
       "      <th>scores_train</th>\n",
       "      <th>scores_test</th>\n",
       "    </tr>\n",
       "    <tr>\n",
       "      <th>date</th>\n",
       "      <th></th>\n",
       "      <th></th>\n",
       "    </tr>\n",
       "  </thead>\n",
       "  <tbody>\n",
       "    <tr>\n",
       "      <th>2014-01</th>\n",
       "      <td>[329, 714, 2325, 2396, 1080, 33, 2, 1, 1, 3]</td>\n",
       "      <td>[1664, 1033, 2416, 1715, 49, 6, 0, 0, 0, 1]</td>\n",
       "    </tr>\n",
       "    <tr>\n",
       "      <th>2014-02</th>\n",
       "      <td>[254, 345, 1966, 2591, 1509, 196, 17, 3, 2, 1]</td>\n",
       "      <td>[1666, 1065, 2455, 1643, 47, 4, 1, 2, 0, 1]</td>\n",
       "    </tr>\n",
       "    <tr>\n",
       "      <th>2014-03</th>\n",
       "      <td>[1815, 4391, 672, 4, 1, 0, 0, 0, 0, 1]</td>\n",
       "      <td>[2100, 2686, 2067, 25, 4, 1, 0, 0, 0, 1]</td>\n",
       "    </tr>\n",
       "    <tr>\n",
       "      <th>2014-04</th>\n",
       "      <td>[426, 2680, 3355, 412, 7, 0, 3, 0, 0, 1]</td>\n",
       "      <td>[1243, 1025, 1463, 1910, 1200, 38, 3, 0, 0, 2]</td>\n",
       "    </tr>\n",
       "    <tr>\n",
       "      <th>2014-05</th>\n",
       "      <td>[590, 4448, 1815, 27, 0, 2, 0, 1, 0, 1]</td>\n",
       "      <td>[1252, 1059, 1504, 1973, 1062, 30, 1, 2, 0, 1]</td>\n",
       "    </tr>\n",
       "    <tr>\n",
       "      <th>2014-06</th>\n",
       "      <td>[430, 2225, 3221, 989, 15, 3, 0, 0, 0, 1]</td>\n",
       "      <td>[1048, 981, 820, 1794, 1362, 850, 21, 5, 2, 1]</td>\n",
       "    </tr>\n",
       "    <tr>\n",
       "      <th>2014-07</th>\n",
       "      <td>[569, 4040, 2213, 58, 2, 1, 0, 0, 0, 1]</td>\n",
       "      <td>[886, 1033, 677, 1437, 1544, 1222, 68, 12, 4, 1]</td>\n",
       "    </tr>\n",
       "    <tr>\n",
       "      <th>2014-08</th>\n",
       "      <td>[375, 1639, 2859, 1873, 124, 13, 0, 0, 0, 1]</td>\n",
       "      <td>[1483, 1048, 2036, 2090, 209, 15, 1, 1, 0, 1]</td>\n",
       "    </tr>\n",
       "    <tr>\n",
       "      <th>2014-09</th>\n",
       "      <td>[502, 2958, 3236, 172, 10, 3, 0, 1, 1, 1]</td>\n",
       "      <td>[1020, 1020, 793, 1714, 1366, 931, 27, 9, 1, 3]</td>\n",
       "    </tr>\n",
       "    <tr>\n",
       "      <th>2014-10</th>\n",
       "      <td>[441, 2276, 3193, 957, 12, 2, 1, 1, 0, 1]</td>\n",
       "      <td>[852, 1061, 693, 1373, 1530, 1282, 70, 18, 2, 3]</td>\n",
       "    </tr>\n",
       "    <tr>\n",
       "      <th>2014-11</th>\n",
       "      <td>[516, 3824, 2494, 45, 0, 3, 0, 0, 1, 1]</td>\n",
       "      <td>[626, 1231, 697, 1227, 1580, 1380, 112, 21, 7, 3]</td>\n",
       "    </tr>\n",
       "    <tr>\n",
       "      <th>2014-12</th>\n",
       "      <td>[378, 1663, 2898, 1831, 103, 6, 1, 1, 2, 1]</td>\n",
       "      <td>[1183, 999, 972, 1887, 1640, 173, 24, 4, 1, 1]</td>\n",
       "    </tr>\n",
       "    <tr>\n",
       "      <th>2015-01</th>\n",
       "      <td>[313, 468, 2143, 2594, 1295, 52, 14, 3, 0, 2]</td>\n",
       "      <td>[1122, 949, 846, 1776, 1335, 814, 31, 9, 0, 2]</td>\n",
       "    </tr>\n",
       "    <tr>\n",
       "      <th>2015-02</th>\n",
       "      <td>[214, 251, 1428, 1346, 2107, 1285, 216, 24, 9, 4]</td>\n",
       "      <td>[957, 1114, 842, 1785, 1373, 777, 25, 7, 2, 2]</td>\n",
       "    </tr>\n",
       "    <tr>\n",
       "      <th>2015-03</th>\n",
       "      <td>[323, 418, 2008, 2554, 1456, 104, 14, 2, 2, 3]</td>\n",
       "      <td>[1054, 1074, 828, 1813, 1245, 840, 17, 10, 1, 2]</td>\n",
       "    </tr>\n",
       "  </tbody>\n",
       "</table>\n",
       "</div>"
      ],
      "text/plain": [
       "                                              scores_train  \\\n",
       "date                                                         \n",
       "2014-01       [329, 714, 2325, 2396, 1080, 33, 2, 1, 1, 3]   \n",
       "2014-02     [254, 345, 1966, 2591, 1509, 196, 17, 3, 2, 1]   \n",
       "2014-03             [1815, 4391, 672, 4, 1, 0, 0, 0, 0, 1]   \n",
       "2014-04           [426, 2680, 3355, 412, 7, 0, 3, 0, 0, 1]   \n",
       "2014-05            [590, 4448, 1815, 27, 0, 2, 0, 1, 0, 1]   \n",
       "2014-06          [430, 2225, 3221, 989, 15, 3, 0, 0, 0, 1]   \n",
       "2014-07            [569, 4040, 2213, 58, 2, 1, 0, 0, 0, 1]   \n",
       "2014-08       [375, 1639, 2859, 1873, 124, 13, 0, 0, 0, 1]   \n",
       "2014-09          [502, 2958, 3236, 172, 10, 3, 0, 1, 1, 1]   \n",
       "2014-10          [441, 2276, 3193, 957, 12, 2, 1, 1, 0, 1]   \n",
       "2014-11            [516, 3824, 2494, 45, 0, 3, 0, 0, 1, 1]   \n",
       "2014-12        [378, 1663, 2898, 1831, 103, 6, 1, 1, 2, 1]   \n",
       "2015-01      [313, 468, 2143, 2594, 1295, 52, 14, 3, 0, 2]   \n",
       "2015-02  [214, 251, 1428, 1346, 2107, 1285, 216, 24, 9, 4]   \n",
       "2015-03     [323, 418, 2008, 2554, 1456, 104, 14, 2, 2, 3]   \n",
       "\n",
       "                                               scores_test  \n",
       "date                                                        \n",
       "2014-01        [1664, 1033, 2416, 1715, 49, 6, 0, 0, 0, 1]  \n",
       "2014-02        [1666, 1065, 2455, 1643, 47, 4, 1, 2, 0, 1]  \n",
       "2014-03           [2100, 2686, 2067, 25, 4, 1, 0, 0, 0, 1]  \n",
       "2014-04     [1243, 1025, 1463, 1910, 1200, 38, 3, 0, 0, 2]  \n",
       "2014-05     [1252, 1059, 1504, 1973, 1062, 30, 1, 2, 0, 1]  \n",
       "2014-06     [1048, 981, 820, 1794, 1362, 850, 21, 5, 2, 1]  \n",
       "2014-07   [886, 1033, 677, 1437, 1544, 1222, 68, 12, 4, 1]  \n",
       "2014-08      [1483, 1048, 2036, 2090, 209, 15, 1, 1, 0, 1]  \n",
       "2014-09    [1020, 1020, 793, 1714, 1366, 931, 27, 9, 1, 3]  \n",
       "2014-10   [852, 1061, 693, 1373, 1530, 1282, 70, 18, 2, 3]  \n",
       "2014-11  [626, 1231, 697, 1227, 1580, 1380, 112, 21, 7, 3]  \n",
       "2014-12     [1183, 999, 972, 1887, 1640, 173, 24, 4, 1, 1]  \n",
       "2015-01     [1122, 949, 846, 1776, 1335, 814, 31, 9, 0, 2]  \n",
       "2015-02     [957, 1114, 842, 1785, 1373, 777, 25, 7, 2, 2]  \n",
       "2015-03   [1054, 1074, 828, 1813, 1245, 840, 17, 10, 1, 2]  "
      ]
     },
     "execution_count": 55,
     "metadata": {},
     "output_type": "execute_result"
    }
   ],
   "source": [
    "u = join_df.apply(lambda x: x.str[0])\n",
    "u"
   ]
  },
  {
   "cell_type": "code",
   "execution_count": 56,
   "id": "0a0fe176-07d3-45ad-a506-76a93c30b4af",
   "metadata": {},
   "outputs": [],
   "source": [
    "for i in range(len(u)):\n",
    "    u['JS_values'] = distance.jensenshannon(u['scores_train'].values[i],u['scores_test'].values[i],2.0)"
   ]
  },
  {
   "cell_type": "code",
   "execution_count": 57,
   "id": "73a49f85-02ed-49de-a254-45c161261d8b",
   "metadata": {},
   "outputs": [
    {
     "data": {
      "text/html": [
       "<div>\n",
       "<style scoped>\n",
       "    .dataframe tbody tr th:only-of-type {\n",
       "        vertical-align: middle;\n",
       "    }\n",
       "\n",
       "    .dataframe tbody tr th {\n",
       "        vertical-align: top;\n",
       "    }\n",
       "\n",
       "    .dataframe thead th {\n",
       "        text-align: right;\n",
       "    }\n",
       "</style>\n",
       "<table border=\"1\" class=\"dataframe\">\n",
       "  <thead>\n",
       "    <tr style=\"text-align: right;\">\n",
       "      <th></th>\n",
       "      <th>scores_train</th>\n",
       "      <th>scores_test</th>\n",
       "      <th>JS_values</th>\n",
       "    </tr>\n",
       "    <tr>\n",
       "      <th>date</th>\n",
       "      <th></th>\n",
       "      <th></th>\n",
       "      <th></th>\n",
       "    </tr>\n",
       "  </thead>\n",
       "  <tbody>\n",
       "    <tr>\n",
       "      <th>2014-01</th>\n",
       "      <td>[329, 714, 2325, 2396, 1080, 33, 2, 1, 1, 3]</td>\n",
       "      <td>[1664, 1033, 2416, 1715, 49, 6, 0, 0, 0, 1]</td>\n",
       "      <td>0.350130</td>\n",
       "    </tr>\n",
       "    <tr>\n",
       "      <th>2014-02</th>\n",
       "      <td>[254, 345, 1966, 2591, 1509, 196, 17, 3, 2, 1]</td>\n",
       "      <td>[1666, 1065, 2455, 1643, 47, 4, 1, 2, 0, 1]</td>\n",
       "      <td>0.446724</td>\n",
       "    </tr>\n",
       "    <tr>\n",
       "      <th>2014-03</th>\n",
       "      <td>[1815, 4391, 672, 4, 1, 0, 0, 0, 0, 1]</td>\n",
       "      <td>[2100, 2686, 2067, 25, 4, 1, 0, 0, 0, 1]</td>\n",
       "      <td>0.250823</td>\n",
       "    </tr>\n",
       "    <tr>\n",
       "      <th>2014-04</th>\n",
       "      <td>[426, 2680, 3355, 412, 7, 0, 3, 0, 0, 1]</td>\n",
       "      <td>[1243, 1025, 1463, 1910, 1200, 38, 3, 0, 0, 2]</td>\n",
       "      <td>0.492806</td>\n",
       "    </tr>\n",
       "    <tr>\n",
       "      <th>2014-05</th>\n",
       "      <td>[590, 4448, 1815, 27, 0, 2, 0, 1, 0, 1]</td>\n",
       "      <td>[1252, 1059, 1504, 1973, 1062, 30, 1, 2, 0, 1]</td>\n",
       "      <td>0.583789</td>\n",
       "    </tr>\n",
       "    <tr>\n",
       "      <th>2014-06</th>\n",
       "      <td>[430, 2225, 3221, 989, 15, 3, 0, 0, 0, 1]</td>\n",
       "      <td>[1048, 981, 820, 1794, 1362, 850, 21, 5, 2, 1]</td>\n",
       "      <td>0.534290</td>\n",
       "    </tr>\n",
       "    <tr>\n",
       "      <th>2014-07</th>\n",
       "      <td>[569, 4040, 2213, 58, 2, 1, 0, 0, 0, 1]</td>\n",
       "      <td>[886, 1033, 677, 1437, 1544, 1222, 68, 12, 4, 1]</td>\n",
       "      <td>0.660421</td>\n",
       "    </tr>\n",
       "    <tr>\n",
       "      <th>2014-08</th>\n",
       "      <td>[375, 1639, 2859, 1873, 124, 13, 0, 0, 0, 1]</td>\n",
       "      <td>[1483, 1048, 2036, 2090, 209, 15, 1, 1, 0, 1]</td>\n",
       "      <td>0.230456</td>\n",
       "    </tr>\n",
       "    <tr>\n",
       "      <th>2014-09</th>\n",
       "      <td>[502, 2958, 3236, 172, 10, 3, 0, 1, 1, 1]</td>\n",
       "      <td>[1020, 1020, 793, 1714, 1366, 931, 27, 9, 1, 3]</td>\n",
       "      <td>0.618721</td>\n",
       "    </tr>\n",
       "    <tr>\n",
       "      <th>2014-10</th>\n",
       "      <td>[441, 2276, 3193, 957, 12, 2, 1, 1, 0, 1]</td>\n",
       "      <td>[852, 1061, 693, 1373, 1530, 1282, 70, 18, 2, 3]</td>\n",
       "      <td>0.572747</td>\n",
       "    </tr>\n",
       "    <tr>\n",
       "      <th>2014-11</th>\n",
       "      <td>[516, 3824, 2494, 45, 0, 3, 0, 0, 1, 1]</td>\n",
       "      <td>[626, 1231, 697, 1227, 1580, 1380, 112, 21, 7, 3]</td>\n",
       "      <td>0.651826</td>\n",
       "    </tr>\n",
       "    <tr>\n",
       "      <th>2014-12</th>\n",
       "      <td>[378, 1663, 2898, 1831, 103, 6, 1, 1, 2, 1]</td>\n",
       "      <td>[1183, 999, 972, 1887, 1640, 173, 24, 4, 1, 1]</td>\n",
       "      <td>0.426055</td>\n",
       "    </tr>\n",
       "    <tr>\n",
       "      <th>2015-01</th>\n",
       "      <td>[313, 468, 2143, 2594, 1295, 52, 14, 3, 0, 2]</td>\n",
       "      <td>[1122, 949, 846, 1776, 1335, 814, 31, 9, 0, 2]</td>\n",
       "      <td>0.339818</td>\n",
       "    </tr>\n",
       "    <tr>\n",
       "      <th>2015-02</th>\n",
       "      <td>[214, 251, 1428, 1346, 2107, 1285, 216, 24, 9, 4]</td>\n",
       "      <td>[957, 1114, 842, 1785, 1373, 777, 25, 7, 2, 2]</td>\n",
       "      <td>0.305824</td>\n",
       "    </tr>\n",
       "    <tr>\n",
       "      <th>2015-03</th>\n",
       "      <td>[323, 418, 2008, 2554, 1456, 104, 14, 2, 2, 3]</td>\n",
       "      <td>[1054, 1074, 828, 1813, 1245, 840, 17, 10, 1, 2]</td>\n",
       "      <td>0.325059</td>\n",
       "    </tr>\n",
       "  </tbody>\n",
       "</table>\n",
       "</div>"
      ],
      "text/plain": [
       "                                              scores_train  \\\n",
       "date                                                         \n",
       "2014-01       [329, 714, 2325, 2396, 1080, 33, 2, 1, 1, 3]   \n",
       "2014-02     [254, 345, 1966, 2591, 1509, 196, 17, 3, 2, 1]   \n",
       "2014-03             [1815, 4391, 672, 4, 1, 0, 0, 0, 0, 1]   \n",
       "2014-04           [426, 2680, 3355, 412, 7, 0, 3, 0, 0, 1]   \n",
       "2014-05            [590, 4448, 1815, 27, 0, 2, 0, 1, 0, 1]   \n",
       "2014-06          [430, 2225, 3221, 989, 15, 3, 0, 0, 0, 1]   \n",
       "2014-07            [569, 4040, 2213, 58, 2, 1, 0, 0, 0, 1]   \n",
       "2014-08       [375, 1639, 2859, 1873, 124, 13, 0, 0, 0, 1]   \n",
       "2014-09          [502, 2958, 3236, 172, 10, 3, 0, 1, 1, 1]   \n",
       "2014-10          [441, 2276, 3193, 957, 12, 2, 1, 1, 0, 1]   \n",
       "2014-11            [516, 3824, 2494, 45, 0, 3, 0, 0, 1, 1]   \n",
       "2014-12        [378, 1663, 2898, 1831, 103, 6, 1, 1, 2, 1]   \n",
       "2015-01      [313, 468, 2143, 2594, 1295, 52, 14, 3, 0, 2]   \n",
       "2015-02  [214, 251, 1428, 1346, 2107, 1285, 216, 24, 9, 4]   \n",
       "2015-03     [323, 418, 2008, 2554, 1456, 104, 14, 2, 2, 3]   \n",
       "\n",
       "                                               scores_test  JS_values  \n",
       "date                                                                   \n",
       "2014-01        [1664, 1033, 2416, 1715, 49, 6, 0, 0, 0, 1]   0.350130  \n",
       "2014-02        [1666, 1065, 2455, 1643, 47, 4, 1, 2, 0, 1]   0.446724  \n",
       "2014-03           [2100, 2686, 2067, 25, 4, 1, 0, 0, 0, 1]   0.250823  \n",
       "2014-04     [1243, 1025, 1463, 1910, 1200, 38, 3, 0, 0, 2]   0.492806  \n",
       "2014-05     [1252, 1059, 1504, 1973, 1062, 30, 1, 2, 0, 1]   0.583789  \n",
       "2014-06     [1048, 981, 820, 1794, 1362, 850, 21, 5, 2, 1]   0.534290  \n",
       "2014-07   [886, 1033, 677, 1437, 1544, 1222, 68, 12, 4, 1]   0.660421  \n",
       "2014-08      [1483, 1048, 2036, 2090, 209, 15, 1, 1, 0, 1]   0.230456  \n",
       "2014-09    [1020, 1020, 793, 1714, 1366, 931, 27, 9, 1, 3]   0.618721  \n",
       "2014-10   [852, 1061, 693, 1373, 1530, 1282, 70, 18, 2, 3]   0.572747  \n",
       "2014-11  [626, 1231, 697, 1227, 1580, 1380, 112, 21, 7, 3]   0.651826  \n",
       "2014-12     [1183, 999, 972, 1887, 1640, 173, 24, 4, 1, 1]   0.426055  \n",
       "2015-01     [1122, 949, 846, 1776, 1335, 814, 31, 9, 0, 2]   0.339818  \n",
       "2015-02     [957, 1114, 842, 1785, 1373, 777, 25, 7, 2, 2]   0.305824  \n",
       "2015-03   [1054, 1074, 828, 1813, 1245, 840, 17, 10, 1, 2]   0.325059  "
      ]
     },
     "execution_count": 57,
     "metadata": {},
     "output_type": "execute_result"
    }
   ],
   "source": [
    "for i in range(len(u)):\n",
    "    u['JS_values'][i] = distance.jensenshannon(u['scores_train'].values[i],u['scores_test'].values[i],2.0)\n",
    "u"
   ]
  },
  {
   "cell_type": "code",
   "execution_count": 58,
   "id": "d088b618-ead0-490c-b6b9-532062c04824",
   "metadata": {},
   "outputs": [],
   "source": [
    "u_df = u.reset_index()"
   ]
  },
  {
   "cell_type": "code",
   "execution_count": 59,
   "id": "41e7d9ef-4039-4221-8e55-1426cbee3b1c",
   "metadata": {},
   "outputs": [
    {
     "data": {
      "text/plain": [
       "<AxesSubplot:xlabel='date'>"
      ]
     },
     "execution_count": 59,
     "metadata": {},
     "output_type": "execute_result"
    },
    {
     "data": {
      "image/png": "[encoded data removed]",
      "text/plain": [
       "<Figure size 432x288 with 1 Axes>"
      ]
     },
     "metadata": {
      "needs_background": "light"
     },
     "output_type": "display_data"
    }
   ],
   "source": [
    "u_df.plot(x='date', y='JS_values', style='o')"
   ]
  },
  {
   "cell_type": "markdown",
   "id": "c9bba297-643e-47e0-809e-e3275abdb5f9",
   "metadata": {},
   "source": [
    "### Plot the feature importance and extract the top 5 features"
   ]
  },
  {
   "cell_type": "code",
   "execution_count": 60,
   "id": "9bffacc9-3f1a-4e3e-8544-1b1a28a68949",
   "metadata": {},
   "outputs": [
    {
     "data": {
      "image/png": "[encoded data removed]",
      "text/plain": [
       "<Figure size 432x288 with 1 Axes>"
      ]
     },
     "metadata": {
      "needs_background": "light"
     },
     "output_type": "display_data"
    }
   ],
   "source": [
    "importances = best_RF.feature_importances_\n",
    "# Sort feature importances in descending order\n",
    "indices = np.argsort(importances)[::-1]\n",
    "# Rearrange feature names so they match the sorted feature importances\n",
    "names = [X2.columns [i] for i in indices]\n",
    "\n",
    "# Create plot\n",
    "plt.figure()\n",
    "# Create plot title\n",
    "plt.title(\"Random Forest Feature Importance\")\n",
    "# Add bars\n",
    "plt.bar(range(X2.shape[1]), importances[indices])\n",
    "# Add feature names as x-axis labels\n",
    "plt.xticks(range(X2.shape[1]), names, rotation=90)\n",
    "plt.show()"
   ]
  },
  {
   "cell_type": "markdown",
   "id": "fed0ef7a-7a6e-4d6a-90be-d8311a71ee16",
   "metadata": {},
   "source": [
    "From the above plot, the top 5 features are:<br>\n",
    "1) amt_max_6M\n",
    "2) amt_mean_12M\n",
    "3) amt_mean_6M\n",
    "4) amt_max_12M\n",
    "5) amt_sum_6M <br>\n",
    "\n",
    "We have to calculate the drift values per month for all the top 5 features"
   ]
  },
  {
   "cell_type": "markdown",
   "id": "c2e4b0cb-ecc6-4e9d-a6c1-b44dbbafa06f",
   "metadata": {},
   "source": [
    "## 1) amt_max_6M"
   ]
  },
  {
   "cell_type": "code",
   "execution_count": 61,
   "id": "9a38b38a-8025-4306-99f0-1fdb2a5c1265",
   "metadata": {},
   "outputs": [],
   "source": [
    "amt_max_6M_baseline = X2['amt_max_6M'].to_numpy()"
   ]
  },
  {
   "cell_type": "code",
   "execution_count": 62,
   "id": "2a56bb3b-1e17-4270-80f0-dd2401e4b47c",
   "metadata": {},
   "outputs": [
    {
     "data": {
      "text/plain": [
       "array([0.        , 0.        , 0.        , ..., 0.18357488, 0.18357488,\n",
       "       0.18357488])"
      ]
     },
     "execution_count": 62,
     "metadata": {},
     "output_type": "execute_result"
    }
   ],
   "source": [
    "amt_max_6M_baseline = amt_max_6M_baseline/amt_max_6M_baseline.max()\n",
    "amt_max_6M_baseline"
   ]
  },
  {
   "cell_type": "markdown",
   "id": "af15ce7d-2a33-428f-956e-c7b26f2bc2ae",
   "metadata": {},
   "source": [
    "**Overall drift for all the months together**"
   ]
  },
  {
   "cell_type": "code",
   "execution_count": 63,
   "id": "c420af63-658e-42ba-9db9-8669ae1252fa",
   "metadata": {},
   "outputs": [
    {
     "data": {
      "text/plain": [
       "[Text(0.5, 0, 'Baseline Score'), Text(0, 0.5, 'Frequency')]"
      ]
     },
     "execution_count": 63,
     "metadata": {},
     "output_type": "execute_result"
    },
    {
     "data": {
      "image/png": "[encoded data removed]",
      "text/plain": [
       "<Figure size 432x288 with 1 Axes>"
      ]
     },
     "metadata": {
      "needs_background": "light"
     },
     "output_type": "display_data"
    }
   ],
   "source": [
    "ax = sns.histplot(amt_max_6M_baseline,                \n",
    "                  color='red',\n",
    "                  bins=100)\n",
    "ax.set(xlabel='Baseline Score', ylabel='Frequency')"
   ]
  },
  {
   "cell_type": "code",
   "execution_count": 64,
   "id": "41a0a700-561f-4a5b-b8df-1e615da9664c",
   "metadata": {},
   "outputs": [],
   "source": [
    "amt_max_6M_target = X3['amt_max_6M'].to_numpy()\n",
    "amt_max_6M_target = amt_max_6M_target/amt_max_6M_target.max()"
   ]
  },
  {
   "cell_type": "code",
   "execution_count": 65,
   "id": "1f214664-858b-439f-a67b-49db5af2f543",
   "metadata": {},
   "outputs": [
    {
     "data": {
      "text/plain": [
       "array([0.15434783, 0.15434783, 0.15434783, ..., 0.07608696, 0.07391304,\n",
       "       0.07391304])"
      ]
     },
     "execution_count": 65,
     "metadata": {},
     "output_type": "execute_result"
    }
   ],
   "source": [
    "amt_max_6M_target"
   ]
  },
  {
   "cell_type": "code",
   "execution_count": 66,
   "id": "0d6de818-8098-4112-9db5-43ce8fd3d028",
   "metadata": {},
   "outputs": [
    {
     "data": {
      "text/plain": [
       "[Text(0.5, 0, 'Baseline Score'), Text(0, 0.5, 'Frequency')]"
      ]
     },
     "execution_count": 66,
     "metadata": {},
     "output_type": "execute_result"
    },
    {
     "data": {
      "image/png": "[encoded data removed]",
      "text/plain": [
       "<Figure size 432x288 with 1 Axes>"
      ]
     },
     "metadata": {
      "needs_background": "light"
     },
     "output_type": "display_data"
    }
   ],
   "source": [
    "ax = sns.histplot(amt_max_6M_target,                \n",
    "                  color='blue',\n",
    "                  bins=100)\n",
    "ax.set(xlabel='Baseline Score', ylabel='Frequency')"
   ]
  },
  {
   "cell_type": "markdown",
   "id": "f676ef03-51f7-43a5-b06d-3072d553046a",
   "metadata": {},
   "source": [
    "### To estimate the drift month over month"
   ]
  },
  {
   "cell_type": "code",
   "execution_count": 67,
   "id": "931357bb-b88b-42b6-a14f-e9c32b611dfd",
   "metadata": {},
   "outputs": [],
   "source": [
    "amt_max_6M_baseline_df = pd.DataFrame(amt_max_6M_baseline)\n",
    "amt_max_6M_baseline_df = amt_max_6M_baseline_df.set_axis(['amt_max_6M_baseline'], axis=1)"
   ]
  },
  {
   "cell_type": "code",
   "execution_count": 68,
   "id": "547f7f73-4265-4153-9eba-7bada2e6d250",
   "metadata": {},
   "outputs": [],
   "source": [
    "amt_max_6M_target_df = pd.DataFrame(amt_max_6M_target)\n",
    "amt_max_6M_target_df = amt_max_6M_target_df.set_axis(['amt_max_6M_target'], axis=1)"
   ]
  },
  {
   "cell_type": "code",
   "execution_count": 69,
   "id": "06c05cf1-bcba-4491-964d-7d2d0879cdb6",
   "metadata": {},
   "outputs": [],
   "source": [
    "merge_df = X4.join(amt_max_6M_baseline_df)\n",
    "merge_df = merge_df.join(amt_max_6M_target_df)"
   ]
  },
  {
   "cell_type": "code",
   "execution_count": 70,
   "id": "28221279-6692-4ef9-950e-44a763c4287f",
   "metadata": {},
   "outputs": [],
   "source": [
    "from datetime import datetime as dt\n",
    "merge_df['date'] = pd.to_datetime(merge_df['ME_DT'])\n",
    "merge_df['date'] = merge_df['date'].dt.strftime('%Y-%m')"
   ]
  },
  {
   "cell_type": "code",
   "execution_count": 71,
   "id": "7a47e444-525e-47aa-8e10-e59ce88b3c23",
   "metadata": {},
   "outputs": [],
   "source": [
    "merge_df = merge_df.apply(lambda x: x.fillna(0),axis=0)"
   ]
  },
  {
   "cell_type": "code",
   "execution_count": 72,
   "id": "c8d7cef8-0c36-403e-8997-cbea9c57e983",
   "metadata": {},
   "outputs": [],
   "source": [
    "merge_df = merge_df.drop(columns=['ME_DT'],axis=1)"
   ]
  },
  {
   "cell_type": "code",
   "execution_count": 73,
   "id": "975b4d67-51ad-4455-8b75-8e74d767edc6",
   "metadata": {},
   "outputs": [],
   "source": [
    "merge_df = merge_df[['CLNT_NO','date', 'amt_max_6M_baseline','amt_max_6M_target']]"
   ]
  },
  {
   "cell_type": "code",
   "execution_count": 74,
   "id": "e643f0a1-4d42-4867-9e75-952685dbdf06",
   "metadata": {},
   "outputs": [],
   "source": [
    "merge_df_train_test = merge_df.groupby(['date','CLNT_NO']).mean()"
   ]
  },
  {
   "cell_type": "code",
   "execution_count": 75,
   "id": "e3c01f66-0de8-45aa-be12-93e20f161c0b",
   "metadata": {},
   "outputs": [],
   "source": [
    "monthly_scores_train = merge_df_train_test['amt_max_6M_baseline'].groupby(level=0).aggregate(np.histogram)\n",
    "#monthly_scores_train"
   ]
  },
  {
   "cell_type": "code",
   "execution_count": 76,
   "id": "02814d7a-c444-4f00-b3e7-9a4d230e654c",
   "metadata": {},
   "outputs": [],
   "source": [
    "monthly_scores_train = pd.DataFrame(monthly_scores_train)"
   ]
  },
  {
   "cell_type": "code",
   "execution_count": 77,
   "id": "3cf8b5f3-4c66-4242-82c8-5ea0c448127f",
   "metadata": {},
   "outputs": [],
   "source": [
    "monthly_scores_test = merge_df_train_test['amt_max_6M_target'].groupby(level=0).aggregate(np.histogram)\n",
    "monthly_scores_test = pd.DataFrame(monthly_scores_test)\n",
    "#monthly_scores_test"
   ]
  },
  {
   "cell_type": "code",
   "execution_count": 78,
   "id": "6d222a8c-2283-4703-806e-3a363fcf6bf4",
   "metadata": {},
   "outputs": [],
   "source": [
    "join_df = monthly_scores_train.join(monthly_scores_test)"
   ]
  },
  {
   "cell_type": "code",
   "execution_count": 79,
   "id": "1cda8f98-0010-4fec-a466-04215de0808b",
   "metadata": {},
   "outputs": [
    {
     "data": {
      "text/html": [
       "<div>\n",
       "<style scoped>\n",
       "    .dataframe tbody tr th:only-of-type {\n",
       "        vertical-align: middle;\n",
       "    }\n",
       "\n",
       "    .dataframe tbody tr th {\n",
       "        vertical-align: top;\n",
       "    }\n",
       "\n",
       "    .dataframe thead th {\n",
       "        text-align: right;\n",
       "    }\n",
       "</style>\n",
       "<table border=\"1\" class=\"dataframe\">\n",
       "  <thead>\n",
       "    <tr style=\"text-align: right;\">\n",
       "      <th></th>\n",
       "      <th>amt_max_6M_baseline</th>\n",
       "      <th>amt_max_6M_target</th>\n",
       "    </tr>\n",
       "    <tr>\n",
       "      <th>date</th>\n",
       "      <th></th>\n",
       "      <th></th>\n",
       "    </tr>\n",
       "  </thead>\n",
       "  <tbody>\n",
       "    <tr>\n",
       "      <th>2014-01</th>\n",
       "      <td>[1525, 1020, 2476, 646, 684, 358, 106, 50, 13, 6]</td>\n",
       "      <td>[1165, 2154, 2055, 883, 457, 100, 47, 16, 5, 2]</td>\n",
       "    </tr>\n",
       "    <tr>\n",
       "      <th>2014-02</th>\n",
       "      <td>[1520, 1049, 2449, 654, 693, 340, 107, 58, 8, 6]</td>\n",
       "      <td>[1217, 2188, 2051, 822, 438, 106, 40, 15, 5, 2]</td>\n",
       "    </tr>\n",
       "    <tr>\n",
       "      <th>2014-03</th>\n",
       "      <td>[1523, 1069, 2453, 656, 691, 314, 107, 56, 9, 6]</td>\n",
       "      <td>[1221, 2184, 2023, 846, 441, 105, 40, 16, 5, 3]</td>\n",
       "    </tr>\n",
       "    <tr>\n",
       "      <th>2014-04</th>\n",
       "      <td>[1517, 1054, 2462, 669, 692, 310, 108, 54, 13, 5]</td>\n",
       "      <td>[1278, 2454, 1840, 880, 313, 80, 22, 14, 1, 2]</td>\n",
       "    </tr>\n",
       "    <tr>\n",
       "      <th>2014-05</th>\n",
       "      <td>[1618, 1379, 2215, 880, 570, 131, 64, 21, 5, 1]</td>\n",
       "      <td>[1273, 2492, 1844, 850, 317, 71, 23, 11, 1, 2]</td>\n",
       "    </tr>\n",
       "    <tr>\n",
       "      <th>2014-06</th>\n",
       "      <td>[1645, 1398, 2188, 884, 567, 126, 49, 21, 5, 1]</td>\n",
       "      <td>[1276, 2498, 1850, 844, 305, 73, 26, 8, 0, 4]</td>\n",
       "    </tr>\n",
       "    <tr>\n",
       "      <th>2014-07</th>\n",
       "      <td>[1628, 1441, 2135, 912, 559, 132, 54, 17, 4, 2]</td>\n",
       "      <td>[1307, 2522, 1825, 808, 313, 76, 23, 6, 0, 4]</td>\n",
       "    </tr>\n",
       "    <tr>\n",
       "      <th>2014-08</th>\n",
       "      <td>[1624, 1464, 2119, 887, 559, 136, 67, 19, 7, 2]</td>\n",
       "      <td>[1281, 2494, 1842, 834, 315, 81, 27, 6, 0, 4]</td>\n",
       "    </tr>\n",
       "    <tr>\n",
       "      <th>2014-09</th>\n",
       "      <td>[1579, 1454, 2141, 913, 563, 131, 74, 19, 8, 2]</td>\n",
       "      <td>[1289, 2501, 1838, 815, 319, 81, 29, 9, 0, 3]</td>\n",
       "    </tr>\n",
       "    <tr>\n",
       "      <th>2014-10</th>\n",
       "      <td>[1601, 1383, 2187, 912, 583, 132, 63, 14, 7, 2]</td>\n",
       "      <td>[1222, 2276, 2011, 789, 427, 100, 47, 8, 2, 2]</td>\n",
       "    </tr>\n",
       "    <tr>\n",
       "      <th>2014-11</th>\n",
       "      <td>[1537, 1030, 2459, 737, 704, 281, 79, 42, 8, 7]</td>\n",
       "      <td>[1184, 2343, 1969, 793, 423, 108, 50, 9, 3, 2]</td>\n",
       "    </tr>\n",
       "    <tr>\n",
       "      <th>2014-12</th>\n",
       "      <td>[1527, 1070, 2430, 716, 696, 309, 82, 41, 7, 6]</td>\n",
       "      <td>[1068, 1881, 2315, 714, 585, 198, 76, 35, 8, 4]</td>\n",
       "    </tr>\n",
       "    <tr>\n",
       "      <th>2015-01</th>\n",
       "      <td>[1517, 954, 2304, 777, 718, 424, 113, 53, 17, 7]</td>\n",
       "      <td>[1065, 1888, 2284, 729, 593, 202, 73, 37, 9, 4]</td>\n",
       "    </tr>\n",
       "    <tr>\n",
       "      <th>2015-02</th>\n",
       "      <td>[1508, 946, 2415, 691, 711, 418, 119, 55, 15, 6]</td>\n",
       "      <td>[1396, 2637, 1740, 735, 268, 74, 25, 7, 1, 1]</td>\n",
       "    </tr>\n",
       "    <tr>\n",
       "      <th>2015-03</th>\n",
       "      <td>[1510, 967, 2414, 683, 699, 421, 117, 51, 15, 7]</td>\n",
       "      <td>[1533, 2668, 1680, 678, 237, 63, 18, 5, 1, 1]</td>\n",
       "    </tr>\n",
       "  </tbody>\n",
       "</table>\n",
       "</div>"
      ],
      "text/plain": [
       "                                       amt_max_6M_baseline  \\\n",
       "date                                                         \n",
       "2014-01  [1525, 1020, 2476, 646, 684, 358, 106, 50, 13, 6]   \n",
       "2014-02   [1520, 1049, 2449, 654, 693, 340, 107, 58, 8, 6]   \n",
       "2014-03   [1523, 1069, 2453, 656, 691, 314, 107, 56, 9, 6]   \n",
       "2014-04  [1517, 1054, 2462, 669, 692, 310, 108, 54, 13, 5]   \n",
       "2014-05    [1618, 1379, 2215, 880, 570, 131, 64, 21, 5, 1]   \n",
       "2014-06    [1645, 1398, 2188, 884, 567, 126, 49, 21, 5, 1]   \n",
       "2014-07    [1628, 1441, 2135, 912, 559, 132, 54, 17, 4, 2]   \n",
       "2014-08    [1624, 1464, 2119, 887, 559, 136, 67, 19, 7, 2]   \n",
       "2014-09    [1579, 1454, 2141, 913, 563, 131, 74, 19, 8, 2]   \n",
       "2014-10    [1601, 1383, 2187, 912, 583, 132, 63, 14, 7, 2]   \n",
       "2014-11    [1537, 1030, 2459, 737, 704, 281, 79, 42, 8, 7]   \n",
       "2014-12    [1527, 1070, 2430, 716, 696, 309, 82, 41, 7, 6]   \n",
       "2015-01   [1517, 954, 2304, 777, 718, 424, 113, 53, 17, 7]   \n",
       "2015-02   [1508, 946, 2415, 691, 711, 418, 119, 55, 15, 6]   \n",
       "2015-03   [1510, 967, 2414, 683, 699, 421, 117, 51, 15, 7]   \n",
       "\n",
       "                                       amt_max_6M_target  \n",
       "date                                                      \n",
       "2014-01  [1165, 2154, 2055, 883, 457, 100, 47, 16, 5, 2]  \n",
       "2014-02  [1217, 2188, 2051, 822, 438, 106, 40, 15, 5, 2]  \n",
       "2014-03  [1221, 2184, 2023, 846, 441, 105, 40, 16, 5, 3]  \n",
       "2014-04   [1278, 2454, 1840, 880, 313, 80, 22, 14, 1, 2]  \n",
       "2014-05   [1273, 2492, 1844, 850, 317, 71, 23, 11, 1, 2]  \n",
       "2014-06    [1276, 2498, 1850, 844, 305, 73, 26, 8, 0, 4]  \n",
       "2014-07    [1307, 2522, 1825, 808, 313, 76, 23, 6, 0, 4]  \n",
       "2014-08    [1281, 2494, 1842, 834, 315, 81, 27, 6, 0, 4]  \n",
       "2014-09    [1289, 2501, 1838, 815, 319, 81, 29, 9, 0, 3]  \n",
       "2014-10   [1222, 2276, 2011, 789, 427, 100, 47, 8, 2, 2]  \n",
       "2014-11   [1184, 2343, 1969, 793, 423, 108, 50, 9, 3, 2]  \n",
       "2014-12  [1068, 1881, 2315, 714, 585, 198, 76, 35, 8, 4]  \n",
       "2015-01  [1065, 1888, 2284, 729, 593, 202, 73, 37, 9, 4]  \n",
       "2015-02    [1396, 2637, 1740, 735, 268, 74, 25, 7, 1, 1]  \n",
       "2015-03    [1533, 2668, 1680, 678, 237, 63, 18, 5, 1, 1]  "
      ]
     },
     "execution_count": 79,
     "metadata": {},
     "output_type": "execute_result"
    }
   ],
   "source": [
    "u = join_df.apply(lambda x: x.str[0])\n",
    "u"
   ]
  },
  {
   "cell_type": "code",
   "execution_count": 80,
   "id": "3668d2f7-3b04-4b5b-9b30-66fbdaa5073a",
   "metadata": {},
   "outputs": [],
   "source": [
    "for i in range(len(u)):\n",
    "    u['JS_values'] = distance.jensenshannon(u['amt_max_6M_baseline'].values[i],u['amt_max_6M_target'].values[i],2.0)"
   ]
  },
  {
   "cell_type": "code",
   "execution_count": 81,
   "id": "a8828436-60ae-4b11-80c2-70dc919c99dc",
   "metadata": {},
   "outputs": [
    {
     "data": {
      "text/html": [
       "<div>\n",
       "<style scoped>\n",
       "    .dataframe tbody tr th:only-of-type {\n",
       "        vertical-align: middle;\n",
       "    }\n",
       "\n",
       "    .dataframe tbody tr th {\n",
       "        vertical-align: top;\n",
       "    }\n",
       "\n",
       "    .dataframe thead th {\n",
       "        text-align: right;\n",
       "    }\n",
       "</style>\n",
       "<table border=\"1\" class=\"dataframe\">\n",
       "  <thead>\n",
       "    <tr style=\"text-align: right;\">\n",
       "      <th></th>\n",
       "      <th>amt_max_6M_baseline</th>\n",
       "      <th>amt_max_6M_target</th>\n",
       "      <th>JS_values</th>\n",
       "    </tr>\n",
       "    <tr>\n",
       "      <th>date</th>\n",
       "      <th></th>\n",
       "      <th></th>\n",
       "      <th></th>\n",
       "    </tr>\n",
       "  </thead>\n",
       "  <tbody>\n",
       "    <tr>\n",
       "      <th>2014-01</th>\n",
       "      <td>[1525, 1020, 2476, 646, 684, 358, 106, 50, 13, 6]</td>\n",
       "      <td>[1165, 2154, 2055, 883, 457, 100, 47, 16, 5, 2]</td>\n",
       "      <td>0.202907</td>\n",
       "    </tr>\n",
       "    <tr>\n",
       "      <th>2014-02</th>\n",
       "      <td>[1520, 1049, 2449, 654, 693, 340, 107, 58, 8, 6]</td>\n",
       "      <td>[1217, 2188, 2051, 822, 438, 106, 40, 15, 5, 2]</td>\n",
       "      <td>0.197722</td>\n",
       "    </tr>\n",
       "    <tr>\n",
       "      <th>2014-03</th>\n",
       "      <td>[1523, 1069, 2453, 656, 691, 314, 107, 56, 9, 6]</td>\n",
       "      <td>[1221, 2184, 2023, 846, 441, 105, 40, 16, 5, 3]</td>\n",
       "      <td>0.193001</td>\n",
       "    </tr>\n",
       "    <tr>\n",
       "      <th>2014-04</th>\n",
       "      <td>[1517, 1054, 2462, 669, 692, 310, 108, 54, 13, 5]</td>\n",
       "      <td>[1278, 2454, 1840, 880, 313, 80, 22, 14, 1, 2]</td>\n",
       "      <td>0.240739</td>\n",
       "    </tr>\n",
       "    <tr>\n",
       "      <th>2014-05</th>\n",
       "      <td>[1618, 1379, 2215, 880, 570, 131, 64, 21, 5, 1]</td>\n",
       "      <td>[1273, 2492, 1844, 850, 317, 71, 23, 11, 1, 2]</td>\n",
       "      <td>0.164761</td>\n",
       "    </tr>\n",
       "    <tr>\n",
       "      <th>2014-06</th>\n",
       "      <td>[1645, 1398, 2188, 884, 567, 126, 49, 21, 5, 1]</td>\n",
       "      <td>[1276, 2498, 1850, 844, 305, 73, 26, 8, 0, 4]</td>\n",
       "      <td>0.163004</td>\n",
       "    </tr>\n",
       "    <tr>\n",
       "      <th>2014-07</th>\n",
       "      <td>[1628, 1441, 2135, 912, 559, 132, 54, 17, 4, 2]</td>\n",
       "      <td>[1307, 2522, 1825, 808, 313, 76, 23, 6, 0, 4]</td>\n",
       "      <td>0.157683</td>\n",
       "    </tr>\n",
       "    <tr>\n",
       "      <th>2014-08</th>\n",
       "      <td>[1624, 1464, 2119, 887, 559, 136, 67, 19, 7, 2]</td>\n",
       "      <td>[1281, 2494, 1842, 834, 315, 81, 27, 6, 0, 4]</td>\n",
       "      <td>0.153710</td>\n",
       "    </tr>\n",
       "    <tr>\n",
       "      <th>2014-09</th>\n",
       "      <td>[1579, 1454, 2141, 913, 563, 131, 74, 19, 8, 2]</td>\n",
       "      <td>[1289, 2501, 1838, 815, 319, 81, 29, 9, 0, 3]</td>\n",
       "      <td>0.154247</td>\n",
       "    </tr>\n",
       "    <tr>\n",
       "      <th>2014-10</th>\n",
       "      <td>[1601, 1383, 2187, 912, 583, 132, 63, 14, 7, 2]</td>\n",
       "      <td>[1222, 2276, 2011, 789, 427, 100, 47, 8, 2, 2]</td>\n",
       "      <td>0.130095</td>\n",
       "    </tr>\n",
       "    <tr>\n",
       "      <th>2014-11</th>\n",
       "      <td>[1537, 1030, 2459, 737, 704, 281, 79, 42, 8, 7]</td>\n",
       "      <td>[1184, 2343, 1969, 793, 423, 108, 50, 9, 3, 2]</td>\n",
       "      <td>0.206353</td>\n",
       "    </tr>\n",
       "    <tr>\n",
       "      <th>2014-12</th>\n",
       "      <td>[1527, 1070, 2430, 716, 696, 309, 82, 41, 7, 6]</td>\n",
       "      <td>[1068, 1881, 2315, 714, 585, 198, 76, 35, 8, 4]</td>\n",
       "      <td>0.134540</td>\n",
       "    </tr>\n",
       "    <tr>\n",
       "      <th>2015-01</th>\n",
       "      <td>[1517, 954, 2304, 777, 718, 424, 113, 53, 17, 7]</td>\n",
       "      <td>[1065, 1888, 2284, 729, 593, 202, 73, 37, 9, 4]</td>\n",
       "      <td>0.162039</td>\n",
       "    </tr>\n",
       "    <tr>\n",
       "      <th>2015-02</th>\n",
       "      <td>[1508, 946, 2415, 691, 711, 418, 119, 55, 15, 6]</td>\n",
       "      <td>[1396, 2637, 1740, 735, 268, 74, 25, 7, 1, 1]</td>\n",
       "      <td>0.284739</td>\n",
       "    </tr>\n",
       "    <tr>\n",
       "      <th>2015-03</th>\n",
       "      <td>[1510, 967, 2414, 683, 699, 421, 117, 51, 15, 7]</td>\n",
       "      <td>[1533, 2668, 1680, 678, 237, 63, 18, 5, 1, 1]</td>\n",
       "      <td>0.293150</td>\n",
       "    </tr>\n",
       "  </tbody>\n",
       "</table>\n",
       "</div>"
      ],
      "text/plain": [
       "                                       amt_max_6M_baseline  \\\n",
       "date                                                         \n",
       "2014-01  [1525, 1020, 2476, 646, 684, 358, 106, 50, 13, 6]   \n",
       "2014-02   [1520, 1049, 2449, 654, 693, 340, 107, 58, 8, 6]   \n",
       "2014-03   [1523, 1069, 2453, 656, 691, 314, 107, 56, 9, 6]   \n",
       "2014-04  [1517, 1054, 2462, 669, 692, 310, 108, 54, 13, 5]   \n",
       "2014-05    [1618, 1379, 2215, 880, 570, 131, 64, 21, 5, 1]   \n",
       "2014-06    [1645, 1398, 2188, 884, 567, 126, 49, 21, 5, 1]   \n",
       "2014-07    [1628, 1441, 2135, 912, 559, 132, 54, 17, 4, 2]   \n",
       "2014-08    [1624, 1464, 2119, 887, 559, 136, 67, 19, 7, 2]   \n",
       "2014-09    [1579, 1454, 2141, 913, 563, 131, 74, 19, 8, 2]   \n",
       "2014-10    [1601, 1383, 2187, 912, 583, 132, 63, 14, 7, 2]   \n",
       "2014-11    [1537, 1030, 2459, 737, 704, 281, 79, 42, 8, 7]   \n",
       "2014-12    [1527, 1070, 2430, 716, 696, 309, 82, 41, 7, 6]   \n",
       "2015-01   [1517, 954, 2304, 777, 718, 424, 113, 53, 17, 7]   \n",
       "2015-02   [1508, 946, 2415, 691, 711, 418, 119, 55, 15, 6]   \n",
       "2015-03   [1510, 967, 2414, 683, 699, 421, 117, 51, 15, 7]   \n",
       "\n",
       "                                       amt_max_6M_target  JS_values  \n",
       "date                                                                 \n",
       "2014-01  [1165, 2154, 2055, 883, 457, 100, 47, 16, 5, 2]   0.202907  \n",
       "2014-02  [1217, 2188, 2051, 822, 438, 106, 40, 15, 5, 2]   0.197722  \n",
       "2014-03  [1221, 2184, 2023, 846, 441, 105, 40, 16, 5, 3]   0.193001  \n",
       "2014-04   [1278, 2454, 1840, 880, 313, 80, 22, 14, 1, 2]   0.240739  \n",
       "2014-05   [1273, 2492, 1844, 850, 317, 71, 23, 11, 1, 2]   0.164761  \n",
       "2014-06    [1276, 2498, 1850, 844, 305, 73, 26, 8, 0, 4]   0.163004  \n",
       "2014-07    [1307, 2522, 1825, 808, 313, 76, 23, 6, 0, 4]   0.157683  \n",
       "2014-08    [1281, 2494, 1842, 834, 315, 81, 27, 6, 0, 4]   0.153710  \n",
       "2014-09    [1289, 2501, 1838, 815, 319, 81, 29, 9, 0, 3]   0.154247  \n",
       "2014-10   [1222, 2276, 2011, 789, 427, 100, 47, 8, 2, 2]   0.130095  \n",
       "2014-11   [1184, 2343, 1969, 793, 423, 108, 50, 9, 3, 2]   0.206353  \n",
       "2014-12  [1068, 1881, 2315, 714, 585, 198, 76, 35, 8, 4]   0.134540  \n",
       "2015-01  [1065, 1888, 2284, 729, 593, 202, 73, 37, 9, 4]   0.162039  \n",
       "2015-02    [1396, 2637, 1740, 735, 268, 74, 25, 7, 1, 1]   0.284739  \n",
       "2015-03    [1533, 2668, 1680, 678, 237, 63, 18, 5, 1, 1]   0.293150  "
      ]
     },
     "execution_count": 81,
     "metadata": {},
     "output_type": "execute_result"
    }
   ],
   "source": [
    "for i in range(len(u)):\n",
    "    u['JS_values'][i] = distance.jensenshannon(u['amt_max_6M_baseline'].values[i],u['amt_max_6M_target'].values[i],2.0)\n",
    "u"
   ]
  },
  {
   "cell_type": "code",
   "execution_count": 82,
   "id": "e71e95d5-fdc1-422a-ac2a-4ddd843f1bfc",
   "metadata": {},
   "outputs": [],
   "source": [
    "u_df = u.reset_index()"
   ]
  },
  {
   "cell_type": "code",
   "execution_count": 83,
   "id": "b76122b3-93df-4075-b9bb-8ee0040c0139",
   "metadata": {},
   "outputs": [
    {
     "data": {
      "text/plain": [
       "Text(0.5, 1.0, 'JS_values for amt_max_6M')"
      ]
     },
     "execution_count": 83,
     "metadata": {},
     "output_type": "execute_result"
    },
    {
     "data": {
      "image/png": "[encoded data removed]",
      "text/plain": [
       "<Figure size 432x288 with 1 Axes>"
      ]
     },
     "metadata": {
      "needs_background": "light"
     },
     "output_type": "display_data"
    }
   ],
   "source": [
    "u_df.plot(x='date', y='JS_values', style='o')\n",
    "plt.xlabel('date')\n",
    "plt.ylabel('JS_values')\n",
    "plt.title('JS_values for amt_max_6M')"
   ]
  },
  {
   "cell_type": "markdown",
   "id": "29a1331f-ef42-4aae-ab6e-da87f29ec119",
   "metadata": {},
   "source": [
    "## 2) amt_mean_12M"
   ]
  },
  {
   "cell_type": "code",
   "execution_count": 84,
   "id": "aae49f4b-0cd2-433a-a2ef-e57aeabb5806",
   "metadata": {},
   "outputs": [],
   "source": [
    "amt_mean_12M_baseline = X2['amt_mean_12M'].to_numpy()"
   ]
  },
  {
   "cell_type": "code",
   "execution_count": 85,
   "id": "0f329e26-8e9a-4d1a-b8f6-d99e93cf4e66",
   "metadata": {},
   "outputs": [
    {
     "data": {
      "text/plain": [
       "array([0.        , 0.        , 0.        , ..., 0.14882308, 0.14882308,\n",
       "       0.11161731])"
      ]
     },
     "execution_count": 85,
     "metadata": {},
     "output_type": "execute_result"
    }
   ],
   "source": [
    "amt_mean_12M_baseline = amt_mean_12M_baseline/amt_mean_12M_baseline.max()\n",
    "amt_mean_12M_baseline"
   ]
  },
  {
   "cell_type": "markdown",
   "id": "9f4ffb7f-06a8-4485-aa19-59be430111d1",
   "metadata": {},
   "source": [
    "**Overll drift for all the months together**"
   ]
  },
  {
   "cell_type": "code",
   "execution_count": 86,
   "id": "5b964acd-c6f0-4817-bfed-310c10c93498",
   "metadata": {},
   "outputs": [
    {
     "data": {
      "text/plain": [
       "[Text(0.5, 0, 'Baseline Score'), Text(0, 0.5, 'Frequency')]"
      ]
     },
     "execution_count": 86,
     "metadata": {},
     "output_type": "execute_result"
    },
    {
     "data": {
      "image/png": "[encoded data removed]",
      "text/plain": [
       "<Figure size 432x288 with 1 Axes>"
      ]
     },
     "metadata": {
      "needs_background": "light"
     },
     "output_type": "display_data"
    }
   ],
   "source": [
    "ax = sns.histplot(amt_mean_12M_baseline,                \n",
    "                  color='red',\n",
    "                  bins=100)\n",
    "ax.set(xlabel='Baseline Score', ylabel='Frequency')"
   ]
  },
  {
   "cell_type": "code",
   "execution_count": 87,
   "id": "81cf7333-c276-4289-9df1-d428fa3e413f",
   "metadata": {},
   "outputs": [],
   "source": [
    "amt_mean_12M_target = X3['amt_mean_12M'].to_numpy()\n",
    "amt_mean_12M_target = amt_mean_12M_target/amt_mean_12M_target.max()"
   ]
  },
  {
   "cell_type": "code",
   "execution_count": 88,
   "id": "f686bd16-c9c5-44d2-b87b-bdee95843765",
   "metadata": {},
   "outputs": [
    {
     "data": {
      "text/plain": [
       "array([0.15373459, 0.15373459, 0.07759246, ..., 0.05873822, 0.08339376,\n",
       "       0.08339376])"
      ]
     },
     "execution_count": 88,
     "metadata": {},
     "output_type": "execute_result"
    }
   ],
   "source": [
    "amt_mean_12M_target"
   ]
  },
  {
   "cell_type": "code",
   "execution_count": 89,
   "id": "dd4445ac-4fc2-4913-8603-ba8782f43445",
   "metadata": {},
   "outputs": [
    {
     "data": {
      "text/plain": [
       "[Text(0.5, 0, 'Baseline Score'), Text(0, 0.5, 'Frequency')]"
      ]
     },
     "execution_count": 89,
     "metadata": {},
     "output_type": "execute_result"
    },
    {
     "data": {
      "image/png": "[encoded data removed]",
      "text/plain": [
       "<Figure size 432x288 with 1 Axes>"
      ]
     },
     "metadata": {
      "needs_background": "light"
     },
     "output_type": "display_data"
    }
   ],
   "source": [
    "ax = sns.histplot(amt_mean_12M_target,                \n",
    "                  color='blue',\n",
    "                  bins=100)\n",
    "ax.set(xlabel='Baseline Score', ylabel='Frequency')"
   ]
  },
  {
   "cell_type": "markdown",
   "id": "f3c7b2d6-11af-4347-87b4-b666b9753448",
   "metadata": {},
   "source": [
    "### To estimate the drift month over month"
   ]
  },
  {
   "cell_type": "code",
   "execution_count": 90,
   "id": "d97befbb-a958-4276-b93d-624e9f21ae3b",
   "metadata": {},
   "outputs": [],
   "source": [
    "amt_mean_12M_baseline_df = pd.DataFrame(amt_mean_12M_baseline)\n",
    "amt_mean_12M_baseline_df = amt_mean_12M_baseline_df.set_axis(['amt_mean_12M_baseline'], axis=1)"
   ]
  },
  {
   "cell_type": "code",
   "execution_count": 91,
   "id": "5080d213-fd85-4924-a666-2dc662421525",
   "metadata": {},
   "outputs": [],
   "source": [
    "amt_mean_12M_target_df = pd.DataFrame(amt_mean_12M_target)\n",
    "amt_mean_12M_target_df = amt_mean_12M_target_df.set_axis(['amt_mean_12M_target'], axis=1)"
   ]
  },
  {
   "cell_type": "code",
   "execution_count": 92,
   "id": "646c5c68-6be7-483e-9883-bc1ef4f8ebb7",
   "metadata": {},
   "outputs": [],
   "source": [
    "merge_df = X4.join(amt_mean_12M_baseline_df)\n",
    "merge_df = merge_df.join(amt_mean_12M_target_df)"
   ]
  },
  {
   "cell_type": "code",
   "execution_count": 93,
   "id": "8e902e2c-16d3-4a72-801a-f05514dcee5c",
   "metadata": {},
   "outputs": [],
   "source": [
    "from datetime import datetime as dt\n",
    "merge_df['date'] = pd.to_datetime(merge_df['ME_DT'])\n",
    "merge_df['date'] = merge_df['date'].dt.strftime('%Y-%m')"
   ]
  },
  {
   "cell_type": "code",
   "execution_count": 94,
   "id": "936ee7e8-9a06-4235-bc4a-735201088ca3",
   "metadata": {},
   "outputs": [],
   "source": [
    "merge_df = merge_df.apply(lambda x: x.fillna(0),axis=0)"
   ]
  },
  {
   "cell_type": "code",
   "execution_count": 95,
   "id": "9c5d456d-d925-4e60-a55c-5431e0691d51",
   "metadata": {},
   "outputs": [],
   "source": [
    "merge_df = merge_df.drop(columns=['ME_DT'],axis=1)"
   ]
  },
  {
   "cell_type": "code",
   "execution_count": 96,
   "id": "6e7ff869-5919-4d05-9096-3234ab69370c",
   "metadata": {},
   "outputs": [],
   "source": [
    "merge_df = merge_df[['CLNT_NO','date', 'amt_mean_12M_baseline','amt_mean_12M_target']]"
   ]
  },
  {
   "cell_type": "code",
   "execution_count": 97,
   "id": "19ee2b80-2921-485e-8335-1aef160ccb33",
   "metadata": {},
   "outputs": [],
   "source": [
    "merge_df_train_test = merge_df.groupby(['date','CLNT_NO']).mean()"
   ]
  },
  {
   "cell_type": "code",
   "execution_count": 98,
   "id": "0ec9e861-d2de-4a27-a829-d630b59cfa2a",
   "metadata": {},
   "outputs": [],
   "source": [
    "monthly_scores_train = merge_df_train_test['amt_mean_12M_baseline'].groupby(level=0).aggregate(np.histogram)\n",
    "#monthly_scores_train"
   ]
  },
  {
   "cell_type": "code",
   "execution_count": 99,
   "id": "445e4611-1594-41a0-ba40-39e355093b2d",
   "metadata": {},
   "outputs": [],
   "source": [
    "monthly_scores_train = pd.DataFrame(monthly_scores_train)"
   ]
  },
  {
   "cell_type": "code",
   "execution_count": 100,
   "id": "8eb9c0ec-8c30-42c9-896a-baf73b95de4d",
   "metadata": {},
   "outputs": [],
   "source": [
    "monthly_scores_test = merge_df_train_test['amt_mean_12M_target'].groupby(level=0).aggregate(np.histogram)\n",
    "monthly_scores_test = pd.DataFrame(monthly_scores_test)\n",
    "#monthly_scores_test"
   ]
  },
  {
   "cell_type": "code",
   "execution_count": 101,
   "id": "5582ff74-c93e-44bf-9b5d-9ba49da54c1c",
   "metadata": {},
   "outputs": [],
   "source": [
    "join_df = monthly_scores_train.join(monthly_scores_test)"
   ]
  },
  {
   "cell_type": "code",
   "execution_count": 102,
   "id": "99d4de94-a08d-4b47-bedb-6174a071c235",
   "metadata": {},
   "outputs": [
    {
     "data": {
      "text/html": [
       "<div>\n",
       "<style scoped>\n",
       "    .dataframe tbody tr th:only-of-type {\n",
       "        vertical-align: middle;\n",
       "    }\n",
       "\n",
       "    .dataframe tbody tr th {\n",
       "        vertical-align: top;\n",
       "    }\n",
       "\n",
       "    .dataframe thead th {\n",
       "        text-align: right;\n",
       "    }\n",
       "</style>\n",
       "<table border=\"1\" class=\"dataframe\">\n",
       "  <thead>\n",
       "    <tr style=\"text-align: right;\">\n",
       "      <th></th>\n",
       "      <th>amt_mean_12M_baseline</th>\n",
       "      <th>amt_mean_12M_target</th>\n",
       "    </tr>\n",
       "    <tr>\n",
       "      <th>date</th>\n",
       "      <th></th>\n",
       "      <th></th>\n",
       "    </tr>\n",
       "  </thead>\n",
       "  <tbody>\n",
       "    <tr>\n",
       "      <th>2014-01</th>\n",
       "      <td>[2565, 628, 1073, 1077, 819, 428, 205, 66, 16, 7]</td>\n",
       "      <td>[1117, 1945, 1746, 1224, 595, 195, 45, 13, 2, 2]</td>\n",
       "    </tr>\n",
       "    <tr>\n",
       "      <th>2014-02</th>\n",
       "      <td>[2582, 619, 1048, 1134, 790, 432, 184, 66, 22, 7]</td>\n",
       "      <td>[1029, 1780, 1693, 1253, 724, 278, 95, 24, 6, 2]</td>\n",
       "    </tr>\n",
       "    <tr>\n",
       "      <th>2014-03</th>\n",
       "      <td>[2611, 733, 1172, 1071, 762, 361, 125, 30, 15, 4]</td>\n",
       "      <td>[1232, 2033, 1768, 1139, 513, 158, 34, 6, 0, 1]</td>\n",
       "    </tr>\n",
       "    <tr>\n",
       "      <th>2014-04</th>\n",
       "      <td>[2595, 753, 1171, 1126, 699, 358, 126, 39, 15, 2]</td>\n",
       "      <td>[986, 1742, 1671, 1261, 735, 327, 117, 40, 4, 1]</td>\n",
       "    </tr>\n",
       "    <tr>\n",
       "      <th>2014-05</th>\n",
       "      <td>[2661, 1010, 1397, 1065, 513, 176, 47, 13, 1, 1]</td>\n",
       "      <td>[1131, 1927, 1673, 1233, 617, 217, 70, 14, 1, 1]</td>\n",
       "    </tr>\n",
       "    <tr>\n",
       "      <th>2014-06</th>\n",
       "      <td>[2625, 875, 1260, 1112, 661, 235, 84, 27, 4, 1]</td>\n",
       "      <td>[1031, 1718, 1693, 1316, 696, 295, 96, 33, 4, 2]</td>\n",
       "    </tr>\n",
       "    <tr>\n",
       "      <th>2014-07</th>\n",
       "      <td>[2649, 1026, 1376, 1026, 578, 161, 55, 12, 0, 1]</td>\n",
       "      <td>[999, 1733, 1680, 1280, 735, 307, 107, 35, 4, 4]</td>\n",
       "    </tr>\n",
       "    <tr>\n",
       "      <th>2014-08</th>\n",
       "      <td>[2637, 974, 1364, 1024, 600, 205, 63, 14, 2, 1]</td>\n",
       "      <td>[871, 1635, 1518, 1368, 841, 399, 168, 59, 18, 7]</td>\n",
       "    </tr>\n",
       "    <tr>\n",
       "      <th>2014-09</th>\n",
       "      <td>[2608, 888, 1322, 1079, 623, 255, 83, 20, 4, 2]</td>\n",
       "      <td>[912, 1753, 1574, 1316, 796, 360, 128, 29, 10, 6]</td>\n",
       "    </tr>\n",
       "    <tr>\n",
       "      <th>2014-10</th>\n",
       "      <td>[2600, 879, 1316, 1130, 599, 249, 86, 18, 5, 2]</td>\n",
       "      <td>[786, 1543, 1590, 1309, 862, 483, 214, 63, 20,...</td>\n",
       "    </tr>\n",
       "    <tr>\n",
       "      <th>2014-11</th>\n",
       "      <td>[2596, 868, 1309, 1109, 646, 252, 79, 19, 4, 2]</td>\n",
       "      <td>[801, 1520, 1576, 1297, 902, 464, 216, 72, 25,...</td>\n",
       "    </tr>\n",
       "    <tr>\n",
       "      <th>2014-12</th>\n",
       "      <td>[2579, 774, 1191, 1107, 725, 345, 114, 32, 12, 5]</td>\n",
       "      <td>[786, 1464, 1528, 1339, 931, 504, 204, 85, 33,...</td>\n",
       "    </tr>\n",
       "    <tr>\n",
       "      <th>2015-01</th>\n",
       "      <td>[2614, 897, 1312, 1092, 611, 254, 80, 18, 5, 1]</td>\n",
       "      <td>[874, 1568, 1573, 1348, 851, 426, 163, 63, 11, 7]</td>\n",
       "    </tr>\n",
       "    <tr>\n",
       "      <th>2015-02</th>\n",
       "      <td>[2588, 737, 1191, 1101, 703, 383, 133, 37, 8, 3]</td>\n",
       "      <td>[812, 1424, 1462, 1317, 951, 526, 248, 98, 35,...</td>\n",
       "    </tr>\n",
       "    <tr>\n",
       "      <th>2015-03</th>\n",
       "      <td>[2572, 650, 1119, 1108, 786, 405, 176, 53, 9, 6]</td>\n",
       "      <td>[879, 1517, 1515, 1298, 875, 467, 221, 74, 32, 6]</td>\n",
       "    </tr>\n",
       "  </tbody>\n",
       "</table>\n",
       "</div>"
      ],
      "text/plain": [
       "                                     amt_mean_12M_baseline  \\\n",
       "date                                                         \n",
       "2014-01  [2565, 628, 1073, 1077, 819, 428, 205, 66, 16, 7]   \n",
       "2014-02  [2582, 619, 1048, 1134, 790, 432, 184, 66, 22, 7]   \n",
       "2014-03  [2611, 733, 1172, 1071, 762, 361, 125, 30, 15, 4]   \n",
       "2014-04  [2595, 753, 1171, 1126, 699, 358, 126, 39, 15, 2]   \n",
       "2014-05   [2661, 1010, 1397, 1065, 513, 176, 47, 13, 1, 1]   \n",
       "2014-06    [2625, 875, 1260, 1112, 661, 235, 84, 27, 4, 1]   \n",
       "2014-07   [2649, 1026, 1376, 1026, 578, 161, 55, 12, 0, 1]   \n",
       "2014-08    [2637, 974, 1364, 1024, 600, 205, 63, 14, 2, 1]   \n",
       "2014-09    [2608, 888, 1322, 1079, 623, 255, 83, 20, 4, 2]   \n",
       "2014-10    [2600, 879, 1316, 1130, 599, 249, 86, 18, 5, 2]   \n",
       "2014-11    [2596, 868, 1309, 1109, 646, 252, 79, 19, 4, 2]   \n",
       "2014-12  [2579, 774, 1191, 1107, 725, 345, 114, 32, 12, 5]   \n",
       "2015-01    [2614, 897, 1312, 1092, 611, 254, 80, 18, 5, 1]   \n",
       "2015-02   [2588, 737, 1191, 1101, 703, 383, 133, 37, 8, 3]   \n",
       "2015-03   [2572, 650, 1119, 1108, 786, 405, 176, 53, 9, 6]   \n",
       "\n",
       "                                       amt_mean_12M_target  \n",
       "date                                                        \n",
       "2014-01   [1117, 1945, 1746, 1224, 595, 195, 45, 13, 2, 2]  \n",
       "2014-02   [1029, 1780, 1693, 1253, 724, 278, 95, 24, 6, 2]  \n",
       "2014-03    [1232, 2033, 1768, 1139, 513, 158, 34, 6, 0, 1]  \n",
       "2014-04   [986, 1742, 1671, 1261, 735, 327, 117, 40, 4, 1]  \n",
       "2014-05   [1131, 1927, 1673, 1233, 617, 217, 70, 14, 1, 1]  \n",
       "2014-06   [1031, 1718, 1693, 1316, 696, 295, 96, 33, 4, 2]  \n",
       "2014-07   [999, 1733, 1680, 1280, 735, 307, 107, 35, 4, 4]  \n",
       "2014-08  [871, 1635, 1518, 1368, 841, 399, 168, 59, 18, 7]  \n",
       "2014-09  [912, 1753, 1574, 1316, 796, 360, 128, 29, 10, 6]  \n",
       "2014-10  [786, 1543, 1590, 1309, 862, 483, 214, 63, 20,...  \n",
       "2014-11  [801, 1520, 1576, 1297, 902, 464, 216, 72, 25,...  \n",
       "2014-12  [786, 1464, 1528, 1339, 931, 504, 204, 85, 33,...  \n",
       "2015-01  [874, 1568, 1573, 1348, 851, 426, 163, 63, 11, 7]  \n",
       "2015-02  [812, 1424, 1462, 1317, 951, 526, 248, 98, 35,...  \n",
       "2015-03  [879, 1517, 1515, 1298, 875, 467, 221, 74, 32, 6]  "
      ]
     },
     "execution_count": 102,
     "metadata": {},
     "output_type": "execute_result"
    }
   ],
   "source": [
    "u = join_df.apply(lambda x: x.str[0])\n",
    "u"
   ]
  },
  {
   "cell_type": "code",
   "execution_count": 103,
   "id": "21701d76-a1eb-43dd-9744-9e2d50dfc29c",
   "metadata": {},
   "outputs": [],
   "source": [
    "for i in range(len(u)):\n",
    "    u['JS_values'] = distance.jensenshannon(u['amt_mean_12M_baseline'].values[i],u['amt_mean_12M_target'].values[i],2.0)"
   ]
  },
  {
   "cell_type": "code",
   "execution_count": 104,
   "id": "42e90eda-2ab5-4e05-81eb-dc1596e73fbe",
   "metadata": {},
   "outputs": [
    {
     "data": {
      "text/html": [
       "<div>\n",
       "<style scoped>\n",
       "    .dataframe tbody tr th:only-of-type {\n",
       "        vertical-align: middle;\n",
       "    }\n",
       "\n",
       "    .dataframe tbody tr th {\n",
       "        vertical-align: top;\n",
       "    }\n",
       "\n",
       "    .dataframe thead th {\n",
       "        text-align: right;\n",
       "    }\n",
       "</style>\n",
       "<table border=\"1\" class=\"dataframe\">\n",
       "  <thead>\n",
       "    <tr style=\"text-align: right;\">\n",
       "      <th></th>\n",
       "      <th>amt_mean_12M_baseline</th>\n",
       "      <th>amt_mean_12M_target</th>\n",
       "      <th>JS_values</th>\n",
       "    </tr>\n",
       "    <tr>\n",
       "      <th>date</th>\n",
       "      <th></th>\n",
       "      <th></th>\n",
       "      <th></th>\n",
       "    </tr>\n",
       "  </thead>\n",
       "  <tbody>\n",
       "    <tr>\n",
       "      <th>2014-01</th>\n",
       "      <td>[2565, 628, 1073, 1077, 819, 428, 205, 66, 16, 7]</td>\n",
       "      <td>[1117, 1945, 1746, 1224, 595, 195, 45, 13, 2, 2]</td>\n",
       "      <td>0.303138</td>\n",
       "    </tr>\n",
       "    <tr>\n",
       "      <th>2014-02</th>\n",
       "      <td>[2582, 619, 1048, 1134, 790, 432, 184, 66, 22, 7]</td>\n",
       "      <td>[1029, 1780, 1693, 1253, 724, 278, 95, 24, 6, 2]</td>\n",
       "      <td>0.283496</td>\n",
       "    </tr>\n",
       "    <tr>\n",
       "      <th>2014-03</th>\n",
       "      <td>[2611, 733, 1172, 1071, 762, 361, 125, 30, 15, 4]</td>\n",
       "      <td>[1232, 2033, 1768, 1139, 513, 158, 34, 6, 0, 1]</td>\n",
       "      <td>0.279553</td>\n",
       "    </tr>\n",
       "    <tr>\n",
       "      <th>2014-04</th>\n",
       "      <td>[2595, 753, 1171, 1126, 699, 358, 126, 39, 15, 2]</td>\n",
       "      <td>[986, 1742, 1671, 1261, 735, 327, 117, 40, 4, 1]</td>\n",
       "      <td>0.256764</td>\n",
       "    </tr>\n",
       "    <tr>\n",
       "      <th>2014-05</th>\n",
       "      <td>[2661, 1010, 1397, 1065, 513, 176, 47, 13, 1, 1]</td>\n",
       "      <td>[1131, 1927, 1673, 1233, 617, 217, 70, 14, 1, 1]</td>\n",
       "      <td>0.226828</td>\n",
       "    </tr>\n",
       "    <tr>\n",
       "      <th>2014-06</th>\n",
       "      <td>[2625, 875, 1260, 1112, 661, 235, 84, 27, 4, 1]</td>\n",
       "      <td>[1031, 1718, 1693, 1316, 696, 295, 96, 33, 4, 2]</td>\n",
       "      <td>0.238788</td>\n",
       "    </tr>\n",
       "    <tr>\n",
       "      <th>2014-07</th>\n",
       "      <td>[2649, 1026, 1376, 1026, 578, 161, 55, 12, 0, 1]</td>\n",
       "      <td>[999, 1733, 1680, 1280, 735, 307, 107, 35, 4, 4]</td>\n",
       "      <td>0.241912</td>\n",
       "    </tr>\n",
       "    <tr>\n",
       "      <th>2014-08</th>\n",
       "      <td>[2637, 974, 1364, 1024, 600, 205, 63, 14, 2, 1]</td>\n",
       "      <td>[871, 1635, 1518, 1368, 841, 399, 168, 59, 18, 7]</td>\n",
       "      <td>0.267060</td>\n",
       "    </tr>\n",
       "    <tr>\n",
       "      <th>2014-09</th>\n",
       "      <td>[2608, 888, 1322, 1079, 623, 255, 83, 20, 4, 2]</td>\n",
       "      <td>[912, 1753, 1574, 1316, 796, 360, 128, 29, 10, 6]</td>\n",
       "      <td>0.255035</td>\n",
       "    </tr>\n",
       "    <tr>\n",
       "      <th>2014-10</th>\n",
       "      <td>[2600, 879, 1316, 1130, 599, 249, 86, 18, 5, 2]</td>\n",
       "      <td>[786, 1543, 1590, 1309, 862, 483, 214, 63, 20,...</td>\n",
       "      <td>0.277940</td>\n",
       "    </tr>\n",
       "    <tr>\n",
       "      <th>2014-11</th>\n",
       "      <td>[2596, 868, 1309, 1109, 646, 252, 79, 19, 4, 2]</td>\n",
       "      <td>[801, 1520, 1576, 1297, 902, 464, 216, 72, 25,...</td>\n",
       "      <td>0.275369</td>\n",
       "    </tr>\n",
       "    <tr>\n",
       "      <th>2014-12</th>\n",
       "      <td>[2579, 774, 1191, 1107, 725, 345, 114, 32, 12, 5]</td>\n",
       "      <td>[786, 1464, 1528, 1339, 931, 504, 204, 85, 33,...</td>\n",
       "      <td>0.271325</td>\n",
       "    </tr>\n",
       "    <tr>\n",
       "      <th>2015-01</th>\n",
       "      <td>[2614, 897, 1312, 1092, 611, 254, 80, 18, 5, 1]</td>\n",
       "      <td>[874, 1568, 1573, 1348, 851, 426, 163, 63, 11, 7]</td>\n",
       "      <td>0.259977</td>\n",
       "    </tr>\n",
       "    <tr>\n",
       "      <th>2015-02</th>\n",
       "      <td>[2588, 737, 1191, 1101, 703, 383, 133, 37, 8, 3]</td>\n",
       "      <td>[812, 1424, 1462, 1317, 951, 526, 248, 98, 35,...</td>\n",
       "      <td>0.270010</td>\n",
       "    </tr>\n",
       "    <tr>\n",
       "      <th>2015-03</th>\n",
       "      <td>[2572, 650, 1119, 1108, 786, 405, 176, 53, 9, 6]</td>\n",
       "      <td>[879, 1517, 1515, 1298, 875, 467, 221, 74, 32, 6]</td>\n",
       "      <td>0.264034</td>\n",
       "    </tr>\n",
       "  </tbody>\n",
       "</table>\n",
       "</div>"
      ],
      "text/plain": [
       "                                     amt_mean_12M_baseline  \\\n",
       "date                                                         \n",
       "2014-01  [2565, 628, 1073, 1077, 819, 428, 205, 66, 16, 7]   \n",
       "2014-02  [2582, 619, 1048, 1134, 790, 432, 184, 66, 22, 7]   \n",
       "2014-03  [2611, 733, 1172, 1071, 762, 361, 125, 30, 15, 4]   \n",
       "2014-04  [2595, 753, 1171, 1126, 699, 358, 126, 39, 15, 2]   \n",
       "2014-05   [2661, 1010, 1397, 1065, 513, 176, 47, 13, 1, 1]   \n",
       "2014-06    [2625, 875, 1260, 1112, 661, 235, 84, 27, 4, 1]   \n",
       "2014-07   [2649, 1026, 1376, 1026, 578, 161, 55, 12, 0, 1]   \n",
       "2014-08    [2637, 974, 1364, 1024, 600, 205, 63, 14, 2, 1]   \n",
       "2014-09    [2608, 888, 1322, 1079, 623, 255, 83, 20, 4, 2]   \n",
       "2014-10    [2600, 879, 1316, 1130, 599, 249, 86, 18, 5, 2]   \n",
       "2014-11    [2596, 868, 1309, 1109, 646, 252, 79, 19, 4, 2]   \n",
       "2014-12  [2579, 774, 1191, 1107, 725, 345, 114, 32, 12, 5]   \n",
       "2015-01    [2614, 897, 1312, 1092, 611, 254, 80, 18, 5, 1]   \n",
       "2015-02   [2588, 737, 1191, 1101, 703, 383, 133, 37, 8, 3]   \n",
       "2015-03   [2572, 650, 1119, 1108, 786, 405, 176, 53, 9, 6]   \n",
       "\n",
       "                                       amt_mean_12M_target  JS_values  \n",
       "date                                                                   \n",
       "2014-01   [1117, 1945, 1746, 1224, 595, 195, 45, 13, 2, 2]   0.303138  \n",
       "2014-02   [1029, 1780, 1693, 1253, 724, 278, 95, 24, 6, 2]   0.283496  \n",
       "2014-03    [1232, 2033, 1768, 1139, 513, 158, 34, 6, 0, 1]   0.279553  \n",
       "2014-04   [986, 1742, 1671, 1261, 735, 327, 117, 40, 4, 1]   0.256764  \n",
       "2014-05   [1131, 1927, 1673, 1233, 617, 217, 70, 14, 1, 1]   0.226828  \n",
       "2014-06   [1031, 1718, 1693, 1316, 696, 295, 96, 33, 4, 2]   0.238788  \n",
       "2014-07   [999, 1733, 1680, 1280, 735, 307, 107, 35, 4, 4]   0.241912  \n",
       "2014-08  [871, 1635, 1518, 1368, 841, 399, 168, 59, 18, 7]   0.267060  \n",
       "2014-09  [912, 1753, 1574, 1316, 796, 360, 128, 29, 10, 6]   0.255035  \n",
       "2014-10  [786, 1543, 1590, 1309, 862, 483, 214, 63, 20,...   0.277940  \n",
       "2014-11  [801, 1520, 1576, 1297, 902, 464, 216, 72, 25,...   0.275369  \n",
       "2014-12  [786, 1464, 1528, 1339, 931, 504, 204, 85, 33,...   0.271325  \n",
       "2015-01  [874, 1568, 1573, 1348, 851, 426, 163, 63, 11, 7]   0.259977  \n",
       "2015-02  [812, 1424, 1462, 1317, 951, 526, 248, 98, 35,...   0.270010  \n",
       "2015-03  [879, 1517, 1515, 1298, 875, 467, 221, 74, 32, 6]   0.264034  "
      ]
     },
     "execution_count": 104,
     "metadata": {},
     "output_type": "execute_result"
    }
   ],
   "source": [
    "for i in range(len(u)):\n",
    "    u['JS_values'][i] = distance.jensenshannon(u['amt_mean_12M_baseline'].values[i],u['amt_mean_12M_target'].values[i],2.0)\n",
    "u"
   ]
  },
  {
   "cell_type": "code",
   "execution_count": 105,
   "id": "02e60617-4a5d-42ae-a5cc-b30c1715e7f0",
   "metadata": {},
   "outputs": [],
   "source": [
    "u_df = u.reset_index()"
   ]
  },
  {
   "cell_type": "code",
   "execution_count": 106,
   "id": "b32b74fe-e612-490d-b583-43f5d7a7d694",
   "metadata": {},
   "outputs": [
    {
     "data": {
      "text/plain": [
       "Text(0.5, 1.0, 'JS_values for amt_mean_12M')"
      ]
     },
     "execution_count": 106,
     "metadata": {},
     "output_type": "execute_result"
    },
    {
     "data": {
      "image/png": "[encoded data removed]",
      "text/plain": [
       "<Figure size 432x288 with 1 Axes>"
      ]
     },
     "metadata": {
      "needs_background": "light"
     },
     "output_type": "display_data"
    }
   ],
   "source": [
    "u_df.plot(x='date', y=['JS_values'], style='o')\n",
    "plt.xlabel('date')\n",
    "plt.ylabel('JS_values')\n",
    "plt.title('JS_values for amt_mean_12M')"
   ]
  },
  {
   "cell_type": "markdown",
   "id": "70ec3eda-1fc5-4286-8bdf-04c453fcc39d",
   "metadata": {},
   "source": [
    "## 3) amt_mean_6M"
   ]
  },
  {
   "cell_type": "code",
   "execution_count": 107,
   "id": "06edb2bc-1fef-4c4c-910b-1f625ee061e4",
   "metadata": {},
   "outputs": [],
   "source": [
    "amt_mean_6M_baseline = X2['amt_mean_6M'].to_numpy()"
   ]
  },
  {
   "cell_type": "code",
   "execution_count": 108,
   "id": "31e65478-6862-49d4-b6c2-eb0f422ece97",
   "metadata": {},
   "outputs": [
    {
     "data": {
      "text/plain": [
       "array([0.        , 0.        , 0.        , ..., 0.16742597, 0.16742597,\n",
       "       0.16742597])"
      ]
     },
     "execution_count": 108,
     "metadata": {},
     "output_type": "execute_result"
    }
   ],
   "source": [
    "amt_mean_6M_baseline = amt_mean_6M_baseline/amt_mean_6M_baseline.max()\n",
    "amt_mean_6M_baseline"
   ]
  },
  {
   "cell_type": "markdown",
   "id": "e6e89110-1772-470f-a072-ac280260929c",
   "metadata": {},
   "source": [
    "**Overall drift for all the months together**"
   ]
  },
  {
   "cell_type": "code",
   "execution_count": 109,
   "id": "b7f4735c-92f8-4fc4-8ece-7c07c4449080",
   "metadata": {},
   "outputs": [
    {
     "data": {
      "text/plain": [
       "[Text(0.5, 0, 'Baseline Score'), Text(0, 0.5, 'Frequency')]"
      ]
     },
     "execution_count": 109,
     "metadata": {},
     "output_type": "execute_result"
    },
    {
     "data": {
      "image/png": "[encoded data removed]",
      "text/plain": [
       "<Figure size 432x288 with 1 Axes>"
      ]
     },
     "metadata": {
      "needs_background": "light"
     },
     "output_type": "display_data"
    }
   ],
   "source": [
    "ax = sns.histplot(amt_mean_6M_baseline,                \n",
    "                  color='red',\n",
    "                  bins=100)\n",
    "ax.set(xlabel='Baseline Score', ylabel='Frequency')"
   ]
  },
  {
   "cell_type": "code",
   "execution_count": 110,
   "id": "4374edfc-9138-4961-b238-8ee5e5304440",
   "metadata": {},
   "outputs": [],
   "source": [
    "amt_mean_6M_target = X3['amt_mean_6M'].to_numpy()\n",
    "amt_mean_6M_target = amt_mean_6M_target/amt_mean_6M_target.max()"
   ]
  },
  {
   "cell_type": "code",
   "execution_count": 111,
   "id": "5e60a113-fb71-4514-92b5-cbdce8edf50e",
   "metadata": {},
   "outputs": [
    {
     "data": {
      "text/plain": [
       "array([0.08068182, 0.08068182, 0.08068182, ..., 0.03977273, 0.03863636,\n",
       "       0.03863636])"
      ]
     },
     "execution_count": 111,
     "metadata": {},
     "output_type": "execute_result"
    }
   ],
   "source": [
    "amt_mean_6M_target"
   ]
  },
  {
   "cell_type": "code",
   "execution_count": 112,
   "id": "68c78c72-04f7-4636-b9dd-22ae342d3002",
   "metadata": {},
   "outputs": [
    {
     "data": {
      "text/plain": [
       "[Text(0.5, 0, 'Baseline Score'), Text(0, 0.5, 'Frequency')]"
      ]
     },
     "execution_count": 112,
     "metadata": {},
     "output_type": "execute_result"
    },
    {
     "data": {
      "image/png": "[encoded data removed]",
      "text/plain": [
       "<Figure size 432x288 with 1 Axes>"
      ]
     },
     "metadata": {
      "needs_background": "light"
     },
     "output_type": "display_data"
    }
   ],
   "source": [
    "ax = sns.histplot(amt_mean_6M_target,                \n",
    "                  color='blue',\n",
    "                  bins=100)\n",
    "ax.set(xlabel='Baseline Score', ylabel='Frequency')"
   ]
  },
  {
   "cell_type": "markdown",
   "id": "36e1d8a4-f274-4616-8443-f1edc0cea3d0",
   "metadata": {},
   "source": [
    "### To estimate the drift month over month"
   ]
  },
  {
   "cell_type": "code",
   "execution_count": 113,
   "id": "2ac2432e-a139-49f5-bddc-762fe0d091d4",
   "metadata": {},
   "outputs": [],
   "source": [
    "amt_mean_6M_baseline_df = pd.DataFrame(amt_mean_6M_baseline)\n",
    "amt_mean_6M_baseline_df = amt_mean_6M_baseline_df.set_axis(['amt_mean_6M_baseline'], axis=1)"
   ]
  },
  {
   "cell_type": "code",
   "execution_count": 114,
   "id": "2a9491c1-08dc-4060-87d3-70a1a9b355b9",
   "metadata": {},
   "outputs": [],
   "source": [
    "amt_mean_6M_target_df = pd.DataFrame(amt_mean_6M_target)\n",
    "amt_mean_6M_target_df = amt_mean_6M_target_df.set_axis(['amt_mean_6M_target'], axis=1)"
   ]
  },
  {
   "cell_type": "code",
   "execution_count": 115,
   "id": "609e2774-e8d3-4d55-ac5e-95ed16e779ca",
   "metadata": {},
   "outputs": [],
   "source": [
    "merge_df = X4.join(amt_mean_6M_baseline_df)\n",
    "merge_df = merge_df.join(amt_mean_6M_target_df)"
   ]
  },
  {
   "cell_type": "code",
   "execution_count": 116,
   "id": "ccda12fa-79b4-4b0b-80f1-0791250a2a65",
   "metadata": {},
   "outputs": [],
   "source": [
    "from datetime import datetime as dt\n",
    "merge_df['date'] = pd.to_datetime(merge_df['ME_DT'])\n",
    "merge_df['date'] = merge_df['date'].dt.strftime('%Y-%m')"
   ]
  },
  {
   "cell_type": "code",
   "execution_count": 117,
   "id": "dc9995bd-379e-4d06-9a4c-5d7d23cbd85f",
   "metadata": {},
   "outputs": [],
   "source": [
    "merge_df = merge_df.apply(lambda x: x.fillna(0),axis=0)"
   ]
  },
  {
   "cell_type": "code",
   "execution_count": 118,
   "id": "4c1fe441-3afd-4416-b790-ad535ab537ab",
   "metadata": {},
   "outputs": [],
   "source": [
    "merge_df = merge_df.drop(columns=['ME_DT'],axis=1)"
   ]
  },
  {
   "cell_type": "code",
   "execution_count": 119,
   "id": "86960b70-401d-4e71-9b40-f7b321a367a3",
   "metadata": {},
   "outputs": [],
   "source": [
    "merge_df = merge_df[['CLNT_NO','date', 'amt_mean_6M_baseline','amt_mean_6M_target']]"
   ]
  },
  {
   "cell_type": "code",
   "execution_count": 120,
   "id": "8f511397-807f-40af-81da-ace3e0fb324d",
   "metadata": {},
   "outputs": [],
   "source": [
    "merge_df_train_test = merge_df.groupby(['date','CLNT_NO']).mean()"
   ]
  },
  {
   "cell_type": "code",
   "execution_count": 121,
   "id": "e596b400-eab0-4dc5-bd43-f1f820a7664e",
   "metadata": {},
   "outputs": [],
   "source": [
    "monthly_scores_train = merge_df_train_test['amt_mean_6M_baseline'].groupby(level=0).aggregate(np.histogram)\n",
    "#monthly_scores_train"
   ]
  },
  {
   "cell_type": "code",
   "execution_count": 122,
   "id": "09458e34-b92d-4cb2-aeab-13d96991e603",
   "metadata": {},
   "outputs": [],
   "source": [
    "monthly_scores_train = pd.DataFrame(monthly_scores_train)"
   ]
  },
  {
   "cell_type": "code",
   "execution_count": 123,
   "id": "5abb1ca8-4449-4d84-bf2a-b7ba8104a367",
   "metadata": {},
   "outputs": [],
   "source": [
    "monthly_scores_test = merge_df_train_test['amt_mean_6M_target'].groupby(level=0).aggregate(np.histogram)\n",
    "monthly_scores_test = pd.DataFrame(monthly_scores_test)\n",
    "#monthly_scores_test"
   ]
  },
  {
   "cell_type": "code",
   "execution_count": 124,
   "id": "70452b21-139c-44cf-9b8b-a5091ee2e9c6",
   "metadata": {},
   "outputs": [],
   "source": [
    "join_df = monthly_scores_train.join(monthly_scores_test)"
   ]
  },
  {
   "cell_type": "code",
   "execution_count": 125,
   "id": "7b161c90-d3a9-4cdd-9942-e26f045675a2",
   "metadata": {},
   "outputs": [
    {
     "data": {
      "text/html": [
       "<div>\n",
       "<style scoped>\n",
       "    .dataframe tbody tr th:only-of-type {\n",
       "        vertical-align: middle;\n",
       "    }\n",
       "\n",
       "    .dataframe tbody tr th {\n",
       "        vertical-align: top;\n",
       "    }\n",
       "\n",
       "    .dataframe thead th {\n",
       "        text-align: right;\n",
       "    }\n",
       "</style>\n",
       "<table border=\"1\" class=\"dataframe\">\n",
       "  <thead>\n",
       "    <tr style=\"text-align: right;\">\n",
       "      <th></th>\n",
       "      <th>amt_mean_6M_baseline</th>\n",
       "      <th>amt_mean_6M_target</th>\n",
       "    </tr>\n",
       "    <tr>\n",
       "      <th>date</th>\n",
       "      <th></th>\n",
       "      <th></th>\n",
       "    </tr>\n",
       "  </thead>\n",
       "  <tbody>\n",
       "    <tr>\n",
       "      <th>2014-01</th>\n",
       "      <td>[2173, 1504, 1372, 985, 492, 237, 79, 32, 7, 3]</td>\n",
       "      <td>[1882, 1812, 1426, 919, 479, 220, 93, 32, 14, 7]</td>\n",
       "    </tr>\n",
       "    <tr>\n",
       "      <th>2014-02</th>\n",
       "      <td>[2303, 1593, 1431, 871, 437, 166, 61, 18, 2, 2]</td>\n",
       "      <td>[2114, 1882, 1472, 767, 389, 171, 67, 15, 4, 3]</td>\n",
       "    </tr>\n",
       "    <tr>\n",
       "      <th>2014-03</th>\n",
       "      <td>[2210, 1511, 1366, 954, 517, 208, 76, 30, 10, 2]</td>\n",
       "      <td>[2165, 1896, 1444, 789, 376, 146, 48, 15, 2, 3]</td>\n",
       "    </tr>\n",
       "    <tr>\n",
       "      <th>2014-04</th>\n",
       "      <td>[2202, 1513, 1427, 926, 497, 205, 75, 22, 13, 4]</td>\n",
       "      <td>[2197, 1917, 1386, 818, 373, 127, 45, 16, 2, 3]</td>\n",
       "    </tr>\n",
       "    <tr>\n",
       "      <th>2014-05</th>\n",
       "      <td>[2341, 1697, 1381, 869, 397, 142, 34, 14, 8, 1]</td>\n",
       "      <td>[1918, 1763, 1475, 886, 469, 212, 106, 37, 15, 3]</td>\n",
       "    </tr>\n",
       "    <tr>\n",
       "      <th>2014-06</th>\n",
       "      <td>[2297, 1496, 1432, 905, 481, 189, 57, 21, 3, 3]</td>\n",
       "      <td>[1980, 1776, 1473, 856, 470, 192, 86, 33, 13, 5]</td>\n",
       "    </tr>\n",
       "    <tr>\n",
       "      <th>2014-07</th>\n",
       "      <td>[2291, 1587, 1373, 919, 451, 179, 60, 15, 6, 3]</td>\n",
       "      <td>[1960, 1844, 1400, 859, 492, 195, 79, 34, 16, 5]</td>\n",
       "    </tr>\n",
       "    <tr>\n",
       "      <th>2014-08</th>\n",
       "      <td>[2284, 1588, 1387, 896, 451, 176, 77, 17, 5, 3]</td>\n",
       "      <td>[1870, 1785, 1427, 881, 511, 269, 84, 31, 19, 7]</td>\n",
       "    </tr>\n",
       "    <tr>\n",
       "      <th>2014-09</th>\n",
       "      <td>[2267, 1583, 1379, 902, 464, 193, 67, 20, 7, 2]</td>\n",
       "      <td>[2042, 1910, 1356, 836, 459, 177, 64, 27, 8, 5]</td>\n",
       "    </tr>\n",
       "    <tr>\n",
       "      <th>2014-10</th>\n",
       "      <td>[2036, 1292, 1352, 1004, 651, 319, 154, 44, 19...</td>\n",
       "      <td>[1852, 1772, 1412, 908, 521, 234, 124, 33, 19, 9]</td>\n",
       "    </tr>\n",
       "    <tr>\n",
       "      <th>2014-11</th>\n",
       "      <td>[2335, 1668, 1459, 876, 369, 129, 34, 8, 5, 1]</td>\n",
       "      <td>[1852, 1776, 1379, 920, 521, 247, 108, 51, 22, 8]</td>\n",
       "    </tr>\n",
       "    <tr>\n",
       "      <th>2014-12</th>\n",
       "      <td>[2201, 1449, 1366, 965, 550, 228, 86, 27, 7, 5]</td>\n",
       "      <td>[1859, 1779, 1353, 917, 546, 235, 115, 48, 24, 8]</td>\n",
       "    </tr>\n",
       "    <tr>\n",
       "      <th>2015-01</th>\n",
       "      <td>[2197, 1530, 1339, 994, 483, 230, 77, 27, 4, 3]</td>\n",
       "      <td>[2366, 1951, 1406, 707, 313, 97, 33, 9, 1, 1]</td>\n",
       "    </tr>\n",
       "    <tr>\n",
       "      <th>2015-02</th>\n",
       "      <td>[2083, 1369, 1380, 999, 580, 280, 129, 44, 16, 4]</td>\n",
       "      <td>[1962, 1769, 1345, 849, 551, 233, 123, 34, 15, 3]</td>\n",
       "    </tr>\n",
       "    <tr>\n",
       "      <th>2015-03</th>\n",
       "      <td>[2377, 1668, 1468, 812, 368, 141, 39, 10, 0, 1]</td>\n",
       "      <td>[1868, 1707, 1352, 868, 524, 307, 155, 66, 25,...</td>\n",
       "    </tr>\n",
       "  </tbody>\n",
       "</table>\n",
       "</div>"
      ],
      "text/plain": [
       "                                      amt_mean_6M_baseline  \\\n",
       "date                                                         \n",
       "2014-01    [2173, 1504, 1372, 985, 492, 237, 79, 32, 7, 3]   \n",
       "2014-02    [2303, 1593, 1431, 871, 437, 166, 61, 18, 2, 2]   \n",
       "2014-03   [2210, 1511, 1366, 954, 517, 208, 76, 30, 10, 2]   \n",
       "2014-04   [2202, 1513, 1427, 926, 497, 205, 75, 22, 13, 4]   \n",
       "2014-05    [2341, 1697, 1381, 869, 397, 142, 34, 14, 8, 1]   \n",
       "2014-06    [2297, 1496, 1432, 905, 481, 189, 57, 21, 3, 3]   \n",
       "2014-07    [2291, 1587, 1373, 919, 451, 179, 60, 15, 6, 3]   \n",
       "2014-08    [2284, 1588, 1387, 896, 451, 176, 77, 17, 5, 3]   \n",
       "2014-09    [2267, 1583, 1379, 902, 464, 193, 67, 20, 7, 2]   \n",
       "2014-10  [2036, 1292, 1352, 1004, 651, 319, 154, 44, 19...   \n",
       "2014-11     [2335, 1668, 1459, 876, 369, 129, 34, 8, 5, 1]   \n",
       "2014-12    [2201, 1449, 1366, 965, 550, 228, 86, 27, 7, 5]   \n",
       "2015-01    [2197, 1530, 1339, 994, 483, 230, 77, 27, 4, 3]   \n",
       "2015-02  [2083, 1369, 1380, 999, 580, 280, 129, 44, 16, 4]   \n",
       "2015-03    [2377, 1668, 1468, 812, 368, 141, 39, 10, 0, 1]   \n",
       "\n",
       "                                        amt_mean_6M_target  \n",
       "date                                                        \n",
       "2014-01   [1882, 1812, 1426, 919, 479, 220, 93, 32, 14, 7]  \n",
       "2014-02    [2114, 1882, 1472, 767, 389, 171, 67, 15, 4, 3]  \n",
       "2014-03    [2165, 1896, 1444, 789, 376, 146, 48, 15, 2, 3]  \n",
       "2014-04    [2197, 1917, 1386, 818, 373, 127, 45, 16, 2, 3]  \n",
       "2014-05  [1918, 1763, 1475, 886, 469, 212, 106, 37, 15, 3]  \n",
       "2014-06   [1980, 1776, 1473, 856, 470, 192, 86, 33, 13, 5]  \n",
       "2014-07   [1960, 1844, 1400, 859, 492, 195, 79, 34, 16, 5]  \n",
       "2014-08   [1870, 1785, 1427, 881, 511, 269, 84, 31, 19, 7]  \n",
       "2014-09    [2042, 1910, 1356, 836, 459, 177, 64, 27, 8, 5]  \n",
       "2014-10  [1852, 1772, 1412, 908, 521, 234, 124, 33, 19, 9]  \n",
       "2014-11  [1852, 1776, 1379, 920, 521, 247, 108, 51, 22, 8]  \n",
       "2014-12  [1859, 1779, 1353, 917, 546, 235, 115, 48, 24, 8]  \n",
       "2015-01      [2366, 1951, 1406, 707, 313, 97, 33, 9, 1, 1]  \n",
       "2015-02  [1962, 1769, 1345, 849, 551, 233, 123, 34, 15, 3]  \n",
       "2015-03  [1868, 1707, 1352, 868, 524, 307, 155, 66, 25,...  "
      ]
     },
     "execution_count": 125,
     "metadata": {},
     "output_type": "execute_result"
    }
   ],
   "source": [
    "u = join_df.apply(lambda x: x.str[0])\n",
    "u"
   ]
  },
  {
   "cell_type": "code",
   "execution_count": 126,
   "id": "b5d0db0d-2ba6-4a73-baee-8b3947e7b62e",
   "metadata": {},
   "outputs": [],
   "source": [
    "for i in range(len(u)):\n",
    "    u['JS_values'] = distance.jensenshannon(u['amt_mean_6M_baseline'].values[i],u['amt_mean_6M_target'].values[i],2.0)"
   ]
  },
  {
   "cell_type": "code",
   "execution_count": 127,
   "id": "daa053f6-c9e2-45e5-a6b6-529ab5cb2aa9",
   "metadata": {},
   "outputs": [
    {
     "data": {
      "text/html": [
       "<div>\n",
       "<style scoped>\n",
       "    .dataframe tbody tr th:only-of-type {\n",
       "        vertical-align: middle;\n",
       "    }\n",
       "\n",
       "    .dataframe tbody tr th {\n",
       "        vertical-align: top;\n",
       "    }\n",
       "\n",
       "    .dataframe thead th {\n",
       "        text-align: right;\n",
       "    }\n",
       "</style>\n",
       "<table border=\"1\" class=\"dataframe\">\n",
       "  <thead>\n",
       "    <tr style=\"text-align: right;\">\n",
       "      <th></th>\n",
       "      <th>amt_mean_6M_baseline</th>\n",
       "      <th>amt_mean_6M_target</th>\n",
       "      <th>JS_values</th>\n",
       "    </tr>\n",
       "    <tr>\n",
       "      <th>date</th>\n",
       "      <th></th>\n",
       "      <th></th>\n",
       "      <th></th>\n",
       "    </tr>\n",
       "  </thead>\n",
       "  <tbody>\n",
       "    <tr>\n",
       "      <th>2014-01</th>\n",
       "      <td>[2173, 1504, 1372, 985, 492, 237, 79, 32, 7, 3]</td>\n",
       "      <td>[1882, 1812, 1426, 919, 479, 220, 93, 32, 14, 7]</td>\n",
       "      <td>0.055529</td>\n",
       "    </tr>\n",
       "    <tr>\n",
       "      <th>2014-02</th>\n",
       "      <td>[2303, 1593, 1431, 871, 437, 166, 61, 18, 2, 2]</td>\n",
       "      <td>[2114, 1882, 1472, 767, 389, 171, 67, 15, 4, 3]</td>\n",
       "      <td>0.047816</td>\n",
       "    </tr>\n",
       "    <tr>\n",
       "      <th>2014-03</th>\n",
       "      <td>[2210, 1511, 1366, 954, 517, 208, 76, 30, 10, 2]</td>\n",
       "      <td>[2165, 1896, 1444, 789, 376, 146, 48, 15, 2, 3]</td>\n",
       "      <td>0.076821</td>\n",
       "    </tr>\n",
       "    <tr>\n",
       "      <th>2014-04</th>\n",
       "      <td>[2202, 1513, 1427, 926, 497, 205, 75, 22, 13, 4]</td>\n",
       "      <td>[2197, 1917, 1386, 818, 373, 127, 45, 16, 2, 3]</td>\n",
       "      <td>0.075540</td>\n",
       "    </tr>\n",
       "    <tr>\n",
       "      <th>2014-05</th>\n",
       "      <td>[2341, 1697, 1381, 869, 397, 142, 34, 14, 8, 1]</td>\n",
       "      <td>[1918, 1763, 1475, 886, 469, 212, 106, 37, 15, 3]</td>\n",
       "      <td>0.079079</td>\n",
       "    </tr>\n",
       "    <tr>\n",
       "      <th>2014-06</th>\n",
       "      <td>[2297, 1496, 1432, 905, 481, 189, 57, 21, 3, 3]</td>\n",
       "      <td>[1980, 1776, 1473, 856, 470, 192, 86, 33, 13, 5]</td>\n",
       "      <td>0.058561</td>\n",
       "    </tr>\n",
       "    <tr>\n",
       "      <th>2014-07</th>\n",
       "      <td>[2291, 1587, 1373, 919, 451, 179, 60, 15, 6, 3]</td>\n",
       "      <td>[1960, 1844, 1400, 859, 492, 195, 79, 34, 16, 5]</td>\n",
       "      <td>0.058453</td>\n",
       "    </tr>\n",
       "    <tr>\n",
       "      <th>2014-08</th>\n",
       "      <td>[2284, 1588, 1387, 896, 451, 176, 77, 17, 5, 3]</td>\n",
       "      <td>[1870, 1785, 1427, 881, 511, 269, 84, 31, 19, 7]</td>\n",
       "      <td>0.069300</td>\n",
       "    </tr>\n",
       "    <tr>\n",
       "      <th>2014-09</th>\n",
       "      <td>[2267, 1583, 1379, 902, 464, 193, 67, 20, 7, 2]</td>\n",
       "      <td>[2042, 1910, 1356, 836, 459, 177, 64, 27, 8, 5]</td>\n",
       "      <td>0.050326</td>\n",
       "    </tr>\n",
       "    <tr>\n",
       "      <th>2014-10</th>\n",
       "      <td>[2036, 1292, 1352, 1004, 651, 319, 154, 44, 19...</td>\n",
       "      <td>[1852, 1772, 1412, 908, 521, 234, 124, 33, 19, 9]</td>\n",
       "      <td>0.080427</td>\n",
       "    </tr>\n",
       "    <tr>\n",
       "      <th>2014-11</th>\n",
       "      <td>[2335, 1668, 1459, 876, 369, 129, 34, 8, 5, 1]</td>\n",
       "      <td>[1852, 1776, 1379, 920, 521, 247, 108, 51, 22, 8]</td>\n",
       "      <td>0.107254</td>\n",
       "    </tr>\n",
       "    <tr>\n",
       "      <th>2014-12</th>\n",
       "      <td>[2201, 1449, 1366, 965, 550, 228, 86, 27, 7, 5]</td>\n",
       "      <td>[1859, 1779, 1353, 917, 546, 235, 115, 48, 24, 8]</td>\n",
       "      <td>0.066639</td>\n",
       "    </tr>\n",
       "    <tr>\n",
       "      <th>2015-01</th>\n",
       "      <td>[2197, 1530, 1339, 994, 483, 230, 77, 27, 4, 3]</td>\n",
       "      <td>[2366, 1951, 1406, 707, 313, 97, 33, 9, 1, 1]</td>\n",
       "      <td>0.109863</td>\n",
       "    </tr>\n",
       "    <tr>\n",
       "      <th>2015-02</th>\n",
       "      <td>[2083, 1369, 1380, 999, 580, 280, 129, 44, 16, 4]</td>\n",
       "      <td>[1962, 1769, 1345, 849, 551, 233, 123, 34, 15, 3]</td>\n",
       "      <td>0.062285</td>\n",
       "    </tr>\n",
       "    <tr>\n",
       "      <th>2015-03</th>\n",
       "      <td>[2377, 1668, 1468, 812, 368, 141, 39, 10, 0, 1]</td>\n",
       "      <td>[1868, 1707, 1352, 868, 524, 307, 155, 66, 25,...</td>\n",
       "      <td>0.130435</td>\n",
       "    </tr>\n",
       "  </tbody>\n",
       "</table>\n",
       "</div>"
      ],
      "text/plain": [
       "                                      amt_mean_6M_baseline  \\\n",
       "date                                                         \n",
       "2014-01    [2173, 1504, 1372, 985, 492, 237, 79, 32, 7, 3]   \n",
       "2014-02    [2303, 1593, 1431, 871, 437, 166, 61, 18, 2, 2]   \n",
       "2014-03   [2210, 1511, 1366, 954, 517, 208, 76, 30, 10, 2]   \n",
       "2014-04   [2202, 1513, 1427, 926, 497, 205, 75, 22, 13, 4]   \n",
       "2014-05    [2341, 1697, 1381, 869, 397, 142, 34, 14, 8, 1]   \n",
       "2014-06    [2297, 1496, 1432, 905, 481, 189, 57, 21, 3, 3]   \n",
       "2014-07    [2291, 1587, 1373, 919, 451, 179, 60, 15, 6, 3]   \n",
       "2014-08    [2284, 1588, 1387, 896, 451, 176, 77, 17, 5, 3]   \n",
       "2014-09    [2267, 1583, 1379, 902, 464, 193, 67, 20, 7, 2]   \n",
       "2014-10  [2036, 1292, 1352, 1004, 651, 319, 154, 44, 19...   \n",
       "2014-11     [2335, 1668, 1459, 876, 369, 129, 34, 8, 5, 1]   \n",
       "2014-12    [2201, 1449, 1366, 965, 550, 228, 86, 27, 7, 5]   \n",
       "2015-01    [2197, 1530, 1339, 994, 483, 230, 77, 27, 4, 3]   \n",
       "2015-02  [2083, 1369, 1380, 999, 580, 280, 129, 44, 16, 4]   \n",
       "2015-03    [2377, 1668, 1468, 812, 368, 141, 39, 10, 0, 1]   \n",
       "\n",
       "                                        amt_mean_6M_target  JS_values  \n",
       "date                                                                   \n",
       "2014-01   [1882, 1812, 1426, 919, 479, 220, 93, 32, 14, 7]   0.055529  \n",
       "2014-02    [2114, 1882, 1472, 767, 389, 171, 67, 15, 4, 3]   0.047816  \n",
       "2014-03    [2165, 1896, 1444, 789, 376, 146, 48, 15, 2, 3]   0.076821  \n",
       "2014-04    [2197, 1917, 1386, 818, 373, 127, 45, 16, 2, 3]   0.075540  \n",
       "2014-05  [1918, 1763, 1475, 886, 469, 212, 106, 37, 15, 3]   0.079079  \n",
       "2014-06   [1980, 1776, 1473, 856, 470, 192, 86, 33, 13, 5]   0.058561  \n",
       "2014-07   [1960, 1844, 1400, 859, 492, 195, 79, 34, 16, 5]   0.058453  \n",
       "2014-08   [1870, 1785, 1427, 881, 511, 269, 84, 31, 19, 7]   0.069300  \n",
       "2014-09    [2042, 1910, 1356, 836, 459, 177, 64, 27, 8, 5]   0.050326  \n",
       "2014-10  [1852, 1772, 1412, 908, 521, 234, 124, 33, 19, 9]   0.080427  \n",
       "2014-11  [1852, 1776, 1379, 920, 521, 247, 108, 51, 22, 8]   0.107254  \n",
       "2014-12  [1859, 1779, 1353, 917, 546, 235, 115, 48, 24, 8]   0.066639  \n",
       "2015-01      [2366, 1951, 1406, 707, 313, 97, 33, 9, 1, 1]   0.109863  \n",
       "2015-02  [1962, 1769, 1345, 849, 551, 233, 123, 34, 15, 3]   0.062285  \n",
       "2015-03  [1868, 1707, 1352, 868, 524, 307, 155, 66, 25,...   0.130435  "
      ]
     },
     "execution_count": 127,
     "metadata": {},
     "output_type": "execute_result"
    }
   ],
   "source": [
    "for i in range(len(u)):\n",
    "    u['JS_values'][i] = distance.jensenshannon(u['amt_mean_6M_baseline'].values[i],u['amt_mean_6M_target'].values[i],2.0)\n",
    "u"
   ]
  },
  {
   "cell_type": "code",
   "execution_count": 128,
   "id": "3cb07851-395d-4088-822f-1e68f1192c42",
   "metadata": {},
   "outputs": [],
   "source": [
    "u_df = u.reset_index()"
   ]
  },
  {
   "cell_type": "code",
   "execution_count": 129,
   "id": "ddef3f6b-2f20-4d5f-be4a-4c169694208b",
   "metadata": {},
   "outputs": [
    {
     "data": {
      "text/plain": [
       "Text(0.5, 1.0, 'JS_values for amt_mean_6M')"
      ]
     },
     "execution_count": 129,
     "metadata": {},
     "output_type": "execute_result"
    },
    {
     "data": {
      "image/png": "[encoded data removed]",
      "text/plain": [
       "<Figure size 432x288 with 1 Axes>"
      ]
     },
     "metadata": {
      "needs_background": "light"
     },
     "output_type": "display_data"
    }
   ],
   "source": [
    "u_df.plot(x='date', y=['JS_values'], style='o')\n",
    "plt.xlabel('date')\n",
    "plt.ylabel('JS_values')\n",
    "plt.title('JS_values for amt_mean_6M')"
   ]
  },
  {
   "cell_type": "markdown",
   "id": "a4289c84-ab34-4c0c-8421-3905a57f2dd6",
   "metadata": {},
   "source": [
    "## 4) amt_max_12M"
   ]
  },
  {
   "cell_type": "code",
   "execution_count": 130,
   "id": "46f33a8f-e434-4b9c-ae33-120230854857",
   "metadata": {},
   "outputs": [],
   "source": [
    "amt_max_12M_baseline = X2['amt_max_12M'].to_numpy()"
   ]
  },
  {
   "cell_type": "code",
   "execution_count": 131,
   "id": "9e0b1628-a4fb-4c2b-a20e-6e2ce07bd264",
   "metadata": {},
   "outputs": [
    {
     "data": {
      "text/plain": [
       "array([0.        , 0.        , 0.        , ..., 0.18357488, 0.18357488,\n",
       "       0.18357488])"
      ]
     },
     "execution_count": 131,
     "metadata": {},
     "output_type": "execute_result"
    }
   ],
   "source": [
    "amt_max_12M_baseline = amt_max_12M_baseline/amt_max_12M_baseline.max()\n",
    "amt_max_12M_baseline"
   ]
  },
  {
   "cell_type": "markdown",
   "id": "0aa9a493-6669-41f4-aa1c-e15f589a9cee",
   "metadata": {},
   "source": [
    "**Overall drift for all the months together**"
   ]
  },
  {
   "cell_type": "code",
   "execution_count": 132,
   "id": "9e5188a8-e5ac-449e-878f-3afb74b64da7",
   "metadata": {},
   "outputs": [
    {
     "data": {
      "text/plain": [
       "[Text(0.5, 0, 'Baseline Score'), Text(0, 0.5, 'Frequency')]"
      ]
     },
     "execution_count": 132,
     "metadata": {},
     "output_type": "execute_result"
    },
    {
     "data": {
      "image/png": "[encoded data removed]",
      "text/plain": [
       "<Figure size 432x288 with 1 Axes>"
      ]
     },
     "metadata": {
      "needs_background": "light"
     },
     "output_type": "display_data"
    }
   ],
   "source": [
    "ax = sns.histplot(amt_max_12M_baseline,                \n",
    "                  color='red',\n",
    "                  bins=100)\n",
    "ax.set(xlabel='Baseline Score', ylabel='Frequency')"
   ]
  },
  {
   "cell_type": "code",
   "execution_count": 133,
   "id": "38b671c2-8cb4-479d-a1f0-54ee3fa9f800",
   "metadata": {},
   "outputs": [],
   "source": [
    "amt_max_12M_target = X3['amt_max_12M'].to_numpy()\n",
    "amt_max_12M_target = amt_max_12M_target/amt_max_12M_target.max()"
   ]
  },
  {
   "cell_type": "code",
   "execution_count": 134,
   "id": "59760cdf-f3e5-4338-9aac-b77f910feace",
   "metadata": {},
   "outputs": [
    {
     "data": {
      "text/plain": [
       "array([0.22826087, 0.22826087, 0.15434783, ..., 0.07608696, 0.07608696,\n",
       "       0.07608696])"
      ]
     },
     "execution_count": 134,
     "metadata": {},
     "output_type": "execute_result"
    }
   ],
   "source": [
    "amt_max_12M_target"
   ]
  },
  {
   "cell_type": "code",
   "execution_count": 135,
   "id": "83a7c961-ff9e-4b3c-b468-72087ef06608",
   "metadata": {},
   "outputs": [
    {
     "data": {
      "text/plain": [
       "[Text(0.5, 0, 'Baseline Score'), Text(0, 0.5, 'Frequency')]"
      ]
     },
     "execution_count": 135,
     "metadata": {},
     "output_type": "execute_result"
    },
    {
     "data": {
      "image/png": "[encoded data removed]",
      "text/plain": [
       "<Figure size 432x288 with 1 Axes>"
      ]
     },
     "metadata": {
      "needs_background": "light"
     },
     "output_type": "display_data"
    }
   ],
   "source": [
    "ax = sns.histplot(amt_max_12M_target,                \n",
    "                  color='blue',\n",
    "                  bins=100)\n",
    "ax.set(xlabel='Baseline Score', ylabel='Frequency')"
   ]
  },
  {
   "cell_type": "markdown",
   "id": "5f42d7de-fb8a-4a51-b58b-bfcfed38fec1",
   "metadata": {},
   "source": [
    "### To estimate the drift month over month"
   ]
  },
  {
   "cell_type": "code",
   "execution_count": 136,
   "id": "5143bedc-107e-4e36-acf5-7d30b84a4260",
   "metadata": {},
   "outputs": [],
   "source": [
    "amt_max_12M_baseline_df = pd.DataFrame(amt_max_12M_baseline)\n",
    "amt_max_12M_baseline_df = amt_mean_6M_baseline_df.set_axis(['amt_max_12M_baseline'], axis=1)"
   ]
  },
  {
   "cell_type": "code",
   "execution_count": 137,
   "id": "8f5d3082-1250-44f4-99a6-afb6a632a4fd",
   "metadata": {},
   "outputs": [],
   "source": [
    "amt_max_12M_target_df = pd.DataFrame(amt_max_12M_target)\n",
    "amt_max_12M_target_df = amt_max_12M_target_df.set_axis(['amt_max_12M_target'], axis=1)"
   ]
  },
  {
   "cell_type": "code",
   "execution_count": 138,
   "id": "a753fe54-c291-4344-8156-9a3929759c11",
   "metadata": {},
   "outputs": [],
   "source": [
    "merge_df = X4.join(amt_max_12M_baseline_df)\n",
    "merge_df = merge_df.join(amt_max_12M_target_df)"
   ]
  },
  {
   "cell_type": "code",
   "execution_count": 139,
   "id": "b5c7bfa5-b7cc-4128-aa6a-c0b6733b47cb",
   "metadata": {},
   "outputs": [],
   "source": [
    "from datetime import datetime as dt\n",
    "merge_df['date'] = pd.to_datetime(merge_df['ME_DT'])\n",
    "merge_df['date'] = merge_df['date'].dt.strftime('%Y-%m')"
   ]
  },
  {
   "cell_type": "code",
   "execution_count": 140,
   "id": "dfd7eb98-6ce4-4c0a-b4c1-218ff0e823fc",
   "metadata": {},
   "outputs": [],
   "source": [
    "merge_df = merge_df.apply(lambda x: x.fillna(0),axis=0)"
   ]
  },
  {
   "cell_type": "code",
   "execution_count": 141,
   "id": "9c23432f-5620-4731-ba99-7ba48ce2c2b1",
   "metadata": {},
   "outputs": [],
   "source": [
    "merge_df = merge_df.drop(columns=['ME_DT'],axis=1)"
   ]
  },
  {
   "cell_type": "code",
   "execution_count": 142,
   "id": "13414235-cca9-43f2-aa0e-1b087cf3e76d",
   "metadata": {},
   "outputs": [],
   "source": [
    "merge_df = merge_df[['CLNT_NO','date', 'amt_max_12M_baseline','amt_max_12M_target']]"
   ]
  },
  {
   "cell_type": "code",
   "execution_count": 143,
   "id": "95198e54-b2a4-46c6-913b-4d9bf74ef07c",
   "metadata": {},
   "outputs": [],
   "source": [
    "merge_df_train_test = merge_df.groupby(['date','CLNT_NO']).mean()"
   ]
  },
  {
   "cell_type": "code",
   "execution_count": 144,
   "id": "613074ef-873b-4ba1-b7e2-f539d09b7d37",
   "metadata": {},
   "outputs": [],
   "source": [
    "monthly_scores_train = merge_df_train_test['amt_max_12M_baseline'].groupby(level=0).aggregate(np.histogram)\n",
    "#monthly_scores_train"
   ]
  },
  {
   "cell_type": "code",
   "execution_count": 145,
   "id": "c4e6b90d-83df-4dbe-af3d-7dbd7baafffb",
   "metadata": {},
   "outputs": [],
   "source": [
    "monthly_scores_train = pd.DataFrame(monthly_scores_train)"
   ]
  },
  {
   "cell_type": "code",
   "execution_count": 146,
   "id": "3d3b8064-cdd3-4ace-9ccd-e6553fde8814",
   "metadata": {},
   "outputs": [],
   "source": [
    "monthly_scores_test = merge_df_train_test['amt_max_12M_target'].groupby(level=0).aggregate(np.histogram)\n",
    "monthly_scores_test = pd.DataFrame(monthly_scores_test)\n",
    "#monthly_scores_test"
   ]
  },
  {
   "cell_type": "code",
   "execution_count": 147,
   "id": "8930e86f-772e-4c2f-be13-20113826b1d4",
   "metadata": {},
   "outputs": [],
   "source": [
    "join_df = monthly_scores_train.join(monthly_scores_test)"
   ]
  },
  {
   "cell_type": "code",
   "execution_count": 148,
   "id": "1b189b27-e51b-49ac-8469-5d3837ee19a2",
   "metadata": {},
   "outputs": [
    {
     "data": {
      "text/html": [
       "<div>\n",
       "<style scoped>\n",
       "    .dataframe tbody tr th:only-of-type {\n",
       "        vertical-align: middle;\n",
       "    }\n",
       "\n",
       "    .dataframe tbody tr th {\n",
       "        vertical-align: top;\n",
       "    }\n",
       "\n",
       "    .dataframe thead th {\n",
       "        text-align: right;\n",
       "    }\n",
       "</style>\n",
       "<table border=\"1\" class=\"dataframe\">\n",
       "  <thead>\n",
       "    <tr style=\"text-align: right;\">\n",
       "      <th></th>\n",
       "      <th>amt_max_12M_baseline</th>\n",
       "      <th>amt_max_12M_target</th>\n",
       "    </tr>\n",
       "    <tr>\n",
       "      <th>date</th>\n",
       "      <th></th>\n",
       "      <th></th>\n",
       "    </tr>\n",
       "  </thead>\n",
       "  <tbody>\n",
       "    <tr>\n",
       "      <th>2014-01</th>\n",
       "      <td>[2173, 1504, 1372, 985, 492, 237, 79, 32, 7, 3]</td>\n",
       "      <td>[299, 1785, 2267, 1381, 807, 197, 107, 29, 10, 2]</td>\n",
       "    </tr>\n",
       "    <tr>\n",
       "      <th>2014-02</th>\n",
       "      <td>[2303, 1593, 1431, 871, 437, 166, 61, 18, 2, 2]</td>\n",
       "      <td>[319, 1754, 2299, 1359, 811, 201, 104, 26, 9, 2]</td>\n",
       "    </tr>\n",
       "    <tr>\n",
       "      <th>2014-03</th>\n",
       "      <td>[2210, 1511, 1366, 954, 517, 208, 76, 30, 10, 2]</td>\n",
       "      <td>[327, 1727, 2282, 1392, 813, 206, 100, 26, 8, 3]</td>\n",
       "    </tr>\n",
       "    <tr>\n",
       "      <th>2014-04</th>\n",
       "      <td>[2202, 1513, 1427, 926, 497, 205, 75, 22, 13, 4]</td>\n",
       "      <td>[365, 1966, 2241, 1436, 626, 160, 61, 24, 2, 3]</td>\n",
       "    </tr>\n",
       "    <tr>\n",
       "      <th>2014-05</th>\n",
       "      <td>[2341, 1697, 1381, 869, 397, 142, 34, 14, 8, 1]</td>\n",
       "      <td>[373, 1996, 2233, 1431, 619, 150, 55, 23, 1, 3]</td>\n",
       "    </tr>\n",
       "    <tr>\n",
       "      <th>2014-06</th>\n",
       "      <td>[2297, 1496, 1432, 905, 481, 189, 57, 21, 3, 3]</td>\n",
       "      <td>[373, 1979, 2266, 1437, 592, 152, 56, 23, 1, 5]</td>\n",
       "    </tr>\n",
       "    <tr>\n",
       "      <th>2014-07</th>\n",
       "      <td>[2291, 1587, 1373, 919, 451, 179, 60, 15, 6, 3]</td>\n",
       "      <td>[373, 1949, 2273, 1449, 603, 160, 50, 21, 1, 5]</td>\n",
       "    </tr>\n",
       "    <tr>\n",
       "      <th>2014-08</th>\n",
       "      <td>[2284, 1588, 1387, 896, 451, 176, 77, 17, 5, 3]</td>\n",
       "      <td>[365, 1980, 2271, 1437, 591, 160, 53, 21, 1, 5]</td>\n",
       "    </tr>\n",
       "    <tr>\n",
       "      <th>2014-09</th>\n",
       "      <td>[2267, 1583, 1379, 902, 464, 193, 67, 20, 7, 2]</td>\n",
       "      <td>[361, 1993, 2256, 1435, 594, 160, 55, 24, 1, 5]</td>\n",
       "    </tr>\n",
       "    <tr>\n",
       "      <th>2014-10</th>\n",
       "      <td>[2036, 1292, 1352, 1004, 651, 319, 154, 44, 19...</td>\n",
       "      <td>[351, 1982, 2264, 1441, 600, 167, 52, 22, 1, 4]</td>\n",
       "    </tr>\n",
       "    <tr>\n",
       "      <th>2014-11</th>\n",
       "      <td>[2335, 1668, 1459, 876, 369, 129, 34, 8, 5, 1]</td>\n",
       "      <td>[343, 2014, 2255, 1420, 604, 169, 54, 19, 2, 4]</td>\n",
       "    </tr>\n",
       "    <tr>\n",
       "      <th>2014-12</th>\n",
       "      <td>[2201, 1449, 1366, 965, 550, 228, 86, 27, 7, 5]</td>\n",
       "      <td>[350, 2022, 2262, 1398, 602, 169, 59, 16, 2, 4]</td>\n",
       "    </tr>\n",
       "    <tr>\n",
       "      <th>2015-01</th>\n",
       "      <td>[2197, 1530, 1339, 994, 483, 230, 77, 27, 4, 3]</td>\n",
       "      <td>[356, 2040, 2251, 1377, 615, 166, 57, 16, 2, 4]</td>\n",
       "    </tr>\n",
       "    <tr>\n",
       "      <th>2015-02</th>\n",
       "      <td>[2083, 1369, 1380, 999, 580, 280, 129, 44, 16, 4]</td>\n",
       "      <td>[399, 2201, 2243, 1339, 501, 138, 44, 13, 2, 4]</td>\n",
       "    </tr>\n",
       "    <tr>\n",
       "      <th>2015-03</th>\n",
       "      <td>[2377, 1668, 1468, 812, 368, 141, 39, 10, 0, 1]</td>\n",
       "      <td>[454, 2247, 2248, 1277, 474, 127, 40, 12, 1, 4]</td>\n",
       "    </tr>\n",
       "  </tbody>\n",
       "</table>\n",
       "</div>"
      ],
      "text/plain": [
       "                                      amt_max_12M_baseline  \\\n",
       "date                                                         \n",
       "2014-01    [2173, 1504, 1372, 985, 492, 237, 79, 32, 7, 3]   \n",
       "2014-02    [2303, 1593, 1431, 871, 437, 166, 61, 18, 2, 2]   \n",
       "2014-03   [2210, 1511, 1366, 954, 517, 208, 76, 30, 10, 2]   \n",
       "2014-04   [2202, 1513, 1427, 926, 497, 205, 75, 22, 13, 4]   \n",
       "2014-05    [2341, 1697, 1381, 869, 397, 142, 34, 14, 8, 1]   \n",
       "2014-06    [2297, 1496, 1432, 905, 481, 189, 57, 21, 3, 3]   \n",
       "2014-07    [2291, 1587, 1373, 919, 451, 179, 60, 15, 6, 3]   \n",
       "2014-08    [2284, 1588, 1387, 896, 451, 176, 77, 17, 5, 3]   \n",
       "2014-09    [2267, 1583, 1379, 902, 464, 193, 67, 20, 7, 2]   \n",
       "2014-10  [2036, 1292, 1352, 1004, 651, 319, 154, 44, 19...   \n",
       "2014-11     [2335, 1668, 1459, 876, 369, 129, 34, 8, 5, 1]   \n",
       "2014-12    [2201, 1449, 1366, 965, 550, 228, 86, 27, 7, 5]   \n",
       "2015-01    [2197, 1530, 1339, 994, 483, 230, 77, 27, 4, 3]   \n",
       "2015-02  [2083, 1369, 1380, 999, 580, 280, 129, 44, 16, 4]   \n",
       "2015-03    [2377, 1668, 1468, 812, 368, 141, 39, 10, 0, 1]   \n",
       "\n",
       "                                        amt_max_12M_target  \n",
       "date                                                        \n",
       "2014-01  [299, 1785, 2267, 1381, 807, 197, 107, 29, 10, 2]  \n",
       "2014-02   [319, 1754, 2299, 1359, 811, 201, 104, 26, 9, 2]  \n",
       "2014-03   [327, 1727, 2282, 1392, 813, 206, 100, 26, 8, 3]  \n",
       "2014-04    [365, 1966, 2241, 1436, 626, 160, 61, 24, 2, 3]  \n",
       "2014-05    [373, 1996, 2233, 1431, 619, 150, 55, 23, 1, 3]  \n",
       "2014-06    [373, 1979, 2266, 1437, 592, 152, 56, 23, 1, 5]  \n",
       "2014-07    [373, 1949, 2273, 1449, 603, 160, 50, 21, 1, 5]  \n",
       "2014-08    [365, 1980, 2271, 1437, 591, 160, 53, 21, 1, 5]  \n",
       "2014-09    [361, 1993, 2256, 1435, 594, 160, 55, 24, 1, 5]  \n",
       "2014-10    [351, 1982, 2264, 1441, 600, 167, 52, 22, 1, 4]  \n",
       "2014-11    [343, 2014, 2255, 1420, 604, 169, 54, 19, 2, 4]  \n",
       "2014-12    [350, 2022, 2262, 1398, 602, 169, 59, 16, 2, 4]  \n",
       "2015-01    [356, 2040, 2251, 1377, 615, 166, 57, 16, 2, 4]  \n",
       "2015-02    [399, 2201, 2243, 1339, 501, 138, 44, 13, 2, 4]  \n",
       "2015-03    [454, 2247, 2248, 1277, 474, 127, 40, 12, 1, 4]  "
      ]
     },
     "execution_count": 148,
     "metadata": {},
     "output_type": "execute_result"
    }
   ],
   "source": [
    "u = join_df.apply(lambda x: x.str[0])\n",
    "u"
   ]
  },
  {
   "cell_type": "code",
   "execution_count": 149,
   "id": "bbcecc0a-9f32-4b2d-b57e-c09083d5a863",
   "metadata": {},
   "outputs": [],
   "source": [
    "for i in range(len(u)):\n",
    "    u['JS_values'] = distance.jensenshannon(u['amt_max_12M_baseline'].values[i],u['amt_max_12M_target'].values[i],2.0)"
   ]
  },
  {
   "cell_type": "code",
   "execution_count": 150,
   "id": "cc1dc1fa-cc14-4b2f-b1a6-44e51b67a4ed",
   "metadata": {},
   "outputs": [
    {
     "data": {
      "text/html": [
       "<div>\n",
       "<style scoped>\n",
       "    .dataframe tbody tr th:only-of-type {\n",
       "        vertical-align: middle;\n",
       "    }\n",
       "\n",
       "    .dataframe tbody tr th {\n",
       "        vertical-align: top;\n",
       "    }\n",
       "\n",
       "    .dataframe thead th {\n",
       "        text-align: right;\n",
       "    }\n",
       "</style>\n",
       "<table border=\"1\" class=\"dataframe\">\n",
       "  <thead>\n",
       "    <tr style=\"text-align: right;\">\n",
       "      <th></th>\n",
       "      <th>amt_max_12M_baseline</th>\n",
       "      <th>amt_max_12M_target</th>\n",
       "      <th>JS_values</th>\n",
       "    </tr>\n",
       "    <tr>\n",
       "      <th>date</th>\n",
       "      <th></th>\n",
       "      <th></th>\n",
       "      <th></th>\n",
       "    </tr>\n",
       "  </thead>\n",
       "  <tbody>\n",
       "    <tr>\n",
       "      <th>2014-01</th>\n",
       "      <td>[2173, 1504, 1372, 985, 492, 237, 79, 32, 7, 3]</td>\n",
       "      <td>[299, 1785, 2267, 1381, 807, 197, 107, 29, 10, 2]</td>\n",
       "      <td>0.323904</td>\n",
       "    </tr>\n",
       "    <tr>\n",
       "      <th>2014-02</th>\n",
       "      <td>[2303, 1593, 1431, 871, 437, 166, 61, 18, 2, 2]</td>\n",
       "      <td>[319, 1754, 2299, 1359, 811, 201, 104, 26, 9, 2]</td>\n",
       "      <td>0.335427</td>\n",
       "    </tr>\n",
       "    <tr>\n",
       "      <th>2014-03</th>\n",
       "      <td>[2210, 1511, 1366, 954, 517, 208, 76, 30, 10, 2]</td>\n",
       "      <td>[327, 1727, 2282, 1392, 813, 206, 100, 26, 8, 3]</td>\n",
       "      <td>0.321010</td>\n",
       "    </tr>\n",
       "    <tr>\n",
       "      <th>2014-04</th>\n",
       "      <td>[2202, 1513, 1427, 926, 497, 205, 75, 22, 13, 4]</td>\n",
       "      <td>[365, 1966, 2241, 1436, 626, 160, 61, 24, 2, 3]</td>\n",
       "      <td>0.310711</td>\n",
       "    </tr>\n",
       "    <tr>\n",
       "      <th>2014-05</th>\n",
       "      <td>[2341, 1697, 1381, 869, 397, 142, 34, 14, 8, 1]</td>\n",
       "      <td>[373, 1996, 2233, 1431, 619, 150, 55, 23, 1, 3]</td>\n",
       "      <td>0.325239</td>\n",
       "    </tr>\n",
       "    <tr>\n",
       "      <th>2014-06</th>\n",
       "      <td>[2297, 1496, 1432, 905, 481, 189, 57, 21, 3, 3]</td>\n",
       "      <td>[373, 1979, 2266, 1437, 592, 152, 56, 23, 1, 5]</td>\n",
       "      <td>0.318647</td>\n",
       "    </tr>\n",
       "    <tr>\n",
       "      <th>2014-07</th>\n",
       "      <td>[2291, 1587, 1373, 919, 451, 179, 60, 15, 6, 3]</td>\n",
       "      <td>[373, 1949, 2273, 1449, 603, 160, 50, 21, 1, 5]</td>\n",
       "      <td>0.319305</td>\n",
       "    </tr>\n",
       "    <tr>\n",
       "      <th>2014-08</th>\n",
       "      <td>[2284, 1588, 1387, 896, 451, 176, 77, 17, 5, 3]</td>\n",
       "      <td>[365, 1980, 2271, 1437, 591, 160, 53, 21, 1, 5]</td>\n",
       "      <td>0.320586</td>\n",
       "    </tr>\n",
       "    <tr>\n",
       "      <th>2014-09</th>\n",
       "      <td>[2267, 1583, 1379, 902, 464, 193, 67, 20, 7, 2]</td>\n",
       "      <td>[361, 1993, 2256, 1435, 594, 160, 55, 24, 1, 5]</td>\n",
       "      <td>0.319672</td>\n",
       "    </tr>\n",
       "    <tr>\n",
       "      <th>2014-10</th>\n",
       "      <td>[2036, 1292, 1352, 1004, 651, 319, 154, 44, 19...</td>\n",
       "      <td>[351, 1982, 2264, 1441, 600, 167, 52, 22, 1, 4]</td>\n",
       "      <td>0.316237</td>\n",
       "    </tr>\n",
       "    <tr>\n",
       "      <th>2014-11</th>\n",
       "      <td>[2335, 1668, 1459, 876, 369, 129, 34, 8, 5, 1]</td>\n",
       "      <td>[343, 2014, 2255, 1420, 604, 169, 54, 19, 2, 4]</td>\n",
       "      <td>0.329516</td>\n",
       "    </tr>\n",
       "    <tr>\n",
       "      <th>2014-12</th>\n",
       "      <td>[2201, 1449, 1366, 965, 550, 228, 86, 27, 7, 5]</td>\n",
       "      <td>[350, 2022, 2262, 1398, 602, 169, 59, 16, 2, 4]</td>\n",
       "      <td>0.316912</td>\n",
       "    </tr>\n",
       "    <tr>\n",
       "      <th>2015-01</th>\n",
       "      <td>[2197, 1530, 1339, 994, 483, 230, 77, 27, 4, 3]</td>\n",
       "      <td>[356, 2040, 2251, 1377, 615, 166, 57, 16, 2, 4]</td>\n",
       "      <td>0.313768</td>\n",
       "    </tr>\n",
       "    <tr>\n",
       "      <th>2015-02</th>\n",
       "      <td>[2083, 1369, 1380, 999, 580, 280, 129, 44, 16, 4]</td>\n",
       "      <td>[399, 2201, 2243, 1339, 501, 138, 44, 13, 2, 4]</td>\n",
       "      <td>0.309959</td>\n",
       "    </tr>\n",
       "    <tr>\n",
       "      <th>2015-03</th>\n",
       "      <td>[2377, 1668, 1468, 812, 368, 141, 39, 10, 0, 1]</td>\n",
       "      <td>[454, 2247, 2248, 1277, 474, 127, 40, 12, 1, 4]</td>\n",
       "      <td>0.307490</td>\n",
       "    </tr>\n",
       "  </tbody>\n",
       "</table>\n",
       "</div>"
      ],
      "text/plain": [
       "                                      amt_max_12M_baseline  \\\n",
       "date                                                         \n",
       "2014-01    [2173, 1504, 1372, 985, 492, 237, 79, 32, 7, 3]   \n",
       "2014-02    [2303, 1593, 1431, 871, 437, 166, 61, 18, 2, 2]   \n",
       "2014-03   [2210, 1511, 1366, 954, 517, 208, 76, 30, 10, 2]   \n",
       "2014-04   [2202, 1513, 1427, 926, 497, 205, 75, 22, 13, 4]   \n",
       "2014-05    [2341, 1697, 1381, 869, 397, 142, 34, 14, 8, 1]   \n",
       "2014-06    [2297, 1496, 1432, 905, 481, 189, 57, 21, 3, 3]   \n",
       "2014-07    [2291, 1587, 1373, 919, 451, 179, 60, 15, 6, 3]   \n",
       "2014-08    [2284, 1588, 1387, 896, 451, 176, 77, 17, 5, 3]   \n",
       "2014-09    [2267, 1583, 1379, 902, 464, 193, 67, 20, 7, 2]   \n",
       "2014-10  [2036, 1292, 1352, 1004, 651, 319, 154, 44, 19...   \n",
       "2014-11     [2335, 1668, 1459, 876, 369, 129, 34, 8, 5, 1]   \n",
       "2014-12    [2201, 1449, 1366, 965, 550, 228, 86, 27, 7, 5]   \n",
       "2015-01    [2197, 1530, 1339, 994, 483, 230, 77, 27, 4, 3]   \n",
       "2015-02  [2083, 1369, 1380, 999, 580, 280, 129, 44, 16, 4]   \n",
       "2015-03    [2377, 1668, 1468, 812, 368, 141, 39, 10, 0, 1]   \n",
       "\n",
       "                                        amt_max_12M_target  JS_values  \n",
       "date                                                                   \n",
       "2014-01  [299, 1785, 2267, 1381, 807, 197, 107, 29, 10, 2]   0.323904  \n",
       "2014-02   [319, 1754, 2299, 1359, 811, 201, 104, 26, 9, 2]   0.335427  \n",
       "2014-03   [327, 1727, 2282, 1392, 813, 206, 100, 26, 8, 3]   0.321010  \n",
       "2014-04    [365, 1966, 2241, 1436, 626, 160, 61, 24, 2, 3]   0.310711  \n",
       "2014-05    [373, 1996, 2233, 1431, 619, 150, 55, 23, 1, 3]   0.325239  \n",
       "2014-06    [373, 1979, 2266, 1437, 592, 152, 56, 23, 1, 5]   0.318647  \n",
       "2014-07    [373, 1949, 2273, 1449, 603, 160, 50, 21, 1, 5]   0.319305  \n",
       "2014-08    [365, 1980, 2271, 1437, 591, 160, 53, 21, 1, 5]   0.320586  \n",
       "2014-09    [361, 1993, 2256, 1435, 594, 160, 55, 24, 1, 5]   0.319672  \n",
       "2014-10    [351, 1982, 2264, 1441, 600, 167, 52, 22, 1, 4]   0.316237  \n",
       "2014-11    [343, 2014, 2255, 1420, 604, 169, 54, 19, 2, 4]   0.329516  \n",
       "2014-12    [350, 2022, 2262, 1398, 602, 169, 59, 16, 2, 4]   0.316912  \n",
       "2015-01    [356, 2040, 2251, 1377, 615, 166, 57, 16, 2, 4]   0.313768  \n",
       "2015-02    [399, 2201, 2243, 1339, 501, 138, 44, 13, 2, 4]   0.309959  \n",
       "2015-03    [454, 2247, 2248, 1277, 474, 127, 40, 12, 1, 4]   0.307490  "
      ]
     },
     "execution_count": 150,
     "metadata": {},
     "output_type": "execute_result"
    }
   ],
   "source": [
    "for i in range(len(u)):\n",
    "    u['JS_values'][i] = distance.jensenshannon(u['amt_max_12M_baseline'].values[i],u['amt_max_12M_target'].values[i],2.0)\n",
    "u"
   ]
  },
  {
   "cell_type": "code",
   "execution_count": 151,
   "id": "2d994f96-e3d7-4ead-bd5b-8547fab763df",
   "metadata": {},
   "outputs": [],
   "source": [
    "u_df = u.reset_index()"
   ]
  },
  {
   "cell_type": "code",
   "execution_count": 152,
   "id": "c998f04b-98b9-441e-9240-b5d02b929cbf",
   "metadata": {},
   "outputs": [
    {
     "data": {
      "text/plain": [
       "Text(0.5, 1.0, 'JS_values for amt_max_12M')"
      ]
     },
     "execution_count": 152,
     "metadata": {},
     "output_type": "execute_result"
    },
    {
     "data": {
      "image/png": "[encoded data removed]",
      "text/plain": [
       "<Figure size 432x288 with 1 Axes>"
      ]
     },
     "metadata": {
      "needs_background": "light"
     },
     "output_type": "display_data"
    }
   ],
   "source": [
    "u_df.plot(x='date', y=['JS_values'], style='o')\n",
    "plt.xlabel('date')\n",
    "plt.ylabel('JS_values')\n",
    "plt.title('JS_values for amt_max_12M')"
   ]
  },
  {
   "cell_type": "markdown",
   "id": "de0e8412-7edd-494a-9ad1-c110b9415ba9",
   "metadata": {},
   "source": [
    "## 5) amt_sum_6M"
   ]
  },
  {
   "cell_type": "code",
   "execution_count": 153,
   "id": "dccd0f4c-d66a-4a14-b6e9-40cf1a88998b",
   "metadata": {},
   "outputs": [],
   "source": [
    "amt_sum_6M_baseline = X2['amt_sum_6M'].to_numpy()"
   ]
  },
  {
   "cell_type": "code",
   "execution_count": 154,
   "id": "55f259ea-15cf-4de9-acb8-1b5207b24a07",
   "metadata": {},
   "outputs": [
    {
     "data": {
      "text/plain": [
       "array([0.        , 0.        , 0.        , ..., 0.16742597, 0.16742597,\n",
       "       0.16742597])"
      ]
     },
     "execution_count": 154,
     "metadata": {},
     "output_type": "execute_result"
    }
   ],
   "source": [
    "amt_sum_6M_baseline = amt_sum_6M_baseline/amt_sum_6M_baseline.max()\n",
    "amt_sum_6M_baseline"
   ]
  },
  {
   "cell_type": "code",
   "execution_count": 155,
   "id": "fc895987-51c4-4a15-a35e-faee3ba76b09",
   "metadata": {},
   "outputs": [
    {
     "data": {
      "text/plain": [
       "[Text(0.5, 0, 'Baseline Score'), Text(0, 0.5, 'Frequency')]"
      ]
     },
     "execution_count": 155,
     "metadata": {},
     "output_type": "execute_result"
    },
    {
     "data": {
      "image/png": "[encoded data removed]",
      "text/plain": [
       "<Figure size 432x288 with 1 Axes>"
      ]
     },
     "metadata": {
      "needs_background": "light"
     },
     "output_type": "display_data"
    }
   ],
   "source": [
    "ax = sns.histplot(amt_sum_6M_baseline,                \n",
    "                  color='red',\n",
    "                  bins=100)\n",
    "ax.set(xlabel='Baseline Score', ylabel='Frequency')"
   ]
  },
  {
   "cell_type": "code",
   "execution_count": 156,
   "id": "ed40f8f7-f592-4c31-9b1c-370288672961",
   "metadata": {},
   "outputs": [],
   "source": [
    "amt_sum_6M_target = X3['amt_sum_6M'].to_numpy()\n",
    "amt_sum_6M_target = amt_sum_6M_target/amt_sum_6M_target.max()"
   ]
  },
  {
   "cell_type": "code",
   "execution_count": 157,
   "id": "423030f4-27ab-4842-8756-de25b71a2437",
   "metadata": {},
   "outputs": [
    {
     "data": {
      "text/plain": [
       "array([0.08068182, 0.08068182, 0.08068182, ..., 0.03977273, 0.03863636,\n",
       "       0.03863636])"
      ]
     },
     "execution_count": 157,
     "metadata": {},
     "output_type": "execute_result"
    }
   ],
   "source": [
    "amt_sum_6M_target"
   ]
  },
  {
   "cell_type": "code",
   "execution_count": 158,
   "id": "0dedb289-c157-4f0e-97fe-1ba2c264eedb",
   "metadata": {},
   "outputs": [
    {
     "data": {
      "text/plain": [
       "[Text(0.5, 0, 'Baseline Score'), Text(0, 0.5, 'Frequency')]"
      ]
     },
     "execution_count": 158,
     "metadata": {},
     "output_type": "execute_result"
    },
    {
     "data": {
      "image/png": "[encoded data removed]",
      "text/plain": [
       "<Figure size 432x288 with 1 Axes>"
      ]
     },
     "metadata": {
      "needs_background": "light"
     },
     "output_type": "display_data"
    }
   ],
   "source": [
    "ax = sns.histplot(amt_sum_6M_target,                \n",
    "                  color='blue',\n",
    "                  bins=100)\n",
    "ax.set(xlabel='Baseline Score', ylabel='Frequency')"
   ]
  },
  {
   "cell_type": "markdown",
   "id": "e1901625-a2b5-48bb-9294-646478072bfe",
   "metadata": {},
   "source": [
    "### To estimate the drift month over month"
   ]
  },
  {
   "cell_type": "code",
   "execution_count": 159,
   "id": "9ed7460b-220c-4bc4-9e9e-1425366a8873",
   "metadata": {},
   "outputs": [],
   "source": [
    "amt_sum_6M_baseline_df = pd.DataFrame(amt_sum_6M_baseline)\n",
    "amt_sum_6M_baseline_df = amt_sum_6M_baseline_df.set_axis(['amt_sum_6M_baseline'], axis=1)"
   ]
  },
  {
   "cell_type": "code",
   "execution_count": 160,
   "id": "e612aa6d-850d-46c0-85c3-45e4b11984a2",
   "metadata": {},
   "outputs": [],
   "source": [
    "amt_sum_6M_target_df = pd.DataFrame(amt_sum_6M_target)\n",
    "amt_sum_6M_target_df = amt_sum_6M_target_df.set_axis(['amt_sum_6M_target'], axis=1)"
   ]
  },
  {
   "cell_type": "code",
   "execution_count": 161,
   "id": "6bcbaaff-c515-48d3-aee1-529ecc5f2588",
   "metadata": {},
   "outputs": [],
   "source": [
    "merge_df = X4.join(amt_sum_6M_baseline_df)\n",
    "merge_df = merge_df.join(amt_sum_6M_target_df)"
   ]
  },
  {
   "cell_type": "code",
   "execution_count": 162,
   "id": "e8142531-896c-4fb9-8006-aef64899ed1c",
   "metadata": {},
   "outputs": [],
   "source": [
    "from datetime import datetime as dt\n",
    "merge_df['date'] = pd.to_datetime(merge_df['ME_DT'])\n",
    "merge_df['date'] = merge_df['date'].dt.strftime('%Y-%m')"
   ]
  },
  {
   "cell_type": "code",
   "execution_count": 163,
   "id": "240ecd2c-cf09-4feb-8c70-f08e2217d385",
   "metadata": {},
   "outputs": [],
   "source": [
    "merge_df = merge_df.apply(lambda x: x.fillna(0),axis=0)"
   ]
  },
  {
   "cell_type": "code",
   "execution_count": 164,
   "id": "58f9aace-2caa-4729-aad4-cbfbf1dbdc39",
   "metadata": {},
   "outputs": [],
   "source": [
    "merge_df = merge_df.drop(columns=['ME_DT'],axis=1)"
   ]
  },
  {
   "cell_type": "code",
   "execution_count": 165,
   "id": "9b5da373-1271-402f-9aed-4fb3ca12a072",
   "metadata": {},
   "outputs": [],
   "source": [
    "merge_df = merge_df[['CLNT_NO','date', 'amt_sum_6M_baseline','amt_sum_6M_target']]"
   ]
  },
  {
   "cell_type": "code",
   "execution_count": 166,
   "id": "a95b9799-a342-4386-a020-6e7b99f28d28",
   "metadata": {},
   "outputs": [],
   "source": [
    "merge_df_train_test = merge_df.groupby(['date','CLNT_NO']).mean()"
   ]
  },
  {
   "cell_type": "code",
   "execution_count": 167,
   "id": "a82bc469-c1a5-4508-b45a-0e69e01dfb89",
   "metadata": {},
   "outputs": [],
   "source": [
    "monthly_scores_train = merge_df_train_test['amt_sum_6M_baseline'].groupby(level=0).aggregate(np.histogram)\n",
    "#monthly_scores_train"
   ]
  },
  {
   "cell_type": "code",
   "execution_count": 168,
   "id": "8388184c-5185-429e-b804-c603f62fd5f1",
   "metadata": {},
   "outputs": [],
   "source": [
    "monthly_scores_train = pd.DataFrame(monthly_scores_train)"
   ]
  },
  {
   "cell_type": "code",
   "execution_count": 169,
   "id": "929055af-d1a0-48b4-94e8-1b0b97a91f46",
   "metadata": {},
   "outputs": [],
   "source": [
    "monthly_scores_test = merge_df_train_test['amt_sum_6M_target'].groupby(level=0).aggregate(np.histogram)\n",
    "monthly_scores_test = pd.DataFrame(monthly_scores_test)\n",
    "#monthly_scores_test"
   ]
  },
  {
   "cell_type": "code",
   "execution_count": 170,
   "id": "4fb026d3-e475-4a70-a5d5-0a4dd41d8961",
   "metadata": {},
   "outputs": [],
   "source": [
    "join_df = monthly_scores_train.join(monthly_scores_test)"
   ]
  },
  {
   "cell_type": "code",
   "execution_count": 171,
   "id": "e16cd57a-18e7-4200-bc61-ea39d8f9ed3b",
   "metadata": {},
   "outputs": [
    {
     "data": {
      "text/html": [
       "<div>\n",
       "<style scoped>\n",
       "    .dataframe tbody tr th:only-of-type {\n",
       "        vertical-align: middle;\n",
       "    }\n",
       "\n",
       "    .dataframe tbody tr th {\n",
       "        vertical-align: top;\n",
       "    }\n",
       "\n",
       "    .dataframe thead th {\n",
       "        text-align: right;\n",
       "    }\n",
       "</style>\n",
       "<table border=\"1\" class=\"dataframe\">\n",
       "  <thead>\n",
       "    <tr style=\"text-align: right;\">\n",
       "      <th></th>\n",
       "      <th>amt_sum_6M_baseline</th>\n",
       "      <th>amt_sum_6M_target</th>\n",
       "    </tr>\n",
       "    <tr>\n",
       "      <th>date</th>\n",
       "      <th></th>\n",
       "      <th></th>\n",
       "    </tr>\n",
       "  </thead>\n",
       "  <tbody>\n",
       "    <tr>\n",
       "      <th>2014-01</th>\n",
       "      <td>[2173, 1504, 1372, 985, 498, 231, 79, 32, 7, 3]</td>\n",
       "      <td>[1882, 1812, 1426, 919, 479, 220, 93, 32, 14, 7]</td>\n",
       "    </tr>\n",
       "    <tr>\n",
       "      <th>2014-02</th>\n",
       "      <td>[2303, 1593, 1431, 871, 437, 166, 61, 18, 2, 2]</td>\n",
       "      <td>[2114, 1882, 1472, 767, 389, 171, 67, 15, 4, 3]</td>\n",
       "    </tr>\n",
       "    <tr>\n",
       "      <th>2014-03</th>\n",
       "      <td>[2210, 1511, 1366, 954, 517, 208, 76, 30, 10, 2]</td>\n",
       "      <td>[2165, 1896, 1444, 789, 376, 146, 48, 15, 2, 3]</td>\n",
       "    </tr>\n",
       "    <tr>\n",
       "      <th>2014-04</th>\n",
       "      <td>[2202, 1513, 1427, 926, 497, 205, 75, 22, 13, 4]</td>\n",
       "      <td>[2197, 1917, 1386, 818, 373, 127, 45, 16, 2, 3]</td>\n",
       "    </tr>\n",
       "    <tr>\n",
       "      <th>2014-05</th>\n",
       "      <td>[2341, 1697, 1381, 869, 397, 142, 34, 14, 8, 1]</td>\n",
       "      <td>[1918, 1763, 1475, 886, 469, 212, 106, 37, 15, 3]</td>\n",
       "    </tr>\n",
       "    <tr>\n",
       "      <th>2014-06</th>\n",
       "      <td>[2297, 1496, 1432, 905, 481, 189, 57, 21, 3, 3]</td>\n",
       "      <td>[1980, 1776, 1473, 856, 470, 192, 86, 33, 13, 5]</td>\n",
       "    </tr>\n",
       "    <tr>\n",
       "      <th>2014-07</th>\n",
       "      <td>[2291, 1587, 1373, 919, 451, 179, 60, 15, 6, 3]</td>\n",
       "      <td>[1960, 1844, 1400, 859, 492, 195, 79, 34, 16, 5]</td>\n",
       "    </tr>\n",
       "    <tr>\n",
       "      <th>2014-08</th>\n",
       "      <td>[2284, 1588, 1387, 896, 451, 176, 77, 17, 5, 3]</td>\n",
       "      <td>[1870, 1785, 1427, 881, 511, 269, 84, 31, 19, 7]</td>\n",
       "    </tr>\n",
       "    <tr>\n",
       "      <th>2014-09</th>\n",
       "      <td>[2267, 1583, 1379, 902, 464, 193, 67, 20, 7, 2]</td>\n",
       "      <td>[2042, 1910, 1356, 836, 459, 177, 64, 27, 8, 5]</td>\n",
       "    </tr>\n",
       "    <tr>\n",
       "      <th>2014-10</th>\n",
       "      <td>[2036, 1292, 1352, 1004, 651, 319, 154, 44, 19...</td>\n",
       "      <td>[1852, 1772, 1412, 908, 521, 234, 124, 33, 19, 9]</td>\n",
       "    </tr>\n",
       "    <tr>\n",
       "      <th>2014-11</th>\n",
       "      <td>[2335, 1668, 1459, 876, 369, 129, 34, 8, 5, 1]</td>\n",
       "      <td>[1852, 1776, 1379, 920, 514, 254, 108, 51, 22, 8]</td>\n",
       "    </tr>\n",
       "    <tr>\n",
       "      <th>2014-12</th>\n",
       "      <td>[2201, 1449, 1366, 965, 550, 228, 86, 27, 7, 5]</td>\n",
       "      <td>[1859, 1779, 1353, 917, 542, 239, 115, 48, 24, 8]</td>\n",
       "    </tr>\n",
       "    <tr>\n",
       "      <th>2015-01</th>\n",
       "      <td>[2197, 1530, 1339, 994, 483, 230, 77, 27, 4, 3]</td>\n",
       "      <td>[2342, 1962, 1419, 700, 319, 98, 33, 9, 1, 1]</td>\n",
       "    </tr>\n",
       "    <tr>\n",
       "      <th>2015-02</th>\n",
       "      <td>[2083, 1369, 1380, 999, 580, 280, 129, 44, 16, 4]</td>\n",
       "      <td>[1962, 1769, 1345, 849, 551, 233, 123, 34, 15, 3]</td>\n",
       "    </tr>\n",
       "    <tr>\n",
       "      <th>2015-03</th>\n",
       "      <td>[2377, 1668, 1468, 812, 368, 141, 39, 10, 0, 1]</td>\n",
       "      <td>[1868, 1707, 1352, 868, 518, 313, 155, 66, 25,...</td>\n",
       "    </tr>\n",
       "  </tbody>\n",
       "</table>\n",
       "</div>"
      ],
      "text/plain": [
       "                                       amt_sum_6M_baseline  \\\n",
       "date                                                         \n",
       "2014-01    [2173, 1504, 1372, 985, 498, 231, 79, 32, 7, 3]   \n",
       "2014-02    [2303, 1593, 1431, 871, 437, 166, 61, 18, 2, 2]   \n",
       "2014-03   [2210, 1511, 1366, 954, 517, 208, 76, 30, 10, 2]   \n",
       "2014-04   [2202, 1513, 1427, 926, 497, 205, 75, 22, 13, 4]   \n",
       "2014-05    [2341, 1697, 1381, 869, 397, 142, 34, 14, 8, 1]   \n",
       "2014-06    [2297, 1496, 1432, 905, 481, 189, 57, 21, 3, 3]   \n",
       "2014-07    [2291, 1587, 1373, 919, 451, 179, 60, 15, 6, 3]   \n",
       "2014-08    [2284, 1588, 1387, 896, 451, 176, 77, 17, 5, 3]   \n",
       "2014-09    [2267, 1583, 1379, 902, 464, 193, 67, 20, 7, 2]   \n",
       "2014-10  [2036, 1292, 1352, 1004, 651, 319, 154, 44, 19...   \n",
       "2014-11     [2335, 1668, 1459, 876, 369, 129, 34, 8, 5, 1]   \n",
       "2014-12    [2201, 1449, 1366, 965, 550, 228, 86, 27, 7, 5]   \n",
       "2015-01    [2197, 1530, 1339, 994, 483, 230, 77, 27, 4, 3]   \n",
       "2015-02  [2083, 1369, 1380, 999, 580, 280, 129, 44, 16, 4]   \n",
       "2015-03    [2377, 1668, 1468, 812, 368, 141, 39, 10, 0, 1]   \n",
       "\n",
       "                                         amt_sum_6M_target  \n",
       "date                                                        \n",
       "2014-01   [1882, 1812, 1426, 919, 479, 220, 93, 32, 14, 7]  \n",
       "2014-02    [2114, 1882, 1472, 767, 389, 171, 67, 15, 4, 3]  \n",
       "2014-03    [2165, 1896, 1444, 789, 376, 146, 48, 15, 2, 3]  \n",
       "2014-04    [2197, 1917, 1386, 818, 373, 127, 45, 16, 2, 3]  \n",
       "2014-05  [1918, 1763, 1475, 886, 469, 212, 106, 37, 15, 3]  \n",
       "2014-06   [1980, 1776, 1473, 856, 470, 192, 86, 33, 13, 5]  \n",
       "2014-07   [1960, 1844, 1400, 859, 492, 195, 79, 34, 16, 5]  \n",
       "2014-08   [1870, 1785, 1427, 881, 511, 269, 84, 31, 19, 7]  \n",
       "2014-09    [2042, 1910, 1356, 836, 459, 177, 64, 27, 8, 5]  \n",
       "2014-10  [1852, 1772, 1412, 908, 521, 234, 124, 33, 19, 9]  \n",
       "2014-11  [1852, 1776, 1379, 920, 514, 254, 108, 51, 22, 8]  \n",
       "2014-12  [1859, 1779, 1353, 917, 542, 239, 115, 48, 24, 8]  \n",
       "2015-01      [2342, 1962, 1419, 700, 319, 98, 33, 9, 1, 1]  \n",
       "2015-02  [1962, 1769, 1345, 849, 551, 233, 123, 34, 15, 3]  \n",
       "2015-03  [1868, 1707, 1352, 868, 518, 313, 155, 66, 25,...  "
      ]
     },
     "execution_count": 171,
     "metadata": {},
     "output_type": "execute_result"
    }
   ],
   "source": [
    "u = join_df.apply(lambda x: x.str[0])\n",
    "u"
   ]
  },
  {
   "cell_type": "code",
   "execution_count": 172,
   "id": "26d10f5f-0dfa-4d9e-bda7-8974351064d3",
   "metadata": {},
   "outputs": [],
   "source": [
    "for i in range(len(u)):\n",
    "    u['JS_values'] = distance.jensenshannon(u['amt_sum_6M_baseline'].values[i],u['amt_sum_6M_target'].values[i],2.0)"
   ]
  },
  {
   "cell_type": "code",
   "execution_count": 173,
   "id": "b3dd5230-daa6-4c37-93e9-cd13823accaa",
   "metadata": {},
   "outputs": [
    {
     "data": {
      "text/html": [
       "<div>\n",
       "<style scoped>\n",
       "    .dataframe tbody tr th:only-of-type {\n",
       "        vertical-align: middle;\n",
       "    }\n",
       "\n",
       "    .dataframe tbody tr th {\n",
       "        vertical-align: top;\n",
       "    }\n",
       "\n",
       "    .dataframe thead th {\n",
       "        text-align: right;\n",
       "    }\n",
       "</style>\n",
       "<table border=\"1\" class=\"dataframe\">\n",
       "  <thead>\n",
       "    <tr style=\"text-align: right;\">\n",
       "      <th></th>\n",
       "      <th>amt_sum_6M_baseline</th>\n",
       "      <th>amt_sum_6M_target</th>\n",
       "      <th>JS_values</th>\n",
       "    </tr>\n",
       "    <tr>\n",
       "      <th>date</th>\n",
       "      <th></th>\n",
       "      <th></th>\n",
       "      <th></th>\n",
       "    </tr>\n",
       "  </thead>\n",
       "  <tbody>\n",
       "    <tr>\n",
       "      <th>2014-01</th>\n",
       "      <td>[2173, 1504, 1372, 985, 498, 231, 79, 32, 7, 3]</td>\n",
       "      <td>[1882, 1812, 1426, 919, 479, 220, 93, 32, 14, 7]</td>\n",
       "      <td>0.055449</td>\n",
       "    </tr>\n",
       "    <tr>\n",
       "      <th>2014-02</th>\n",
       "      <td>[2303, 1593, 1431, 871, 437, 166, 61, 18, 2, 2]</td>\n",
       "      <td>[2114, 1882, 1472, 767, 389, 171, 67, 15, 4, 3]</td>\n",
       "      <td>0.047816</td>\n",
       "    </tr>\n",
       "    <tr>\n",
       "      <th>2014-03</th>\n",
       "      <td>[2210, 1511, 1366, 954, 517, 208, 76, 30, 10, 2]</td>\n",
       "      <td>[2165, 1896, 1444, 789, 376, 146, 48, 15, 2, 3]</td>\n",
       "      <td>0.076821</td>\n",
       "    </tr>\n",
       "    <tr>\n",
       "      <th>2014-04</th>\n",
       "      <td>[2202, 1513, 1427, 926, 497, 205, 75, 22, 13, 4]</td>\n",
       "      <td>[2197, 1917, 1386, 818, 373, 127, 45, 16, 2, 3]</td>\n",
       "      <td>0.075540</td>\n",
       "    </tr>\n",
       "    <tr>\n",
       "      <th>2014-05</th>\n",
       "      <td>[2341, 1697, 1381, 869, 397, 142, 34, 14, 8, 1]</td>\n",
       "      <td>[1918, 1763, 1475, 886, 469, 212, 106, 37, 15, 3]</td>\n",
       "      <td>0.079079</td>\n",
       "    </tr>\n",
       "    <tr>\n",
       "      <th>2014-06</th>\n",
       "      <td>[2297, 1496, 1432, 905, 481, 189, 57, 21, 3, 3]</td>\n",
       "      <td>[1980, 1776, 1473, 856, 470, 192, 86, 33, 13, 5]</td>\n",
       "      <td>0.058561</td>\n",
       "    </tr>\n",
       "    <tr>\n",
       "      <th>2014-07</th>\n",
       "      <td>[2291, 1587, 1373, 919, 451, 179, 60, 15, 6, 3]</td>\n",
       "      <td>[1960, 1844, 1400, 859, 492, 195, 79, 34, 16, 5]</td>\n",
       "      <td>0.058453</td>\n",
       "    </tr>\n",
       "    <tr>\n",
       "      <th>2014-08</th>\n",
       "      <td>[2284, 1588, 1387, 896, 451, 176, 77, 17, 5, 3]</td>\n",
       "      <td>[1870, 1785, 1427, 881, 511, 269, 84, 31, 19, 7]</td>\n",
       "      <td>0.069300</td>\n",
       "    </tr>\n",
       "    <tr>\n",
       "      <th>2014-09</th>\n",
       "      <td>[2267, 1583, 1379, 902, 464, 193, 67, 20, 7, 2]</td>\n",
       "      <td>[2042, 1910, 1356, 836, 459, 177, 64, 27, 8, 5]</td>\n",
       "      <td>0.050326</td>\n",
       "    </tr>\n",
       "    <tr>\n",
       "      <th>2014-10</th>\n",
       "      <td>[2036, 1292, 1352, 1004, 651, 319, 154, 44, 19...</td>\n",
       "      <td>[1852, 1772, 1412, 908, 521, 234, 124, 33, 19, 9]</td>\n",
       "      <td>0.080427</td>\n",
       "    </tr>\n",
       "    <tr>\n",
       "      <th>2014-11</th>\n",
       "      <td>[2335, 1668, 1459, 876, 369, 129, 34, 8, 5, 1]</td>\n",
       "      <td>[1852, 1776, 1379, 920, 514, 254, 108, 51, 22, 8]</td>\n",
       "      <td>0.107673</td>\n",
       "    </tr>\n",
       "    <tr>\n",
       "      <th>2014-12</th>\n",
       "      <td>[2201, 1449, 1366, 965, 550, 228, 86, 27, 7, 5]</td>\n",
       "      <td>[1859, 1779, 1353, 917, 542, 239, 115, 48, 24, 8]</td>\n",
       "      <td>0.066717</td>\n",
       "    </tr>\n",
       "    <tr>\n",
       "      <th>2015-01</th>\n",
       "      <td>[2197, 1530, 1339, 994, 483, 230, 77, 27, 4, 3]</td>\n",
       "      <td>[2342, 1962, 1419, 700, 319, 98, 33, 9, 1, 1]</td>\n",
       "      <td>0.109952</td>\n",
       "    </tr>\n",
       "    <tr>\n",
       "      <th>2015-02</th>\n",
       "      <td>[2083, 1369, 1380, 999, 580, 280, 129, 44, 16, 4]</td>\n",
       "      <td>[1962, 1769, 1345, 849, 551, 233, 123, 34, 15, 3]</td>\n",
       "      <td>0.062285</td>\n",
       "    </tr>\n",
       "    <tr>\n",
       "      <th>2015-03</th>\n",
       "      <td>[2377, 1668, 1468, 812, 368, 141, 39, 10, 0, 1]</td>\n",
       "      <td>[1868, 1707, 1352, 868, 518, 313, 155, 66, 25,...</td>\n",
       "      <td>0.130819</td>\n",
       "    </tr>\n",
       "  </tbody>\n",
       "</table>\n",
       "</div>"
      ],
      "text/plain": [
       "                                       amt_sum_6M_baseline  \\\n",
       "date                                                         \n",
       "2014-01    [2173, 1504, 1372, 985, 498, 231, 79, 32, 7, 3]   \n",
       "2014-02    [2303, 1593, 1431, 871, 437, 166, 61, 18, 2, 2]   \n",
       "2014-03   [2210, 1511, 1366, 954, 517, 208, 76, 30, 10, 2]   \n",
       "2014-04   [2202, 1513, 1427, 926, 497, 205, 75, 22, 13, 4]   \n",
       "2014-05    [2341, 1697, 1381, 869, 397, 142, 34, 14, 8, 1]   \n",
       "2014-06    [2297, 1496, 1432, 905, 481, 189, 57, 21, 3, 3]   \n",
       "2014-07    [2291, 1587, 1373, 919, 451, 179, 60, 15, 6, 3]   \n",
       "2014-08    [2284, 1588, 1387, 896, 451, 176, 77, 17, 5, 3]   \n",
       "2014-09    [2267, 1583, 1379, 902, 464, 193, 67, 20, 7, 2]   \n",
       "2014-10  [2036, 1292, 1352, 1004, 651, 319, 154, 44, 19...   \n",
       "2014-11     [2335, 1668, 1459, 876, 369, 129, 34, 8, 5, 1]   \n",
       "2014-12    [2201, 1449, 1366, 965, 550, 228, 86, 27, 7, 5]   \n",
       "2015-01    [2197, 1530, 1339, 994, 483, 230, 77, 27, 4, 3]   \n",
       "2015-02  [2083, 1369, 1380, 999, 580, 280, 129, 44, 16, 4]   \n",
       "2015-03    [2377, 1668, 1468, 812, 368, 141, 39, 10, 0, 1]   \n",
       "\n",
       "                                         amt_sum_6M_target  JS_values  \n",
       "date                                                                   \n",
       "2014-01   [1882, 1812, 1426, 919, 479, 220, 93, 32, 14, 7]   0.055449  \n",
       "2014-02    [2114, 1882, 1472, 767, 389, 171, 67, 15, 4, 3]   0.047816  \n",
       "2014-03    [2165, 1896, 1444, 789, 376, 146, 48, 15, 2, 3]   0.076821  \n",
       "2014-04    [2197, 1917, 1386, 818, 373, 127, 45, 16, 2, 3]   0.075540  \n",
       "2014-05  [1918, 1763, 1475, 886, 469, 212, 106, 37, 15, 3]   0.079079  \n",
       "2014-06   [1980, 1776, 1473, 856, 470, 192, 86, 33, 13, 5]   0.058561  \n",
       "2014-07   [1960, 1844, 1400, 859, 492, 195, 79, 34, 16, 5]   0.058453  \n",
       "2014-08   [1870, 1785, 1427, 881, 511, 269, 84, 31, 19, 7]   0.069300  \n",
       "2014-09    [2042, 1910, 1356, 836, 459, 177, 64, 27, 8, 5]   0.050326  \n",
       "2014-10  [1852, 1772, 1412, 908, 521, 234, 124, 33, 19, 9]   0.080427  \n",
       "2014-11  [1852, 1776, 1379, 920, 514, 254, 108, 51, 22, 8]   0.107673  \n",
       "2014-12  [1859, 1779, 1353, 917, 542, 239, 115, 48, 24, 8]   0.066717  \n",
       "2015-01      [2342, 1962, 1419, 700, 319, 98, 33, 9, 1, 1]   0.109952  \n",
       "2015-02  [1962, 1769, 1345, 849, 551, 233, 123, 34, 15, 3]   0.062285  \n",
       "2015-03  [1868, 1707, 1352, 868, 518, 313, 155, 66, 25,...   0.130819  "
      ]
     },
     "execution_count": 173,
     "metadata": {},
     "output_type": "execute_result"
    }
   ],
   "source": [
    "for i in range(len(u)):\n",
    "    u['JS_values'][i] = distance.jensenshannon(u['amt_sum_6M_baseline'].values[i],u['amt_sum_6M_target'].values[i],2.0)\n",
    "u"
   ]
  },
  {
   "cell_type": "code",
   "execution_count": 174,
   "id": "7a46df37-9162-40c7-9763-7cb04727aafe",
   "metadata": {},
   "outputs": [],
   "source": [
    "u_df = u.reset_index()"
   ]
  },
  {
   "cell_type": "code",
   "execution_count": 175,
   "id": "2d6d7942-6c68-49de-8321-67ae137c37bc",
   "metadata": {},
   "outputs": [
    {
     "data": {
      "text/plain": [
       "Text(0.5, 1.0, 'JS_values for amt_sum_6M')"
      ]
     },
     "execution_count": 175,
     "metadata": {},
     "output_type": "execute_result"
    },
    {
     "data": {
      "image/png": "[encoded data removed]",
      "text/plain": [
       "<Figure size 432x288 with 1 Axes>"
      ]
     },
     "metadata": {
      "needs_background": "light"
     },
     "output_type": "display_data"
    }
   ],
   "source": [
    "u_df.plot(x='date', y=['JS_values'], style='o')\n",
    "plt.xlabel('date')\n",
    "plt.ylabel('JS_values')\n",
    "plt.title('JS_values for amt_sum_6M')"
   ]
  },
  {
   "cell_type": "markdown",
   "id": "e32cba36-69aa-4373-9638-479be0b1f965",
   "metadata": {},
   "source": [
    "### Comments"
   ]
  },
  {
   "cell_type": "markdown",
   "id": "aeba9493-c210-40f2-b415-8a9df2521c7e",
   "metadata": {},
   "source": [
    "1) The top 5 features were extracted from the feature importance graph and drift analysis was done for each.<br>\n",
    "2) The drift values were calculated using the Jensen-Shannon diveregence metric.<br>\n",
    "3) The feature which caused the maximum drift wass amt_max_12M which has a drift value of 0.3 for all the months after 2013.<br>\n",
    "4) The feature which caused the least drift among the top 5 features were \"amt_sum_6M\" and \"amt_mean_6M\". Both had drift values between 0.04-0.06 which is almost negligible.<br>\n",
    "5) If the JS values are close to 0, there is not much difference in the distributions.<br>\n",
    "6) If the JS values are > 0.2, the distributions are very different.<br>"
   ]
  }
 ],
 "metadata": {
  "kernelspec": {
   "display_name": "Python 3",
   "language": "python",
   "name": "python3"
  },
  "language_info": {
   "codemirror_mode": {
    "name": "ipython",
    "version": 3
   },
   "file_extension": ".py",
   "mimetype": "text/x-python",
   "name": "python",
   "nbconvert_exporter": "python",
   "pygments_lexer": "ipython3",
   "version": "3.8.8"
  }
 },
 "nbformat": 4,
 "nbformat_minor": 5
}
